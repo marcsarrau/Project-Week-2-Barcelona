{
 "cells": [
  {
   "cell_type": "code",
   "execution_count": 2,
   "metadata": {},
   "outputs": [],
   "source": [
    "import pandas as pd\n",
    "import numpy as np"
   ]
  },
  {
   "cell_type": "code",
   "execution_count": 3,
   "metadata": {
    "scrolled": true
   },
   "outputs": [
    {
     "data": {
      "text/plain": [
       "Index(['Número d'expedient', 'Codi districte', 'Nom districte', 'Codi barri',\n",
       "       'Nom barri', 'Codi carrer', 'Nom carrer', 'Num postal caption',\n",
       "       'Descripció dia setmana', 'Dia setmana', 'Descripció tipus dia',\n",
       "       'NK Any', 'Mes de any', 'Nom mes', 'Dia de mes', 'Descripció torn',\n",
       "       'Hora de dia', 'Descripció causa vianant',\n",
       "       'Desc. Tipus vehicle implicat', 'Descripció sexe',\n",
       "       'Descripció tipus persona', 'Edat', 'Descripció victimització',\n",
       "       'Coordenada UTM (Y)', 'Coordenada UTM (X)'],\n",
       "      dtype='object')"
      ]
     },
     "execution_count": 3,
     "metadata": {},
     "output_type": "execute_result"
    }
   ],
   "source": [
    "accidents=pd.read_csv('../datasets/data/Question456/2013_ACCIDENTS_PERSONES_GU_BCN_.csv', encoding= 'unicode_escape')\n",
    "accidents.columns"
   ]
  },
  {
   "cell_type": "code",
   "execution_count": 4,
   "metadata": {
    "scrolled": true
   },
   "outputs": [
    {
     "data": {
      "text/html": [
       "<div>\n",
       "<style scoped>\n",
       "    .dataframe tbody tr th:only-of-type {\n",
       "        vertical-align: middle;\n",
       "    }\n",
       "\n",
       "    .dataframe tbody tr th {\n",
       "        vertical-align: top;\n",
       "    }\n",
       "\n",
       "    .dataframe thead th {\n",
       "        text-align: right;\n",
       "    }\n",
       "</style>\n",
       "<table border=\"1\" class=\"dataframe\">\n",
       "  <thead>\n",
       "    <tr style=\"text-align: right;\">\n",
       "      <th></th>\n",
       "      <th>Número d'expedient</th>\n",
       "      <th>Codi districte</th>\n",
       "      <th>Nom districte</th>\n",
       "      <th>Codi barri</th>\n",
       "      <th>Nom barri</th>\n",
       "      <th>Codi carrer</th>\n",
       "      <th>Nom carrer</th>\n",
       "      <th>Num postal caption</th>\n",
       "      <th>Descripció dia setmana</th>\n",
       "      <th>Dia setmana</th>\n",
       "      <th>...</th>\n",
       "      <th>Descripció torn</th>\n",
       "      <th>Hora de dia</th>\n",
       "      <th>Descripció causa vianant</th>\n",
       "      <th>Desc. Tipus vehicle implicat</th>\n",
       "      <th>Descripció sexe</th>\n",
       "      <th>Descripció tipus persona</th>\n",
       "      <th>Edat</th>\n",
       "      <th>Descripció victimització</th>\n",
       "      <th>Coordenada UTM (Y)</th>\n",
       "      <th>Coordenada UTM (X)</th>\n",
       "    </tr>\n",
       "  </thead>\n",
       "  <tbody>\n",
       "    <tr>\n",
       "      <th>0</th>\n",
       "      <td>2013S000529</td>\n",
       "      <td>5</td>\n",
       "      <td>Sarrià-Sant Gervasi</td>\n",
       "      <td>26</td>\n",
       "      <td>Sant Gervasi - Galvany</td>\n",
       "      <td>28000</td>\n",
       "      <td>Augusta</td>\n",
       "      <td>0061 0061</td>\n",
       "      <td>Dimecres</td>\n",
       "      <td>Dc</td>\n",
       "      <td>...</td>\n",
       "      <td>Nit</td>\n",
       "      <td>0</td>\n",
       "      <td>No és causa del  vianant</td>\n",
       "      <td>Turismo</td>\n",
       "      <td>Home</td>\n",
       "      <td>Conductor</td>\n",
       "      <td>32</td>\n",
       "      <td>Ferit lleu</td>\n",
       "      <td>4583707,15</td>\n",
       "      <td>429170,30</td>\n",
       "    </tr>\n",
       "    <tr>\n",
       "      <th>1</th>\n",
       "      <td>2013S000535</td>\n",
       "      <td>10</td>\n",
       "      <td>Sant Martí</td>\n",
       "      <td>64</td>\n",
       "      <td>el Camp de l'Arpa del Clot</td>\n",
       "      <td>226400</td>\n",
       "      <td>Las Navas de Tolosa</td>\n",
       "      <td>0329 0329</td>\n",
       "      <td>Dimecres</td>\n",
       "      <td>Dc</td>\n",
       "      <td>...</td>\n",
       "      <td>Matí</td>\n",
       "      <td>7</td>\n",
       "      <td>No és causa del  vianant</td>\n",
       "      <td>Ciclomotor</td>\n",
       "      <td>Home</td>\n",
       "      <td>Conductor</td>\n",
       "      <td>39</td>\n",
       "      <td>Ferit lleu</td>\n",
       "      <td>4585527,16</td>\n",
       "      <td>431983,63</td>\n",
       "    </tr>\n",
       "    <tr>\n",
       "      <th>2</th>\n",
       "      <td>2013S000072</td>\n",
       "      <td>10</td>\n",
       "      <td>Sant Martí</td>\n",
       "      <td>64</td>\n",
       "      <td>el Camp de l'Arpa del Clot</td>\n",
       "      <td>109101</td>\n",
       "      <td>Enamorats</td>\n",
       "      <td>0152 0152</td>\n",
       "      <td>Divendres</td>\n",
       "      <td>Dv</td>\n",
       "      <td>...</td>\n",
       "      <td>Tarda</td>\n",
       "      <td>17</td>\n",
       "      <td>No és causa del  vianant</td>\n",
       "      <td>Tractocamión</td>\n",
       "      <td>Dona</td>\n",
       "      <td>Vianant</td>\n",
       "      <td>80</td>\n",
       "      <td>Ferit lleu</td>\n",
       "      <td>4584645,89</td>\n",
       "      <td>431991,79</td>\n",
       "    </tr>\n",
       "  </tbody>\n",
       "</table>\n",
       "<p>3 rows × 25 columns</p>\n",
       "</div>"
      ],
      "text/plain": [
       "  Número d'expedient  Codi districte        Nom districte  Codi barri  \\\n",
       "0    2013S000529                   5  Sarrià-Sant Gervasi          26   \n",
       "1    2013S000535                  10           Sant Martí          64   \n",
       "2    2013S000072                  10           Sant Martí          64   \n",
       "\n",
       "                    Nom barri  Codi carrer           Nom carrer  \\\n",
       "0      Sant Gervasi - Galvany        28000              Augusta   \n",
       "1  el Camp de l'Arpa del Clot       226400  Las Navas de Tolosa   \n",
       "2  el Camp de l'Arpa del Clot       109101            Enamorats   \n",
       "\n",
       "  Num postal caption Descripció dia setmana Dia setmana  ... Descripció torn  \\\n",
       "0          0061 0061               Dimecres          Dc  ...             Nit   \n",
       "1          0329 0329               Dimecres          Dc  ...            Matí   \n",
       "2          0152 0152              Divendres          Dv  ...           Tarda   \n",
       "\n",
       "   Hora de dia  Descripció causa vianant Desc. Tipus vehicle implicat  \\\n",
       "0            0  No és causa del  vianant                      Turismo   \n",
       "1            7  No és causa del  vianant                   Ciclomotor   \n",
       "2           17  No és causa del  vianant                 Tractocamión   \n",
       "\n",
       "   Descripció sexe Descripció tipus persona  Edat Descripció victimització  \\\n",
       "0             Home                Conductor    32               Ferit lleu   \n",
       "1             Home                Conductor    39               Ferit lleu   \n",
       "2             Dona                  Vianant    80               Ferit lleu   \n",
       "\n",
       "  Coordenada UTM (Y) Coordenada UTM (X)  \n",
       "0         4583707,15          429170,30  \n",
       "1         4585527,16          431983,63  \n",
       "2         4584645,89          431991,79  \n",
       "\n",
       "[3 rows x 25 columns]"
      ]
     },
     "execution_count": 4,
     "metadata": {},
     "output_type": "execute_result"
    }
   ],
   "source": [
    "accidents.head(3)"
   ]
  },
  {
   "cell_type": "code",
   "execution_count": 13,
   "metadata": {},
   "outputs": [],
   "source": [
    "accidents.columns=['Numero_expedient', 'Codi_districte', 'Nom_districte', 'Codi_barri',\n",
    "       'Nom_barri', 'Codi_carrer', 'Nom_carrer', 'Num_postal ',\n",
    "       'Descripcio_dia_setmana', 'Dia_setmana', 'Descripcio_tipus_dia',\n",
    "       'Any', 'Mes_any', 'Nom_mes', 'Dia_mes', 'Descripcio_torn','Hora_dia',\n",
    "       'Descripcio_causa_vianant', 'Desc_Tipus_vehicle_implicat',\n",
    "       'Descripcio_sexe', 'Descripcio_tipus_persona', 'Edat',\n",
    "       'Descripcio_victimitzacio', 'Coordenada UTM (Y)', 'Coordenada UTM (X)']"
   ]
  },
  {
   "cell_type": "code",
   "execution_count": 14,
   "metadata": {},
   "outputs": [],
   "source": [
    "motocyclo_accidents=accidents.drop(['Codi_districte', 'Codi_barri', 'Nom_barri', 'Codi_carrer', 'Nom_carrer', 'Num_postal ', 'Dia_setmana', 'Descripcio_tipus_dia', \n",
    "             'Descripcio_causa_vianant', 'Coordenada UTM (Y)', 'Coordenada UTM (X)'], axis=1, inplace=True)"
   ]
  },
  {
   "cell_type": "code",
   "execution_count": 15,
   "metadata": {},
   "outputs": [],
   "source": [
    "\n",
    "motocyclo_accidents = accidents[accidents['Desc_Tipus_vehicle_implicat'].isin(['Motocicleta', 'Ciclomotor'])]\n",
    "motocyclo_accidents = motocyclo_accidents[motocyclo_accidents.Edat != \"Desconegut\"]\n",
    "motocyclo_accidents = motocyclo_accidents[motocyclo_accidents.Nom_districte != \"Desconegut\"]\n",
    "motocyclo_accidents = motocyclo_accidents[motocyclo_accidents.Descripcio_sexe != \"Desconegut\"]\n",
    "motocyclo_accidents['Edat'] = motocyclo_accidents['Edat'].astype(str).astype(int)\n",
    "motocyclo_accidents = motocyclo_accidents[['Any', 'Numero_expedient', 'Nom_districte', 'Descripcio_dia_setmana', 'Mes_any', 'Nom_mes', 'Dia_mes', \n",
    "                                           'Hora_dia', 'Desc_Tipus_vehicle_implicat', 'Descripcio_sexe', 'Edat', 'Descripcio_tipus_persona', 'Descripcio_victimitzacio']]"
   ]
  },
  {
   "cell_type": "code",
   "execution_count": 16,
   "metadata": {},
   "outputs": [
    {
     "data": {
      "text/html": [
       "<div>\n",
       "<style scoped>\n",
       "    .dataframe tbody tr th:only-of-type {\n",
       "        vertical-align: middle;\n",
       "    }\n",
       "\n",
       "    .dataframe tbody tr th {\n",
       "        vertical-align: top;\n",
       "    }\n",
       "\n",
       "    .dataframe thead th {\n",
       "        text-align: right;\n",
       "    }\n",
       "</style>\n",
       "<table border=\"1\" class=\"dataframe\">\n",
       "  <thead>\n",
       "    <tr style=\"text-align: right;\">\n",
       "      <th></th>\n",
       "      <th>Any</th>\n",
       "      <th>Numero_expedient</th>\n",
       "      <th>Nom_districte</th>\n",
       "      <th>Descripcio_dia_setmana</th>\n",
       "      <th>Mes_any</th>\n",
       "      <th>Nom_mes</th>\n",
       "      <th>Dia_mes</th>\n",
       "      <th>Hora_dia</th>\n",
       "      <th>Desc_Tipus_vehicle_implicat</th>\n",
       "      <th>Descripcio_sexe</th>\n",
       "      <th>Edat</th>\n",
       "      <th>Descripcio_tipus_persona</th>\n",
       "      <th>Descripcio_victimitzacio</th>\n",
       "    </tr>\n",
       "  </thead>\n",
       "  <tbody>\n",
       "    <tr>\n",
       "      <th>1</th>\n",
       "      <td>2013</td>\n",
       "      <td>2013S000535</td>\n",
       "      <td>Sant Martí</td>\n",
       "      <td>Dimecres</td>\n",
       "      <td>1</td>\n",
       "      <td>Gener</td>\n",
       "      <td>23</td>\n",
       "      <td>7</td>\n",
       "      <td>Ciclomotor</td>\n",
       "      <td>Home</td>\n",
       "      <td>39</td>\n",
       "      <td>Conductor</td>\n",
       "      <td>Ferit lleu</td>\n",
       "    </tr>\n",
       "    <tr>\n",
       "      <th>5</th>\n",
       "      <td>2013</td>\n",
       "      <td>2013S000077</td>\n",
       "      <td>Sant Andreu</td>\n",
       "      <td>Divendres</td>\n",
       "      <td>1</td>\n",
       "      <td>Gener</td>\n",
       "      <td>4</td>\n",
       "      <td>18</td>\n",
       "      <td>Motocicleta</td>\n",
       "      <td>Home</td>\n",
       "      <td>27</td>\n",
       "      <td>Conductor</td>\n",
       "      <td>Ferit lleu</td>\n",
       "    </tr>\n",
       "    <tr>\n",
       "      <th>7</th>\n",
       "      <td>2013</td>\n",
       "      <td>2013S000101</td>\n",
       "      <td>Sants-Montjuïc</td>\n",
       "      <td>Diumenge</td>\n",
       "      <td>1</td>\n",
       "      <td>Gener</td>\n",
       "      <td>6</td>\n",
       "      <td>18</td>\n",
       "      <td>Motocicleta</td>\n",
       "      <td>Home</td>\n",
       "      <td>35</td>\n",
       "      <td>Conductor</td>\n",
       "      <td>Ferit lleu</td>\n",
       "    </tr>\n",
       "    <tr>\n",
       "      <th>10</th>\n",
       "      <td>2013</td>\n",
       "      <td>2013S000124</td>\n",
       "      <td>Eixample</td>\n",
       "      <td>Dilluns</td>\n",
       "      <td>1</td>\n",
       "      <td>Gener</td>\n",
       "      <td>7</td>\n",
       "      <td>14</td>\n",
       "      <td>Motocicleta</td>\n",
       "      <td>Home</td>\n",
       "      <td>37</td>\n",
       "      <td>Conductor</td>\n",
       "      <td>Ferit lleu</td>\n",
       "    </tr>\n",
       "    <tr>\n",
       "      <th>11</th>\n",
       "      <td>2013</td>\n",
       "      <td>2013S000140</td>\n",
       "      <td>Sants-Montjuïc</td>\n",
       "      <td>Dilluns</td>\n",
       "      <td>1</td>\n",
       "      <td>Gener</td>\n",
       "      <td>7</td>\n",
       "      <td>22</td>\n",
       "      <td>Ciclomotor</td>\n",
       "      <td>Dona</td>\n",
       "      <td>26</td>\n",
       "      <td>Conductor</td>\n",
       "      <td>Ferit lleu</td>\n",
       "    </tr>\n",
       "    <tr>\n",
       "      <th>...</th>\n",
       "      <td>...</td>\n",
       "      <td>...</td>\n",
       "      <td>...</td>\n",
       "      <td>...</td>\n",
       "      <td>...</td>\n",
       "      <td>...</td>\n",
       "      <td>...</td>\n",
       "      <td>...</td>\n",
       "      <td>...</td>\n",
       "      <td>...</td>\n",
       "      <td>...</td>\n",
       "      <td>...</td>\n",
       "      <td>...</td>\n",
       "    </tr>\n",
       "    <tr>\n",
       "      <th>11370</th>\n",
       "      <td>2013</td>\n",
       "      <td>2013S009119</td>\n",
       "      <td>Gràcia</td>\n",
       "      <td>Dimarts</td>\n",
       "      <td>12</td>\n",
       "      <td>Desembre</td>\n",
       "      <td>17</td>\n",
       "      <td>14</td>\n",
       "      <td>Motocicleta</td>\n",
       "      <td>Home</td>\n",
       "      <td>60</td>\n",
       "      <td>Conductor</td>\n",
       "      <td>Ferit lleu</td>\n",
       "    </tr>\n",
       "    <tr>\n",
       "      <th>11371</th>\n",
       "      <td>2013</td>\n",
       "      <td>2013S009120</td>\n",
       "      <td>Eixample</td>\n",
       "      <td>Dimarts</td>\n",
       "      <td>12</td>\n",
       "      <td>Desembre</td>\n",
       "      <td>17</td>\n",
       "      <td>16</td>\n",
       "      <td>Motocicleta</td>\n",
       "      <td>Home</td>\n",
       "      <td>25</td>\n",
       "      <td>Conductor</td>\n",
       "      <td>Ferit lleu</td>\n",
       "    </tr>\n",
       "    <tr>\n",
       "      <th>11373</th>\n",
       "      <td>2013</td>\n",
       "      <td>2013S009151</td>\n",
       "      <td>Les Corts</td>\n",
       "      <td>Dimecres</td>\n",
       "      <td>12</td>\n",
       "      <td>Desembre</td>\n",
       "      <td>18</td>\n",
       "      <td>13</td>\n",
       "      <td>Motocicleta</td>\n",
       "      <td>Home</td>\n",
       "      <td>35</td>\n",
       "      <td>Conductor</td>\n",
       "      <td>Ferit lleu</td>\n",
       "    </tr>\n",
       "    <tr>\n",
       "      <th>11374</th>\n",
       "      <td>2013</td>\n",
       "      <td>2013S009152</td>\n",
       "      <td>Sarrià-Sant Gervasi</td>\n",
       "      <td>Dimecres</td>\n",
       "      <td>12</td>\n",
       "      <td>Desembre</td>\n",
       "      <td>18</td>\n",
       "      <td>12</td>\n",
       "      <td>Motocicleta</td>\n",
       "      <td>Dona</td>\n",
       "      <td>25</td>\n",
       "      <td>Conductor</td>\n",
       "      <td>Ferit lleu</td>\n",
       "    </tr>\n",
       "    <tr>\n",
       "      <th>11375</th>\n",
       "      <td>2013</td>\n",
       "      <td>2013S008669</td>\n",
       "      <td>Eixample</td>\n",
       "      <td>Dilluns</td>\n",
       "      <td>12</td>\n",
       "      <td>Desembre</td>\n",
       "      <td>2</td>\n",
       "      <td>11</td>\n",
       "      <td>Motocicleta</td>\n",
       "      <td>Home</td>\n",
       "      <td>58</td>\n",
       "      <td>Conductor</td>\n",
       "      <td>Ferit lleu</td>\n",
       "    </tr>\n",
       "  </tbody>\n",
       "</table>\n",
       "<p>6409 rows × 13 columns</p>\n",
       "</div>"
      ],
      "text/plain": [
       "        Any Numero_expedient        Nom_districte Descripcio_dia_setmana  \\\n",
       "1      2013  2013S000535               Sant Martí               Dimecres   \n",
       "5      2013  2013S000077              Sant Andreu              Divendres   \n",
       "7      2013  2013S000101           Sants-Montjuïc               Diumenge   \n",
       "10     2013  2013S000124                 Eixample                Dilluns   \n",
       "11     2013  2013S000140           Sants-Montjuïc                Dilluns   \n",
       "...     ...              ...                  ...                    ...   \n",
       "11370  2013  2013S009119                   Gràcia                Dimarts   \n",
       "11371  2013  2013S009120                 Eixample                Dimarts   \n",
       "11373  2013  2013S009151                Les Corts               Dimecres   \n",
       "11374  2013  2013S009152      Sarrià-Sant Gervasi               Dimecres   \n",
       "11375  2013  2013S008669                 Eixample                Dilluns   \n",
       "\n",
       "       Mes_any   Nom_mes  Dia_mes  Hora_dia Desc_Tipus_vehicle_implicat  \\\n",
       "1            1     Gener       23         7                  Ciclomotor   \n",
       "5            1     Gener        4        18                 Motocicleta   \n",
       "7            1     Gener        6        18                 Motocicleta   \n",
       "10           1     Gener        7        14                 Motocicleta   \n",
       "11           1     Gener        7        22                  Ciclomotor   \n",
       "...        ...       ...      ...       ...                         ...   \n",
       "11370       12  Desembre       17        14                 Motocicleta   \n",
       "11371       12  Desembre       17        16                 Motocicleta   \n",
       "11373       12  Desembre       18        13                 Motocicleta   \n",
       "11374       12  Desembre       18        12                 Motocicleta   \n",
       "11375       12  Desembre        2        11                 Motocicleta   \n",
       "\n",
       "      Descripcio_sexe  Edat Descripcio_tipus_persona Descripcio_victimitzacio  \n",
       "1                Home    39                Conductor               Ferit lleu  \n",
       "5                Home    27                Conductor               Ferit lleu  \n",
       "7                Home    35                Conductor               Ferit lleu  \n",
       "10               Home    37                Conductor               Ferit lleu  \n",
       "11               Dona    26                Conductor               Ferit lleu  \n",
       "...               ...   ...                      ...                      ...  \n",
       "11370            Home    60                Conductor               Ferit lleu  \n",
       "11371            Home    25                Conductor               Ferit lleu  \n",
       "11373            Home    35                Conductor               Ferit lleu  \n",
       "11374            Dona    25                Conductor               Ferit lleu  \n",
       "11375            Home    58                Conductor               Ferit lleu  \n",
       "\n",
       "[6409 rows x 13 columns]"
      ]
     },
     "execution_count": 16,
     "metadata": {},
     "output_type": "execute_result"
    }
   ],
   "source": [
    "motocyclo_accidents"
   ]
  },
  {
   "cell_type": "code",
   "execution_count": 34,
   "metadata": {},
   "outputs": [
    {
     "data": {
      "text/plain": [
       "6409"
      ]
     },
     "execution_count": 34,
     "metadata": {},
     "output_type": "execute_result"
    }
   ],
   "source": [
    "motocyclo_accidents[\"Numero_expedient\"].count()"
   ]
  },
  {
   "cell_type": "code",
   "execution_count": 17,
   "metadata": {},
   "outputs": [
    {
     "data": {
      "text/plain": [
       "Eixample               2256\n",
       "Sarrià-Sant Gervasi     804\n",
       "Sant Martí              668\n",
       "Sants-Montjuïc          623\n",
       "Les Corts               479\n",
       "Horta-Guinardó          399\n",
       "Gràcia                  348\n",
       "Sant Andreu             314\n",
       "Ciutat Vella            309\n",
       "Nou Barris              209\n",
       "Name: Nom_districte, dtype: int64"
      ]
     },
     "execution_count": 17,
     "metadata": {},
     "output_type": "execute_result"
    }
   ],
   "source": [
    "motocyclo_accidents['Nom_districte'].value_counts()"
   ]
  },
  {
   "cell_type": "code",
   "execution_count": 18,
   "metadata": {},
   "outputs": [
    {
     "data": {
      "text/plain": [
       "Divendres    1131\n",
       "Dijous       1103\n",
       "Dimarts      1060\n",
       "Dimecres     1050\n",
       "Dilluns       975\n",
       "Dissabte      651\n",
       "Diumenge      439\n",
       "Name: Descripcio_dia_setmana, dtype: int64"
      ]
     },
     "execution_count": 18,
     "metadata": {},
     "output_type": "execute_result"
    }
   ],
   "source": [
    "motocyclo_accidents['Descripcio_dia_setmana'].value_counts()"
   ]
  },
  {
   "cell_type": "code",
   "execution_count": 19,
   "metadata": {},
   "outputs": [
    {
     "data": {
      "text/plain": [
       "Octubre     634\n",
       "Juliol      598\n",
       "Desembre    585\n",
       "Abril       565\n",
       "Febrer      549\n",
       "Novembre    546\n",
       "Gener       544\n",
       "Maig        528\n",
       "Juny        514\n",
       "Setembre    502\n",
       "Març        495\n",
       "Agost       349\n",
       "Name: Nom_mes, dtype: int64"
      ]
     },
     "execution_count": 19,
     "metadata": {},
     "output_type": "execute_result"
    }
   ],
   "source": [
    "motocyclo_accidents['Nom_mes'].value_counts()"
   ]
  },
  {
   "cell_type": "code",
   "execution_count": 20,
   "metadata": {},
   "outputs": [
    {
     "data": {
      "text/plain": [
       "18    264\n",
       "19    258\n",
       "22    254\n",
       "4     249\n",
       "15    238\n",
       "14    232\n",
       "8     229\n",
       "11    229\n",
       "26    225\n",
       "20    223\n",
       "5     215\n",
       "21    214\n",
       "12    213\n",
       "13    211\n",
       "27    203\n",
       "23    201\n",
       "30    200\n",
       "29    196\n",
       "17    195\n",
       "3     194\n",
       "16    194\n",
       "25    189\n",
       "6     185\n",
       "10    183\n",
       "28    183\n",
       "2     182\n",
       "7     182\n",
       "9     180\n",
       "24    179\n",
       "1     178\n",
       "31    131\n",
       "Name: Dia_mes, dtype: int64"
      ]
     },
     "execution_count": 20,
     "metadata": {},
     "output_type": "execute_result"
    }
   ],
   "source": [
    "motocyclo_accidents['Dia_mes'].value_counts()"
   ]
  },
  {
   "cell_type": "code",
   "execution_count": 21,
   "metadata": {},
   "outputs": [
    {
     "data": {
      "text/plain": [
       "14    538\n",
       "13    453\n",
       "18    452\n",
       "17    427\n",
       "20    424\n",
       "15    420\n",
       "19    415\n",
       "9     403\n",
       "12    390\n",
       "8     380\n",
       "16    370\n",
       "11    331\n",
       "21    295\n",
       "10    258\n",
       "22    200\n",
       "7     180\n",
       "23    123\n",
       "0      90\n",
       "1      67\n",
       "6      55\n",
       "2      48\n",
       "3      39\n",
       "4      26\n",
       "5      25\n",
       "Name: Hora_dia, dtype: int64"
      ]
     },
     "execution_count": 21,
     "metadata": {},
     "output_type": "execute_result"
    }
   ],
   "source": [
    "motocyclo_accidents['Hora_dia'].value_counts()"
   ]
  },
  {
   "cell_type": "code",
   "execution_count": 22,
   "metadata": {},
   "outputs": [
    {
     "data": {
      "text/plain": [
       "Motocicleta    5230\n",
       "Ciclomotor     1179\n",
       "Name: Desc_Tipus_vehicle_implicat, dtype: int64"
      ]
     },
     "execution_count": 22,
     "metadata": {},
     "output_type": "execute_result"
    }
   ],
   "source": [
    "motocyclo_accidents['Desc_Tipus_vehicle_implicat'].value_counts()"
   ]
  },
  {
   "cell_type": "code",
   "execution_count": 23,
   "metadata": {},
   "outputs": [
    {
     "data": {
      "text/plain": [
       "Home    4343\n",
       "Dona    2066\n",
       "Name: Descripcio_sexe, dtype: int64"
      ]
     },
     "execution_count": 23,
     "metadata": {},
     "output_type": "execute_result"
    }
   ],
   "source": [
    "motocyclo_accidents['Descripcio_sexe'].value_counts()"
   ]
  },
  {
   "cell_type": "code",
   "execution_count": 24,
   "metadata": {},
   "outputs": [
    {
     "data": {
      "text/plain": [
       "Age\n",
       "-14s        649\n",
       "15-20s     7895\n",
       "21-29s    45450\n",
       "30-39s    64257\n",
       "40-49s    54741\n",
       "50-59s    35123\n",
       "60-65s    11448\n",
       "66-75s     6583\n",
       "+75s        760\n",
       "Name: Edat, dtype: int64"
      ]
     },
     "execution_count": 24,
     "metadata": {},
     "output_type": "execute_result"
    }
   ],
   "source": [
    "motocyclo_accidents['Age'] = pd.cut(motocyclo_accidents['Edat'], bins=[0, 14, 20, 29, 39, 49, 59, 65, 75, 76], labels=[\"-14s\", \"15-20s\", \"21-29s\",\"30-39s\",\n",
    "                                                                                                                        \"40-49s\", \"50-59s\", \"60-65s\", \"66-75s\", \"+75s\"])                                                                                    \n",
    "motocyclo_accidents.groupby('Age')['Edat'].sum()"
   ]
  },
  {
   "cell_type": "code",
   "execution_count": 25,
   "metadata": {},
   "outputs": [
    {
     "data": {
      "text/plain": [
       "Conductor    5417\n",
       "Passatger     688\n",
       "Vianant       304\n",
       "Name: Descripcio_tipus_persona, dtype: int64"
      ]
     },
     "execution_count": 25,
     "metadata": {},
     "output_type": "execute_result"
    }
   ],
   "source": [
    "motocyclo_accidents['Descripcio_tipus_persona'].value_counts()"
   ]
  },
  {
   "cell_type": "code",
   "execution_count": 26,
   "metadata": {},
   "outputs": [
    {
     "data": {
      "text/plain": [
       "Ferit lleu    6217\n",
       "Ferit greu     176\n",
       "Mort            16\n",
       "Name: Descripcio_victimitzacio, dtype: int64"
      ]
     },
     "execution_count": 26,
     "metadata": {},
     "output_type": "execute_result"
    }
   ],
   "source": [
    "motocyclo_accidents['Descripcio_victimitzacio'].value_counts()"
   ]
  },
  {
   "cell_type": "code",
   "execution_count": 27,
   "metadata": {},
   "outputs": [
    {
     "data": {
      "text/plain": [
       "Nom_districte\n",
       "Ciutat Vella            309\n",
       "Eixample               2256\n",
       "Gràcia                  348\n",
       "Horta-Guinardó          399\n",
       "Les Corts               479\n",
       "Nou Barris              209\n",
       "Sant Andreu             314\n",
       "Sant Martí              668\n",
       "Sants-Montjuïc          623\n",
       "Sarrià-Sant Gervasi     804\n",
       "Name: Descripcio_victimitzacio, dtype: int64"
      ]
     },
     "execution_count": 27,
     "metadata": {},
     "output_type": "execute_result"
    }
   ],
   "source": [
    "motocyclo_accidents.groupby(['Nom_districte'])['Descripcio_victimitzacio'].count()"
   ]
  },
  {
   "cell_type": "code",
   "execution_count": 28,
   "metadata": {},
   "outputs": [
    {
     "data": {
      "text/plain": [
       "Index(['Ferit greu', 'Ferit lleu', 'Mort'], dtype='object', name='Descripcio_victimitzacio')"
      ]
     },
     "execution_count": 28,
     "metadata": {},
     "output_type": "execute_result"
    }
   ],
   "source": [
    "districte_victimes = pd.crosstab(index=motocyclo_accidents['Nom_districte'], columns=motocyclo_accidents['Descripcio_victimitzacio'], \n",
    "                  values=motocyclo_accidents['Numero_expedient'], aggfunc='count')\n",
    "districte_victimes.columns"
   ]
  },
  {
   "cell_type": "code",
   "execution_count": 29,
   "metadata": {},
   "outputs": [
    {
     "data": {
      "text/html": [
       "<div>\n",
       "<style scoped>\n",
       "    .dataframe tbody tr th:only-of-type {\n",
       "        vertical-align: middle;\n",
       "    }\n",
       "\n",
       "    .dataframe tbody tr th {\n",
       "        vertical-align: top;\n",
       "    }\n",
       "\n",
       "    .dataframe thead th {\n",
       "        text-align: right;\n",
       "    }\n",
       "</style>\n",
       "<table border=\"1\" class=\"dataframe\">\n",
       "  <thead>\n",
       "    <tr style=\"text-align: right;\">\n",
       "      <th>Descripcio_victimitzacio</th>\n",
       "      <th>Ferit greu</th>\n",
       "      <th>Ferit lleu</th>\n",
       "      <th>Mort</th>\n",
       "    </tr>\n",
       "    <tr>\n",
       "      <th>Nom_districte</th>\n",
       "      <th></th>\n",
       "      <th></th>\n",
       "      <th></th>\n",
       "    </tr>\n",
       "  </thead>\n",
       "  <tbody>\n",
       "    <tr>\n",
       "      <th>Ciutat Vella</th>\n",
       "      <td>7.0</td>\n",
       "      <td>301.0</td>\n",
       "      <td>1.0</td>\n",
       "    </tr>\n",
       "    <tr>\n",
       "      <th>Eixample</th>\n",
       "      <td>68.0</td>\n",
       "      <td>2185.0</td>\n",
       "      <td>3.0</td>\n",
       "    </tr>\n",
       "    <tr>\n",
       "      <th>Gràcia</th>\n",
       "      <td>5.0</td>\n",
       "      <td>342.0</td>\n",
       "      <td>1.0</td>\n",
       "    </tr>\n",
       "    <tr>\n",
       "      <th>Horta-Guinardó</th>\n",
       "      <td>7.0</td>\n",
       "      <td>390.0</td>\n",
       "      <td>2.0</td>\n",
       "    </tr>\n",
       "    <tr>\n",
       "      <th>Les Corts</th>\n",
       "      <td>13.0</td>\n",
       "      <td>465.0</td>\n",
       "      <td>1.0</td>\n",
       "    </tr>\n",
       "    <tr>\n",
       "      <th>Nou Barris</th>\n",
       "      <td>3.0</td>\n",
       "      <td>205.0</td>\n",
       "      <td>1.0</td>\n",
       "    </tr>\n",
       "    <tr>\n",
       "      <th>Sant Andreu</th>\n",
       "      <td>6.0</td>\n",
       "      <td>308.0</td>\n",
       "      <td>NaN</td>\n",
       "    </tr>\n",
       "    <tr>\n",
       "      <th>Sant Martí</th>\n",
       "      <td>20.0</td>\n",
       "      <td>646.0</td>\n",
       "      <td>2.0</td>\n",
       "    </tr>\n",
       "    <tr>\n",
       "      <th>Sants-Montjuïc</th>\n",
       "      <td>21.0</td>\n",
       "      <td>601.0</td>\n",
       "      <td>1.0</td>\n",
       "    </tr>\n",
       "    <tr>\n",
       "      <th>Sarrià-Sant Gervasi</th>\n",
       "      <td>26.0</td>\n",
       "      <td>774.0</td>\n",
       "      <td>4.0</td>\n",
       "    </tr>\n",
       "  </tbody>\n",
       "</table>\n",
       "</div>"
      ],
      "text/plain": [
       "Descripcio_victimitzacio  Ferit greu  Ferit lleu  Mort\n",
       "Nom_districte                                         \n",
       "Ciutat Vella                     7.0       301.0   1.0\n",
       "Eixample                        68.0      2185.0   3.0\n",
       "Gràcia                           5.0       342.0   1.0\n",
       "Horta-Guinardó                   7.0       390.0   2.0\n",
       "Les Corts                       13.0       465.0   1.0\n",
       "Nou Barris                       3.0       205.0   1.0\n",
       "Sant Andreu                      6.0       308.0   NaN\n",
       "Sant Martí                      20.0       646.0   2.0\n",
       "Sants-Montjuïc                  21.0       601.0   1.0\n",
       "Sarrià-Sant Gervasi             26.0       774.0   4.0"
      ]
     },
     "execution_count": 29,
     "metadata": {},
     "output_type": "execute_result"
    }
   ],
   "source": [
    "districte_victimes"
   ]
  },
  {
   "cell_type": "code",
   "execution_count": 30,
   "metadata": {},
   "outputs": [],
   "source": [
    "districte_victimes.columns=[[\"Ferit lleu\", \"Ferit greu\", \"Mort\"]]"
   ]
  },
  {
   "cell_type": "code",
   "execution_count": 31,
   "metadata": {},
   "outputs": [
    {
     "data": {
      "text/html": [
       "<div>\n",
       "<style scoped>\n",
       "    .dataframe tbody tr th:only-of-type {\n",
       "        vertical-align: middle;\n",
       "    }\n",
       "\n",
       "    .dataframe tbody tr th {\n",
       "        vertical-align: top;\n",
       "    }\n",
       "\n",
       "    .dataframe thead tr th {\n",
       "        text-align: left;\n",
       "    }\n",
       "\n",
       "    .dataframe thead tr:last-of-type th {\n",
       "        text-align: right;\n",
       "    }\n",
       "</style>\n",
       "<table border=\"1\" class=\"dataframe\">\n",
       "  <thead>\n",
       "    <tr>\n",
       "      <th></th>\n",
       "      <th>Ferit lleu</th>\n",
       "      <th>Ferit greu</th>\n",
       "      <th>Mort</th>\n",
       "    </tr>\n",
       "    <tr>\n",
       "      <th>Nom_districte</th>\n",
       "      <th></th>\n",
       "      <th></th>\n",
       "      <th></th>\n",
       "    </tr>\n",
       "  </thead>\n",
       "  <tbody>\n",
       "    <tr>\n",
       "      <th>Ciutat Vella</th>\n",
       "      <td>7.0</td>\n",
       "      <td>301.0</td>\n",
       "      <td>1.0</td>\n",
       "    </tr>\n",
       "    <tr>\n",
       "      <th>Eixample</th>\n",
       "      <td>68.0</td>\n",
       "      <td>2185.0</td>\n",
       "      <td>3.0</td>\n",
       "    </tr>\n",
       "    <tr>\n",
       "      <th>Gràcia</th>\n",
       "      <td>5.0</td>\n",
       "      <td>342.0</td>\n",
       "      <td>1.0</td>\n",
       "    </tr>\n",
       "    <tr>\n",
       "      <th>Horta-Guinardó</th>\n",
       "      <td>7.0</td>\n",
       "      <td>390.0</td>\n",
       "      <td>2.0</td>\n",
       "    </tr>\n",
       "    <tr>\n",
       "      <th>Les Corts</th>\n",
       "      <td>13.0</td>\n",
       "      <td>465.0</td>\n",
       "      <td>1.0</td>\n",
       "    </tr>\n",
       "    <tr>\n",
       "      <th>Nou Barris</th>\n",
       "      <td>3.0</td>\n",
       "      <td>205.0</td>\n",
       "      <td>1.0</td>\n",
       "    </tr>\n",
       "    <tr>\n",
       "      <th>Sant Andreu</th>\n",
       "      <td>6.0</td>\n",
       "      <td>308.0</td>\n",
       "      <td>NaN</td>\n",
       "    </tr>\n",
       "    <tr>\n",
       "      <th>Sant Martí</th>\n",
       "      <td>20.0</td>\n",
       "      <td>646.0</td>\n",
       "      <td>2.0</td>\n",
       "    </tr>\n",
       "    <tr>\n",
       "      <th>Sants-Montjuïc</th>\n",
       "      <td>21.0</td>\n",
       "      <td>601.0</td>\n",
       "      <td>1.0</td>\n",
       "    </tr>\n",
       "    <tr>\n",
       "      <th>Sarrià-Sant Gervasi</th>\n",
       "      <td>26.0</td>\n",
       "      <td>774.0</td>\n",
       "      <td>4.0</td>\n",
       "    </tr>\n",
       "  </tbody>\n",
       "</table>\n",
       "</div>"
      ],
      "text/plain": [
       "                    Ferit lleu Ferit greu Mort\n",
       "Nom_districte                                 \n",
       "Ciutat Vella               7.0      301.0  1.0\n",
       "Eixample                  68.0     2185.0  3.0\n",
       "Gràcia                     5.0      342.0  1.0\n",
       "Horta-Guinardó             7.0      390.0  2.0\n",
       "Les Corts                 13.0      465.0  1.0\n",
       "Nou Barris                 3.0      205.0  1.0\n",
       "Sant Andreu                6.0      308.0  NaN\n",
       "Sant Martí                20.0      646.0  2.0\n",
       "Sants-Montjuïc            21.0      601.0  1.0\n",
       "Sarrià-Sant Gervasi       26.0      774.0  4.0"
      ]
     },
     "execution_count": 31,
     "metadata": {},
     "output_type": "execute_result"
    }
   ],
   "source": [
    "districte_victimes"
   ]
  },
  {
   "cell_type": "code",
   "execution_count": null,
   "metadata": {},
   "outputs": [],
   "source": []
  }
 ],
 "metadata": {
  "kernelspec": {
   "display_name": "Python 3",
   "language": "python",
   "name": "python3"
  },
  "language_info": {
   "codemirror_mode": {
    "name": "ipython",
    "version": 3
   },
   "file_extension": ".py",
   "mimetype": "text/x-python",
   "name": "python",
   "nbconvert_exporter": "python",
   "pygments_lexer": "ipython3",
   "version": "3.8.5"
  }
 },
 "nbformat": 4,
 "nbformat_minor": 4
}
