{
 "cells": [
  {
   "cell_type": "code",
   "execution_count": 1,
   "metadata": {},
   "outputs": [],
   "source": [
    "import pandas as pd\n",
    "import numpy as np"
   ]
  },
  {
   "cell_type": "code",
   "execution_count": 41,
   "metadata": {},
   "outputs": [
    {
     "data": {
      "text/plain": [
       "Index(['Numero_expedient', 'Codi_districte', 'Nom_districte', 'Codi_barri',\n",
       "       'Nom_barri', 'Codi_carrer', 'Nom_carrer', 'Num_postal ',\n",
       "       'Descripcio_dia_setmana', 'Dia_setmana', 'Descripcio_tipus_dia', 'Any',\n",
       "       'Mes_any', 'Nom_mes', 'Dia_mes', 'Descripcio_torn', 'Hora_dia',\n",
       "       'Descripcio_causa_vianant', 'Desc_Tipus_vehicle_implicat',\n",
       "       'Descripcio_sexe', 'Edat', 'Descripcio_tipus_persona',\n",
       "       'Descripcio_situacio', 'Descripcio_victimitzacio', 'Coordenada_UTM_X',\n",
       "       'Coordenada_UTM_Y', 'Longitud', 'Latitud'],\n",
       "      dtype='object')"
      ]
     },
     "execution_count": 41,
     "metadata": {},
     "output_type": "execute_result"
    }
   ],
   "source": [
    "accidents = pd.read_csv('../datasets/data/Question456/2016_accidents_persones_gu_bcn.csv')\n",
    "accidents.columns"
   ]
  },
  {
   "cell_type": "code",
   "execution_count": null,
   "metadata": {},
   "outputs": [],
   "source": [
    "accidents.drop(['Codi_districte', 'Codi_barri', 'Nom_barri', 'Codi_carrer', 'Nom_carrer', 'Num_postal ', 'Dia_setmana', 'Descripcio_tipus_dia', \n",
    "                'Descripcio_situacio', 'Descripcio_causa_vianant', 'Coordenada_UTM_X', 'Coordenada_UTM_Y', 'Longitud', 'Latitud'], axis=1, inplace=True)\n",
    "motocyclo_accidents = accidents[accidents['Desc_Tipus_vehicle_implicat'].isin(['Motocicleta', 'Ciclomotor'])]\n",
    "motocyclo_accidents = motocyclo_accidents[motocyclo_accidents.Edat != \"Desconegut\"]\n",
    "motocyclo_accidents = motocyclo_accidents[motocyclo_accidents.Nom_districte != \"Desconegut\"]\n",
    "motocyclo_accidents = motocyclo_accidents[motocyclo_accidents.Descripcio_sexe != \"Desconegut\"]\n",
    "motocyclo_accidents['Edat'] = motocyclo_accidents['Edat'].astype(str).astype(int)\n",
    "motocyclo_accidents = motocyclo_accidents[['Any', 'Numero_expedient', 'Nom_districte', 'Descripcio_dia_setmana', 'Mes_any', 'Nom_mes', 'Dia_mes', 'Descripcio_torn', \n",
    "                                           'Hora_dia', 'Desc_Tipus_vehicle_implicat', 'Descripcio_sexe', 'Edat', 'Descripcio_tipus_persona', 'Descripcio_victimitzacio']]"
   ]
  },
  {
   "cell_type": "code",
   "execution_count": 24,
   "metadata": {},
   "outputs": [
    {
     "data": {
      "text/html": [
       "<div>\n",
       "<style scoped>\n",
       "    .dataframe tbody tr th:only-of-type {\n",
       "        vertical-align: middle;\n",
       "    }\n",
       "\n",
       "    .dataframe tbody tr th {\n",
       "        vertical-align: top;\n",
       "    }\n",
       "\n",
       "    .dataframe thead th {\n",
       "        text-align: right;\n",
       "    }\n",
       "</style>\n",
       "<table border=\"1\" class=\"dataframe\">\n",
       "  <thead>\n",
       "    <tr style=\"text-align: right;\">\n",
       "      <th></th>\n",
       "      <th>Any</th>\n",
       "      <th>Numero_expedient</th>\n",
       "      <th>Nom_districte</th>\n",
       "      <th>Descripcio_dia_setmana</th>\n",
       "      <th>Mes_any</th>\n",
       "      <th>Nom_mes</th>\n",
       "      <th>Dia_mes</th>\n",
       "      <th>Descripcio_torn</th>\n",
       "      <th>Hora_dia</th>\n",
       "      <th>Desc_Tipus_vehicle_implicat</th>\n",
       "      <th>Descripcio_sexe</th>\n",
       "      <th>Edat</th>\n",
       "      <th>Descripcio_tipus_persona</th>\n",
       "      <th>Descripcio_victimitzacio</th>\n",
       "    </tr>\n",
       "  </thead>\n",
       "  <tbody>\n",
       "    <tr>\n",
       "      <th>1</th>\n",
       "      <td>2016</td>\n",
       "      <td>2016S000002</td>\n",
       "      <td>Ciutat Vella</td>\n",
       "      <td>Divendres</td>\n",
       "      <td>1</td>\n",
       "      <td>Gener</td>\n",
       "      <td>1</td>\n",
       "      <td>Nit</td>\n",
       "      <td>2</td>\n",
       "      <td>Motocicleta</td>\n",
       "      <td>Home</td>\n",
       "      <td>19</td>\n",
       "      <td>Passatger</td>\n",
       "      <td>Ferit lleu</td>\n",
       "    </tr>\n",
       "    <tr>\n",
       "      <th>2</th>\n",
       "      <td>2016</td>\n",
       "      <td>2016S000003</td>\n",
       "      <td>Nou Barris</td>\n",
       "      <td>Divendres</td>\n",
       "      <td>1</td>\n",
       "      <td>Gener</td>\n",
       "      <td>1</td>\n",
       "      <td>Nit</td>\n",
       "      <td>5</td>\n",
       "      <td>Motocicleta</td>\n",
       "      <td>Home</td>\n",
       "      <td>24</td>\n",
       "      <td>Conductor</td>\n",
       "      <td>Ferit lleu</td>\n",
       "    </tr>\n",
       "    <tr>\n",
       "      <th>8</th>\n",
       "      <td>2016</td>\n",
       "      <td>2016S000009</td>\n",
       "      <td>Sarrià-Sant Gervasi</td>\n",
       "      <td>Divendres</td>\n",
       "      <td>1</td>\n",
       "      <td>Gener</td>\n",
       "      <td>1</td>\n",
       "      <td>Tarda</td>\n",
       "      <td>16</td>\n",
       "      <td>Motocicleta</td>\n",
       "      <td>Home</td>\n",
       "      <td>22</td>\n",
       "      <td>Conductor</td>\n",
       "      <td>Ferit lleu</td>\n",
       "    </tr>\n",
       "    <tr>\n",
       "      <th>10</th>\n",
       "      <td>2016</td>\n",
       "      <td>2016S000011</td>\n",
       "      <td>Sant Martí</td>\n",
       "      <td>Divendres</td>\n",
       "      <td>1</td>\n",
       "      <td>Gener</td>\n",
       "      <td>1</td>\n",
       "      <td>Tarda</td>\n",
       "      <td>16</td>\n",
       "      <td>Motocicleta</td>\n",
       "      <td>Home</td>\n",
       "      <td>37</td>\n",
       "      <td>Conductor</td>\n",
       "      <td>Ferit lleu</td>\n",
       "    </tr>\n",
       "    <tr>\n",
       "      <th>17</th>\n",
       "      <td>2016</td>\n",
       "      <td>2016S000014</td>\n",
       "      <td>Gràcia</td>\n",
       "      <td>Divendres</td>\n",
       "      <td>1</td>\n",
       "      <td>Gener</td>\n",
       "      <td>1</td>\n",
       "      <td>Tarda</td>\n",
       "      <td>21</td>\n",
       "      <td>Motocicleta</td>\n",
       "      <td>Dona</td>\n",
       "      <td>24</td>\n",
       "      <td>Conductor</td>\n",
       "      <td>Ferit lleu</td>\n",
       "    </tr>\n",
       "    <tr>\n",
       "      <th>...</th>\n",
       "      <td>...</td>\n",
       "      <td>...</td>\n",
       "      <td>...</td>\n",
       "      <td>...</td>\n",
       "      <td>...</td>\n",
       "      <td>...</td>\n",
       "      <td>...</td>\n",
       "      <td>...</td>\n",
       "      <td>...</td>\n",
       "      <td>...</td>\n",
       "      <td>...</td>\n",
       "      <td>...</td>\n",
       "      <td>...</td>\n",
       "      <td>...</td>\n",
       "    </tr>\n",
       "    <tr>\n",
       "      <th>12060</th>\n",
       "      <td>2016</td>\n",
       "      <td>2016S010138</td>\n",
       "      <td>Nou Barris</td>\n",
       "      <td>Divendres</td>\n",
       "      <td>12</td>\n",
       "      <td>Desembre</td>\n",
       "      <td>30</td>\n",
       "      <td>Tarda</td>\n",
       "      <td>19</td>\n",
       "      <td>Motocicleta</td>\n",
       "      <td>Home</td>\n",
       "      <td>57</td>\n",
       "      <td>Conductor</td>\n",
       "      <td>Ferit lleu</td>\n",
       "    </tr>\n",
       "    <tr>\n",
       "      <th>12063</th>\n",
       "      <td>2016</td>\n",
       "      <td>2016S010140</td>\n",
       "      <td>Horta-Guinardó</td>\n",
       "      <td>Dissabte</td>\n",
       "      <td>12</td>\n",
       "      <td>Desembre</td>\n",
       "      <td>31</td>\n",
       "      <td>Tarda</td>\n",
       "      <td>19</td>\n",
       "      <td>Motocicleta</td>\n",
       "      <td>Home</td>\n",
       "      <td>28</td>\n",
       "      <td>Conductor</td>\n",
       "      <td>Ferit lleu</td>\n",
       "    </tr>\n",
       "    <tr>\n",
       "      <th>12064</th>\n",
       "      <td>2016</td>\n",
       "      <td>2016S010141</td>\n",
       "      <td>Sant Andreu</td>\n",
       "      <td>Dissabte</td>\n",
       "      <td>12</td>\n",
       "      <td>Desembre</td>\n",
       "      <td>31</td>\n",
       "      <td>Tarda</td>\n",
       "      <td>19</td>\n",
       "      <td>Ciclomotor</td>\n",
       "      <td>Home</td>\n",
       "      <td>22</td>\n",
       "      <td>Conductor</td>\n",
       "      <td>Ferit lleu</td>\n",
       "    </tr>\n",
       "    <tr>\n",
       "      <th>12065</th>\n",
       "      <td>2016</td>\n",
       "      <td>2016S010142</td>\n",
       "      <td>Gràcia</td>\n",
       "      <td>Dissabte</td>\n",
       "      <td>12</td>\n",
       "      <td>Desembre</td>\n",
       "      <td>31</td>\n",
       "      <td>Tarda</td>\n",
       "      <td>20</td>\n",
       "      <td>Motocicleta</td>\n",
       "      <td>Home</td>\n",
       "      <td>41</td>\n",
       "      <td>Conductor</td>\n",
       "      <td>Ferit lleu</td>\n",
       "    </tr>\n",
       "    <tr>\n",
       "      <th>12067</th>\n",
       "      <td>2016</td>\n",
       "      <td>2016S010144</td>\n",
       "      <td>Eixample</td>\n",
       "      <td>Dissabte</td>\n",
       "      <td>12</td>\n",
       "      <td>Desembre</td>\n",
       "      <td>31</td>\n",
       "      <td>Nit</td>\n",
       "      <td>4</td>\n",
       "      <td>Ciclomotor</td>\n",
       "      <td>Dona</td>\n",
       "      <td>29</td>\n",
       "      <td>Conductor</td>\n",
       "      <td>Ferit lleu</td>\n",
       "    </tr>\n",
       "  </tbody>\n",
       "</table>\n",
       "<p>7146 rows × 14 columns</p>\n",
       "</div>"
      ],
      "text/plain": [
       "        Any Numero_expedient        Nom_districte Descripcio_dia_setmana  \\\n",
       "1      2016  2016S000002             Ciutat Vella              Divendres   \n",
       "2      2016  2016S000003               Nou Barris              Divendres   \n",
       "8      2016  2016S000009      Sarrià-Sant Gervasi              Divendres   \n",
       "10     2016  2016S000011               Sant Martí              Divendres   \n",
       "17     2016  2016S000014                   Gràcia              Divendres   \n",
       "...     ...              ...                  ...                    ...   \n",
       "12060  2016  2016S010138               Nou Barris              Divendres   \n",
       "12063  2016  2016S010140           Horta-Guinardó               Dissabte   \n",
       "12064  2016  2016S010141              Sant Andreu               Dissabte   \n",
       "12065  2016  2016S010142                   Gràcia               Dissabte   \n",
       "12067  2016  2016S010144                 Eixample               Dissabte   \n",
       "\n",
       "       Mes_any   Nom_mes  Dia_mes Descripcio_torn  Hora_dia  \\\n",
       "1            1     Gener        1             Nit         2   \n",
       "2            1     Gener        1             Nit         5   \n",
       "8            1     Gener        1           Tarda        16   \n",
       "10           1     Gener        1           Tarda        16   \n",
       "17           1     Gener        1           Tarda        21   \n",
       "...        ...       ...      ...             ...       ...   \n",
       "12060       12  Desembre       30           Tarda        19   \n",
       "12063       12  Desembre       31           Tarda        19   \n",
       "12064       12  Desembre       31           Tarda        19   \n",
       "12065       12  Desembre       31           Tarda        20   \n",
       "12067       12  Desembre       31             Nit         4   \n",
       "\n",
       "      Desc_Tipus_vehicle_implicat Descripcio_sexe  Edat  \\\n",
       "1                     Motocicleta            Home    19   \n",
       "2                     Motocicleta            Home    24   \n",
       "8                     Motocicleta            Home    22   \n",
       "10                    Motocicleta            Home    37   \n",
       "17                    Motocicleta            Dona    24   \n",
       "...                           ...             ...   ...   \n",
       "12060                 Motocicleta            Home    57   \n",
       "12063                 Motocicleta            Home    28   \n",
       "12064                  Ciclomotor            Home    22   \n",
       "12065                 Motocicleta            Home    41   \n",
       "12067                  Ciclomotor            Dona    29   \n",
       "\n",
       "      Descripcio_tipus_persona Descripcio_victimitzacio  \n",
       "1                    Passatger               Ferit lleu  \n",
       "2                    Conductor               Ferit lleu  \n",
       "8                    Conductor               Ferit lleu  \n",
       "10                   Conductor               Ferit lleu  \n",
       "17                   Conductor               Ferit lleu  \n",
       "...                        ...                      ...  \n",
       "12060                Conductor               Ferit lleu  \n",
       "12063                Conductor               Ferit lleu  \n",
       "12064                Conductor               Ferit lleu  \n",
       "12065                Conductor               Ferit lleu  \n",
       "12067                Conductor               Ferit lleu  \n",
       "\n",
       "[7146 rows x 14 columns]"
      ]
     },
     "execution_count": 24,
     "metadata": {},
     "output_type": "execute_result"
    }
   ],
   "source": [
    "motocyclo_accidents"
   ]
  },
  {
   "cell_type": "code",
   "execution_count": 42,
   "metadata": {},
   "outputs": [
    {
     "data": {
      "text/plain": [
       "7146"
      ]
     },
     "execution_count": 42,
     "metadata": {},
     "output_type": "execute_result"
    }
   ],
   "source": [
    "motocyclo_accidents[\"Numero_expedient\"].count()"
   ]
  },
  {
   "cell_type": "code",
   "execution_count": 25,
   "metadata": {},
   "outputs": [
    {
     "data": {
      "text/plain": [
       "Eixample               2605\n",
       "Sant Martí              826\n",
       "Sarrià-Sant Gervasi     806\n",
       "Sants-Montjuïc          654\n",
       "Les Corts               537\n",
       "Horta-Guinardó          469\n",
       "Gràcia                  360\n",
       "Sant Andreu             308\n",
       "Ciutat Vella            295\n",
       "Nou Barris              286\n",
       "Name: Nom_districte, dtype: int64"
      ]
     },
     "execution_count": 25,
     "metadata": {},
     "output_type": "execute_result"
    }
   ],
   "source": [
    "motocyclo_accidents['Nom_districte'].value_counts()"
   ]
  },
  {
   "cell_type": "code",
   "execution_count": 26,
   "metadata": {},
   "outputs": [
    {
     "data": {
      "text/plain": [
       "Dijous       1264\n",
       "Divendres    1236\n",
       "Dimecres     1207\n",
       "Dimarts      1157\n",
       "Dilluns      1038\n",
       "Dissabte      745\n",
       "Diumenge      499\n",
       "Name: Descripcio_dia_setmana, dtype: int64"
      ]
     },
     "execution_count": 26,
     "metadata": {},
     "output_type": "execute_result"
    }
   ],
   "source": [
    "motocyclo_accidents['Descripcio_dia_setmana'].value_counts()"
   ]
  },
  {
   "cell_type": "code",
   "execution_count": 27,
   "metadata": {},
   "outputs": [
    {
     "data": {
      "text/plain": [
       "Novembre    681\n",
       "Juny        660\n",
       "Desembre    653\n",
       "Maig        627\n",
       "Març        607\n",
       "Febrer      604\n",
       "Abril       592\n",
       "Gener       586\n",
       "Octubre     580\n",
       "Setembre    575\n",
       "Juliol      568\n",
       "Agost       413\n",
       "Name: Nom_mes, dtype: int64"
      ]
     },
     "execution_count": 27,
     "metadata": {},
     "output_type": "execute_result"
    }
   ],
   "source": [
    "motocyclo_accidents['Nom_mes'].value_counts()"
   ]
  },
  {
   "cell_type": "code",
   "execution_count": 28,
   "metadata": {},
   "outputs": [
    {
     "data": {
      "text/plain": [
       "15    268\n",
       "21    266\n",
       "11    258\n",
       "18    257\n",
       "14    255\n",
       "1     250\n",
       "20    249\n",
       "28    248\n",
       "7     248\n",
       "3     248\n",
       "29    247\n",
       "4     245\n",
       "8     244\n",
       "19    240\n",
       "25    239\n",
       "17    235\n",
       "10    233\n",
       "9     233\n",
       "2     230\n",
       "23    228\n",
       "16    227\n",
       "22    224\n",
       "27    217\n",
       "5     217\n",
       "26    214\n",
       "13    211\n",
       "30    207\n",
       "12    206\n",
       "6     197\n",
       "24    185\n",
       "31    120\n",
       "Name: Dia_mes, dtype: int64"
      ]
     },
     "execution_count": 28,
     "metadata": {},
     "output_type": "execute_result"
    }
   ],
   "source": [
    "motocyclo_accidents['Dia_mes'].value_counts()"
   ]
  },
  {
   "cell_type": "code",
   "execution_count": 29,
   "metadata": {},
   "outputs": [
    {
     "data": {
      "text/plain": [
       "14    548\n",
       "15    489\n",
       "18    488\n",
       "20    478\n",
       "13    462\n",
       "19    461\n",
       "16    448\n",
       "9     439\n",
       "8     437\n",
       "17    420\n",
       "12    398\n",
       "21    381\n",
       "11    361\n",
       "10    323\n",
       "22    232\n",
       "7     225\n",
       "23    153\n",
       "0     102\n",
       "6      82\n",
       "1      76\n",
       "2      46\n",
       "5      39\n",
       "3      35\n",
       "4      23\n",
       "Name: Hora_dia, dtype: int64"
      ]
     },
     "execution_count": 29,
     "metadata": {},
     "output_type": "execute_result"
    }
   ],
   "source": [
    "motocyclo_accidents['Hora_dia'].value_counts()"
   ]
  },
  {
   "cell_type": "code",
   "execution_count": 30,
   "metadata": {},
   "outputs": [
    {
     "data": {
      "text/plain": [
       "Tarda    3713\n",
       "Matí     2727\n",
       "Nit       706\n",
       "Name: Descripcio_torn, dtype: int64"
      ]
     },
     "execution_count": 30,
     "metadata": {},
     "output_type": "execute_result"
    }
   ],
   "source": [
    "motocyclo_accidents['Descripcio_torn'].value_counts()"
   ]
  },
  {
   "cell_type": "code",
   "execution_count": 31,
   "metadata": {},
   "outputs": [
    {
     "data": {
      "text/plain": [
       "Motocicleta    6103\n",
       "Ciclomotor     1043\n",
       "Name: Desc_Tipus_vehicle_implicat, dtype: int64"
      ]
     },
     "execution_count": 31,
     "metadata": {},
     "output_type": "execute_result"
    }
   ],
   "source": [
    "motocyclo_accidents['Desc_Tipus_vehicle_implicat'].value_counts()"
   ]
  },
  {
   "cell_type": "code",
   "execution_count": 32,
   "metadata": {},
   "outputs": [
    {
     "data": {
      "text/plain": [
       "Home    4772\n",
       "Dona    2374\n",
       "Name: Descripcio_sexe, dtype: int64"
      ]
     },
     "execution_count": 32,
     "metadata": {},
     "output_type": "execute_result"
    }
   ],
   "source": [
    "motocyclo_accidents['Descripcio_sexe'].value_counts()"
   ]
  },
  {
   "cell_type": "code",
   "execution_count": 33,
   "metadata": {},
   "outputs": [
    {
     "data": {
      "text/plain": [
       "Age\n",
       "-14s        845\n",
       "15-20s     7505\n",
       "21-29s    50620\n",
       "30-39s    66268\n",
       "40-49s    66542\n",
       "50-59s    46154\n",
       "60-65s    12159\n",
       "66-75s     6629\n",
       "+75s        456\n",
       "Name: Edat, dtype: int64"
      ]
     },
     "execution_count": 33,
     "metadata": {},
     "output_type": "execute_result"
    }
   ],
   "source": [
    "motocyclo_accidents['Age'] = pd.cut(motocyclo_accidents['Edat'], bins=[0, 14, 20, 29, 39, 49, 59, 65, 75, 76], labels=[\"-14s\", \"15-20s\", \"21-29s\",\"30-39s\",\n",
    "                                                                                                                        \"40-49s\", \"50-59s\", \"60-65s\", \"66-75s\", \"+75s\"])                                                                                    \n",
    "motocyclo_accidents.groupby('Age')['Edat'].sum()"
   ]
  },
  {
   "cell_type": "code",
   "execution_count": 34,
   "metadata": {},
   "outputs": [
    {
     "data": {
      "text/plain": [
       "Conductor    6099\n",
       "Passatger     703\n",
       "Vianant       344\n",
       "Name: Descripcio_tipus_persona, dtype: int64"
      ]
     },
     "execution_count": 34,
     "metadata": {},
     "output_type": "execute_result"
    }
   ],
   "source": [
    "motocyclo_accidents['Descripcio_tipus_persona'].value_counts()"
   ]
  },
  {
   "cell_type": "code",
   "execution_count": 35,
   "metadata": {},
   "outputs": [
    {
     "data": {
      "text/plain": [
       "Ferit lleu    7013\n",
       "Ferit greu     122\n",
       "Mort            11\n",
       "Name: Descripcio_victimitzacio, dtype: int64"
      ]
     },
     "execution_count": 35,
     "metadata": {},
     "output_type": "execute_result"
    }
   ],
   "source": [
    "motocyclo_accidents['Descripcio_victimitzacio'].value_counts()"
   ]
  },
  {
   "cell_type": "code",
   "execution_count": 36,
   "metadata": {},
   "outputs": [
    {
     "data": {
      "text/plain": [
       "Nom_districte\n",
       "Ciutat Vella            295\n",
       "Eixample               2605\n",
       "Gràcia                  360\n",
       "Horta-Guinardó          469\n",
       "Les Corts               537\n",
       "Nou Barris              286\n",
       "Sant Andreu             308\n",
       "Sant Martí              826\n",
       "Sants-Montjuïc          654\n",
       "Sarrià-Sant Gervasi     806\n",
       "Name: Descripcio_victimitzacio, dtype: int64"
      ]
     },
     "execution_count": 36,
     "metadata": {},
     "output_type": "execute_result"
    }
   ],
   "source": [
    "motocyclo_accidents.groupby(['Nom_districte'])['Descripcio_victimitzacio'].count()"
   ]
  },
  {
   "cell_type": "code",
   "execution_count": 37,
   "metadata": {},
   "outputs": [
    {
     "data": {
      "text/plain": [
       "Index(['Ferit greu', 'Ferit lleu', 'Mort'], dtype='object', name='Descripcio_victimitzacio')"
      ]
     },
     "execution_count": 37,
     "metadata": {},
     "output_type": "execute_result"
    }
   ],
   "source": [
    "districte_victimes = pd.crosstab(index=motocyclo_accidents['Nom_districte'], columns=motocyclo_accidents['Descripcio_victimitzacio'], \n",
    "                  values=motocyclo_accidents['Numero_expedient'], aggfunc='count')\n",
    "districte_victimes.columns"
   ]
  },
  {
   "cell_type": "code",
   "execution_count": 38,
   "metadata": {},
   "outputs": [
    {
     "data": {
      "text/html": [
       "<div>\n",
       "<style scoped>\n",
       "    .dataframe tbody tr th:only-of-type {\n",
       "        vertical-align: middle;\n",
       "    }\n",
       "\n",
       "    .dataframe tbody tr th {\n",
       "        vertical-align: top;\n",
       "    }\n",
       "\n",
       "    .dataframe thead th {\n",
       "        text-align: right;\n",
       "    }\n",
       "</style>\n",
       "<table border=\"1\" class=\"dataframe\">\n",
       "  <thead>\n",
       "    <tr style=\"text-align: right;\">\n",
       "      <th>Descripcio_victimitzacio</th>\n",
       "      <th>Ferit greu</th>\n",
       "      <th>Ferit lleu</th>\n",
       "      <th>Mort</th>\n",
       "    </tr>\n",
       "    <tr>\n",
       "      <th>Nom_districte</th>\n",
       "      <th></th>\n",
       "      <th></th>\n",
       "      <th></th>\n",
       "    </tr>\n",
       "  </thead>\n",
       "  <tbody>\n",
       "    <tr>\n",
       "      <th>Ciutat Vella</th>\n",
       "      <td>7.0</td>\n",
       "      <td>288.0</td>\n",
       "      <td>NaN</td>\n",
       "    </tr>\n",
       "    <tr>\n",
       "      <th>Eixample</th>\n",
       "      <td>30.0</td>\n",
       "      <td>2573.0</td>\n",
       "      <td>2.0</td>\n",
       "    </tr>\n",
       "    <tr>\n",
       "      <th>Gràcia</th>\n",
       "      <td>4.0</td>\n",
       "      <td>356.0</td>\n",
       "      <td>NaN</td>\n",
       "    </tr>\n",
       "    <tr>\n",
       "      <th>Horta-Guinardó</th>\n",
       "      <td>4.0</td>\n",
       "      <td>464.0</td>\n",
       "      <td>1.0</td>\n",
       "    </tr>\n",
       "    <tr>\n",
       "      <th>Les Corts</th>\n",
       "      <td>14.0</td>\n",
       "      <td>523.0</td>\n",
       "      <td>NaN</td>\n",
       "    </tr>\n",
       "    <tr>\n",
       "      <th>Nou Barris</th>\n",
       "      <td>13.0</td>\n",
       "      <td>272.0</td>\n",
       "      <td>1.0</td>\n",
       "    </tr>\n",
       "    <tr>\n",
       "      <th>Sant Andreu</th>\n",
       "      <td>8.0</td>\n",
       "      <td>299.0</td>\n",
       "      <td>1.0</td>\n",
       "    </tr>\n",
       "    <tr>\n",
       "      <th>Sant Martí</th>\n",
       "      <td>11.0</td>\n",
       "      <td>815.0</td>\n",
       "      <td>NaN</td>\n",
       "    </tr>\n",
       "    <tr>\n",
       "      <th>Sants-Montjuïc</th>\n",
       "      <td>17.0</td>\n",
       "      <td>636.0</td>\n",
       "      <td>1.0</td>\n",
       "    </tr>\n",
       "    <tr>\n",
       "      <th>Sarrià-Sant Gervasi</th>\n",
       "      <td>14.0</td>\n",
       "      <td>787.0</td>\n",
       "      <td>5.0</td>\n",
       "    </tr>\n",
       "  </tbody>\n",
       "</table>\n",
       "</div>"
      ],
      "text/plain": [
       "Descripcio_victimitzacio  Ferit greu  Ferit lleu  Mort\n",
       "Nom_districte                                         \n",
       "Ciutat Vella                     7.0       288.0   NaN\n",
       "Eixample                        30.0      2573.0   2.0\n",
       "Gràcia                           4.0       356.0   NaN\n",
       "Horta-Guinardó                   4.0       464.0   1.0\n",
       "Les Corts                       14.0       523.0   NaN\n",
       "Nou Barris                      13.0       272.0   1.0\n",
       "Sant Andreu                      8.0       299.0   1.0\n",
       "Sant Martí                      11.0       815.0   NaN\n",
       "Sants-Montjuïc                  17.0       636.0   1.0\n",
       "Sarrià-Sant Gervasi             14.0       787.0   5.0"
      ]
     },
     "execution_count": 38,
     "metadata": {},
     "output_type": "execute_result"
    }
   ],
   "source": [
    "districte_victimes"
   ]
  },
  {
   "cell_type": "code",
   "execution_count": 39,
   "metadata": {},
   "outputs": [],
   "source": [
    "districte_victimes.columns=[[\"Ferit lleu\", \"Ferit greu\", \"Mort\"]]"
   ]
  },
  {
   "cell_type": "code",
   "execution_count": 40,
   "metadata": {},
   "outputs": [
    {
     "data": {
      "text/html": [
       "<div>\n",
       "<style scoped>\n",
       "    .dataframe tbody tr th:only-of-type {\n",
       "        vertical-align: middle;\n",
       "    }\n",
       "\n",
       "    .dataframe tbody tr th {\n",
       "        vertical-align: top;\n",
       "    }\n",
       "\n",
       "    .dataframe thead tr th {\n",
       "        text-align: left;\n",
       "    }\n",
       "\n",
       "    .dataframe thead tr:last-of-type th {\n",
       "        text-align: right;\n",
       "    }\n",
       "</style>\n",
       "<table border=\"1\" class=\"dataframe\">\n",
       "  <thead>\n",
       "    <tr>\n",
       "      <th></th>\n",
       "      <th>Ferit lleu</th>\n",
       "      <th>Ferit greu</th>\n",
       "      <th>Mort</th>\n",
       "    </tr>\n",
       "    <tr>\n",
       "      <th>Nom_districte</th>\n",
       "      <th></th>\n",
       "      <th></th>\n",
       "      <th></th>\n",
       "    </tr>\n",
       "  </thead>\n",
       "  <tbody>\n",
       "    <tr>\n",
       "      <th>Ciutat Vella</th>\n",
       "      <td>7.0</td>\n",
       "      <td>288.0</td>\n",
       "      <td>NaN</td>\n",
       "    </tr>\n",
       "    <tr>\n",
       "      <th>Eixample</th>\n",
       "      <td>30.0</td>\n",
       "      <td>2573.0</td>\n",
       "      <td>2.0</td>\n",
       "    </tr>\n",
       "    <tr>\n",
       "      <th>Gràcia</th>\n",
       "      <td>4.0</td>\n",
       "      <td>356.0</td>\n",
       "      <td>NaN</td>\n",
       "    </tr>\n",
       "    <tr>\n",
       "      <th>Horta-Guinardó</th>\n",
       "      <td>4.0</td>\n",
       "      <td>464.0</td>\n",
       "      <td>1.0</td>\n",
       "    </tr>\n",
       "    <tr>\n",
       "      <th>Les Corts</th>\n",
       "      <td>14.0</td>\n",
       "      <td>523.0</td>\n",
       "      <td>NaN</td>\n",
       "    </tr>\n",
       "    <tr>\n",
       "      <th>Nou Barris</th>\n",
       "      <td>13.0</td>\n",
       "      <td>272.0</td>\n",
       "      <td>1.0</td>\n",
       "    </tr>\n",
       "    <tr>\n",
       "      <th>Sant Andreu</th>\n",
       "      <td>8.0</td>\n",
       "      <td>299.0</td>\n",
       "      <td>1.0</td>\n",
       "    </tr>\n",
       "    <tr>\n",
       "      <th>Sant Martí</th>\n",
       "      <td>11.0</td>\n",
       "      <td>815.0</td>\n",
       "      <td>NaN</td>\n",
       "    </tr>\n",
       "    <tr>\n",
       "      <th>Sants-Montjuïc</th>\n",
       "      <td>17.0</td>\n",
       "      <td>636.0</td>\n",
       "      <td>1.0</td>\n",
       "    </tr>\n",
       "    <tr>\n",
       "      <th>Sarrià-Sant Gervasi</th>\n",
       "      <td>14.0</td>\n",
       "      <td>787.0</td>\n",
       "      <td>5.0</td>\n",
       "    </tr>\n",
       "  </tbody>\n",
       "</table>\n",
       "</div>"
      ],
      "text/plain": [
       "                    Ferit lleu Ferit greu Mort\n",
       "Nom_districte                                 \n",
       "Ciutat Vella               7.0      288.0  NaN\n",
       "Eixample                  30.0     2573.0  2.0\n",
       "Gràcia                     4.0      356.0  NaN\n",
       "Horta-Guinardó             4.0      464.0  1.0\n",
       "Les Corts                 14.0      523.0  NaN\n",
       "Nou Barris                13.0      272.0  1.0\n",
       "Sant Andreu                8.0      299.0  1.0\n",
       "Sant Martí                11.0      815.0  NaN\n",
       "Sants-Montjuïc            17.0      636.0  1.0\n",
       "Sarrià-Sant Gervasi       14.0      787.0  5.0"
      ]
     },
     "execution_count": 40,
     "metadata": {},
     "output_type": "execute_result"
    }
   ],
   "source": [
    "districte_victimes"
   ]
  },
  {
   "cell_type": "code",
   "execution_count": null,
   "metadata": {},
   "outputs": [],
   "source": []
  }
 ],
 "metadata": {
  "kernelspec": {
   "display_name": "Python 3",
   "language": "python",
   "name": "python3"
  },
  "language_info": {
   "codemirror_mode": {
    "name": "ipython",
    "version": 3
   },
   "file_extension": ".py",
   "mimetype": "text/x-python",
   "name": "python",
   "nbconvert_exporter": "python",
   "pygments_lexer": "ipython3",
   "version": "3.8.5"
  }
 },
 "nbformat": 4,
 "nbformat_minor": 4
}
