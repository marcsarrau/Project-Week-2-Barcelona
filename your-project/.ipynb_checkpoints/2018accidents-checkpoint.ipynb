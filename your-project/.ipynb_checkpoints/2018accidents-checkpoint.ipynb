{
 "cells": [
  {
   "cell_type": "code",
   "execution_count": 1,
   "metadata": {},
   "outputs": [],
   "source": [
    "import pandas as pd\n",
    "import numpy as np"
   ]
  },
  {
   "cell_type": "code",
   "execution_count": 3,
   "metadata": {},
   "outputs": [],
   "source": [
    "accidents = pd.read_csv('../datasets/data/Question456/2018_accidents_persones_gu_bcn_.csv')\n",
    "accidents.drop(['Codi_districte', 'Codi_barri', 'Nom_barri', 'Codi_carrer', 'Nom_carrer', 'Num_postal ', 'Dia_setmana', 'Descripcio_tipus_dia', \n",
    "                'Descripcio_situacio', 'Descripcio_causa_vianant', 'Coordenada_UTM_X', 'Coordenada_UTM_Y', 'Longitud', 'Latitud'], axis=1, inplace=True)\n",
    "motocyclo_accidents = accidents[accidents['Desc_Tipus_vehicle_implicat'].isin(['Motocicleta', 'Ciclomotor'])]\n",
    "motocyclo_accidents = motocyclo_accidents[motocyclo_accidents.Edat != \"Desconegut\"]\n",
    "motocyclo_accidents = motocyclo_accidents[motocyclo_accidents.Nom_districte != \"Desconegut\"]\n",
    "motocyclo_accidents = motocyclo_accidents[motocyclo_accidents.Descripcio_sexe != \"Desconegut\"]\n",
    "motocyclo_accidents['Edat'] = motocyclo_accidents['Edat'].astype(str).astype(int)\n",
    "motocyclo_accidents = motocyclo_accidents[['Any', 'Numero_expedient', 'Nom_districte', 'Descripcio_dia_setmana', 'Mes_ any', 'Nom_mes', 'Dia_mes', 'Descripcio_torn', \n",
    "                                           'Hora_dia', 'Desc_Tipus_vehicle_implicat', 'Descripcio_sexe', 'Edat', 'Descripcio_tipus_persona', 'Descripcio_victimitzacio']]"
   ]
  },
  {
   "cell_type": "code",
   "execution_count": 4,
   "metadata": {},
   "outputs": [
    {
     "data": {
      "text/html": [
       "<div>\n",
       "<style scoped>\n",
       "    .dataframe tbody tr th:only-of-type {\n",
       "        vertical-align: middle;\n",
       "    }\n",
       "\n",
       "    .dataframe tbody tr th {\n",
       "        vertical-align: top;\n",
       "    }\n",
       "\n",
       "    .dataframe thead th {\n",
       "        text-align: right;\n",
       "    }\n",
       "</style>\n",
       "<table border=\"1\" class=\"dataframe\">\n",
       "  <thead>\n",
       "    <tr style=\"text-align: right;\">\n",
       "      <th></th>\n",
       "      <th>Any</th>\n",
       "      <th>Numero_expedient</th>\n",
       "      <th>Nom_districte</th>\n",
       "      <th>Descripcio_dia_setmana</th>\n",
       "      <th>Mes_ any</th>\n",
       "      <th>Nom_mes</th>\n",
       "      <th>Dia_mes</th>\n",
       "      <th>Descripcio_torn</th>\n",
       "      <th>Hora_dia</th>\n",
       "      <th>Desc_Tipus_vehicle_implicat</th>\n",
       "      <th>Descripcio_sexe</th>\n",
       "      <th>Edat</th>\n",
       "      <th>Descripcio_tipus_persona</th>\n",
       "      <th>Descripcio_victimitzacio</th>\n",
       "    </tr>\n",
       "  </thead>\n",
       "  <tbody>\n",
       "    <tr>\n",
       "      <th>2</th>\n",
       "      <td>2018</td>\n",
       "      <td>2018S000002</td>\n",
       "      <td>Eixample</td>\n",
       "      <td>Dilluns</td>\n",
       "      <td>1</td>\n",
       "      <td>Gener</td>\n",
       "      <td>1</td>\n",
       "      <td>Nit</td>\n",
       "      <td>0</td>\n",
       "      <td>Ciclomotor</td>\n",
       "      <td>Home</td>\n",
       "      <td>45</td>\n",
       "      <td>Conductor</td>\n",
       "      <td>Ferit lleu: Hospitalització fins a 24h</td>\n",
       "    </tr>\n",
       "    <tr>\n",
       "      <th>3</th>\n",
       "      <td>2018</td>\n",
       "      <td>2018S000003</td>\n",
       "      <td>Sant Martí</td>\n",
       "      <td>Dilluns</td>\n",
       "      <td>1</td>\n",
       "      <td>Gener</td>\n",
       "      <td>1</td>\n",
       "      <td>Nit</td>\n",
       "      <td>2</td>\n",
       "      <td>Motocicleta</td>\n",
       "      <td>Home</td>\n",
       "      <td>70</td>\n",
       "      <td>Conductor</td>\n",
       "      <td>Ferit lleu: Hospitalització fins a 24h</td>\n",
       "    </tr>\n",
       "    <tr>\n",
       "      <th>8</th>\n",
       "      <td>2018</td>\n",
       "      <td>2018S000008</td>\n",
       "      <td>Sants-Montjuïc</td>\n",
       "      <td>Dilluns</td>\n",
       "      <td>1</td>\n",
       "      <td>Gener</td>\n",
       "      <td>1</td>\n",
       "      <td>Tarda</td>\n",
       "      <td>18</td>\n",
       "      <td>Motocicleta</td>\n",
       "      <td>Home</td>\n",
       "      <td>26</td>\n",
       "      <td>Conductor</td>\n",
       "      <td>Ferit lleu: Hospitalització fins a 24h</td>\n",
       "    </tr>\n",
       "    <tr>\n",
       "      <th>9</th>\n",
       "      <td>2018</td>\n",
       "      <td>2018S000009</td>\n",
       "      <td>Eixample</td>\n",
       "      <td>Dilluns</td>\n",
       "      <td>1</td>\n",
       "      <td>Gener</td>\n",
       "      <td>1</td>\n",
       "      <td>Tarda</td>\n",
       "      <td>18</td>\n",
       "      <td>Motocicleta</td>\n",
       "      <td>Home</td>\n",
       "      <td>30</td>\n",
       "      <td>Passatger</td>\n",
       "      <td>Ferit lleu: Amb assistència sanitària en lloc ...</td>\n",
       "    </tr>\n",
       "    <tr>\n",
       "      <th>10</th>\n",
       "      <td>2018</td>\n",
       "      <td>2018S000010</td>\n",
       "      <td>Nou Barris</td>\n",
       "      <td>Dilluns</td>\n",
       "      <td>1</td>\n",
       "      <td>Gener</td>\n",
       "      <td>1</td>\n",
       "      <td>Tarda</td>\n",
       "      <td>19</td>\n",
       "      <td>Motocicleta</td>\n",
       "      <td>Home</td>\n",
       "      <td>59</td>\n",
       "      <td>Conductor</td>\n",
       "      <td>Ferit lleu: Amb assistència sanitària en lloc ...</td>\n",
       "    </tr>\n",
       "    <tr>\n",
       "      <th>...</th>\n",
       "      <td>...</td>\n",
       "      <td>...</td>\n",
       "      <td>...</td>\n",
       "      <td>...</td>\n",
       "      <td>...</td>\n",
       "      <td>...</td>\n",
       "      <td>...</td>\n",
       "      <td>...</td>\n",
       "      <td>...</td>\n",
       "      <td>...</td>\n",
       "      <td>...</td>\n",
       "      <td>...</td>\n",
       "      <td>...</td>\n",
       "      <td>...</td>\n",
       "    </tr>\n",
       "    <tr>\n",
       "      <th>11847</th>\n",
       "      <td>2018</td>\n",
       "      <td>2018S009967</td>\n",
       "      <td>Eixample</td>\n",
       "      <td>Dilluns</td>\n",
       "      <td>12</td>\n",
       "      <td>Desembre</td>\n",
       "      <td>31</td>\n",
       "      <td>Tarda</td>\n",
       "      <td>21</td>\n",
       "      <td>Ciclomotor</td>\n",
       "      <td>Dona</td>\n",
       "      <td>25</td>\n",
       "      <td>Conductor</td>\n",
       "      <td>Ferit lleu: Amb assistència sanitària en lloc ...</td>\n",
       "    </tr>\n",
       "    <tr>\n",
       "      <th>11848</th>\n",
       "      <td>2018</td>\n",
       "      <td>2018S009968</td>\n",
       "      <td>Les Corts</td>\n",
       "      <td>Dilluns</td>\n",
       "      <td>12</td>\n",
       "      <td>Desembre</td>\n",
       "      <td>31</td>\n",
       "      <td>Tarda</td>\n",
       "      <td>19</td>\n",
       "      <td>Motocicleta</td>\n",
       "      <td>Dona</td>\n",
       "      <td>24</td>\n",
       "      <td>Passatger</td>\n",
       "      <td>Ferit lleu: Hospitalització fins a 24h</td>\n",
       "    </tr>\n",
       "    <tr>\n",
       "      <th>11849</th>\n",
       "      <td>2018</td>\n",
       "      <td>2018S009968</td>\n",
       "      <td>Les Corts</td>\n",
       "      <td>Dilluns</td>\n",
       "      <td>12</td>\n",
       "      <td>Desembre</td>\n",
       "      <td>31</td>\n",
       "      <td>Tarda</td>\n",
       "      <td>19</td>\n",
       "      <td>Motocicleta</td>\n",
       "      <td>Home</td>\n",
       "      <td>24</td>\n",
       "      <td>Conductor</td>\n",
       "      <td>Ferit lleu: Amb assistència sanitària en lloc ...</td>\n",
       "    </tr>\n",
       "    <tr>\n",
       "      <th>11851</th>\n",
       "      <td>2018</td>\n",
       "      <td>2018S009971</td>\n",
       "      <td>Horta-Guinardó</td>\n",
       "      <td>Divendres</td>\n",
       "      <td>12</td>\n",
       "      <td>Desembre</td>\n",
       "      <td>28</td>\n",
       "      <td>Tarda</td>\n",
       "      <td>19</td>\n",
       "      <td>Motocicleta</td>\n",
       "      <td>Dona</td>\n",
       "      <td>47</td>\n",
       "      <td>Conductor</td>\n",
       "      <td>Ferit lleu: Hospitalització fins a 24h</td>\n",
       "    </tr>\n",
       "    <tr>\n",
       "      <th>11853</th>\n",
       "      <td>2018</td>\n",
       "      <td>2018S009973</td>\n",
       "      <td>Sarrià-Sant Gervasi</td>\n",
       "      <td>Dijous</td>\n",
       "      <td>12</td>\n",
       "      <td>Desembre</td>\n",
       "      <td>27</td>\n",
       "      <td>Matí</td>\n",
       "      <td>10</td>\n",
       "      <td>Motocicleta</td>\n",
       "      <td>Home</td>\n",
       "      <td>35</td>\n",
       "      <td>Conductor</td>\n",
       "      <td>Ferit lleu: Hospitalització fins a 24h</td>\n",
       "    </tr>\n",
       "  </tbody>\n",
       "</table>\n",
       "<p>6888 rows × 14 columns</p>\n",
       "</div>"
      ],
      "text/plain": [
       "        Any Numero_expedient        Nom_districte Descripcio_dia_setmana  \\\n",
       "2      2018  2018S000002                 Eixample                Dilluns   \n",
       "3      2018  2018S000003               Sant Martí                Dilluns   \n",
       "8      2018  2018S000008           Sants-Montjuïc                Dilluns   \n",
       "9      2018  2018S000009                 Eixample                Dilluns   \n",
       "10     2018  2018S000010               Nou Barris                Dilluns   \n",
       "...     ...              ...                  ...                    ...   \n",
       "11847  2018  2018S009967                 Eixample                Dilluns   \n",
       "11848  2018  2018S009968                Les Corts                Dilluns   \n",
       "11849  2018  2018S009968                Les Corts                Dilluns   \n",
       "11851  2018  2018S009971           Horta-Guinardó              Divendres   \n",
       "11853  2018  2018S009973      Sarrià-Sant Gervasi                 Dijous   \n",
       "\n",
       "       Mes_ any   Nom_mes  Dia_mes Descripcio_torn  Hora_dia  \\\n",
       "2             1     Gener        1             Nit         0   \n",
       "3             1     Gener        1             Nit         2   \n",
       "8             1     Gener        1           Tarda        18   \n",
       "9             1     Gener        1           Tarda        18   \n",
       "10            1     Gener        1           Tarda        19   \n",
       "...         ...       ...      ...             ...       ...   \n",
       "11847        12  Desembre       31           Tarda        21   \n",
       "11848        12  Desembre       31           Tarda        19   \n",
       "11849        12  Desembre       31           Tarda        19   \n",
       "11851        12  Desembre       28           Tarda        19   \n",
       "11853        12  Desembre       27            Matí        10   \n",
       "\n",
       "      Desc_Tipus_vehicle_implicat Descripcio_sexe  Edat  \\\n",
       "2                      Ciclomotor            Home    45   \n",
       "3                     Motocicleta            Home    70   \n",
       "8                     Motocicleta            Home    26   \n",
       "9                     Motocicleta            Home    30   \n",
       "10                    Motocicleta            Home    59   \n",
       "...                           ...             ...   ...   \n",
       "11847                  Ciclomotor            Dona    25   \n",
       "11848                 Motocicleta            Dona    24   \n",
       "11849                 Motocicleta            Home    24   \n",
       "11851                 Motocicleta            Dona    47   \n",
       "11853                 Motocicleta            Home    35   \n",
       "\n",
       "      Descripcio_tipus_persona  \\\n",
       "2                    Conductor   \n",
       "3                    Conductor   \n",
       "8                    Conductor   \n",
       "9                    Passatger   \n",
       "10                   Conductor   \n",
       "...                        ...   \n",
       "11847                Conductor   \n",
       "11848                Passatger   \n",
       "11849                Conductor   \n",
       "11851                Conductor   \n",
       "11853                Conductor   \n",
       "\n",
       "                                Descripcio_victimitzacio  \n",
       "2                 Ferit lleu: Hospitalització fins a 24h  \n",
       "3                 Ferit lleu: Hospitalització fins a 24h  \n",
       "8                 Ferit lleu: Hospitalització fins a 24h  \n",
       "9      Ferit lleu: Amb assistència sanitària en lloc ...  \n",
       "10     Ferit lleu: Amb assistència sanitària en lloc ...  \n",
       "...                                                  ...  \n",
       "11847  Ferit lleu: Amb assistència sanitària en lloc ...  \n",
       "11848             Ferit lleu: Hospitalització fins a 24h  \n",
       "11849  Ferit lleu: Amb assistència sanitària en lloc ...  \n",
       "11851             Ferit lleu: Hospitalització fins a 24h  \n",
       "11853             Ferit lleu: Hospitalització fins a 24h  \n",
       "\n",
       "[6888 rows x 14 columns]"
      ]
     },
     "execution_count": 4,
     "metadata": {},
     "output_type": "execute_result"
    }
   ],
   "source": [
    "motocyclo_accidents"
   ]
  },
  {
   "cell_type": "code",
   "execution_count": 5,
   "metadata": {},
   "outputs": [
    {
     "data": {
      "text/plain": [
       "Eixample               2393\n",
       "Sarrià-Sant Gervasi     850\n",
       "Sant Martí              752\n",
       "Sants-Montjuïc          637\n",
       "Les Corts               485\n",
       "Horta-Guinardó          470\n",
       "Gràcia                  367\n",
       "Sant Andreu             354\n",
       "Ciutat Vella            306\n",
       "Nou Barris              274\n",
       "Name: Nom_districte, dtype: int64"
      ]
     },
     "execution_count": 5,
     "metadata": {},
     "output_type": "execute_result"
    }
   ],
   "source": [
    "motocyclo_accidents['Nom_districte'].value_counts()"
   ]
  },
  {
   "cell_type": "code",
   "execution_count": 6,
   "metadata": {},
   "outputs": [
    {
     "data": {
      "text/plain": [
       "Divendres    1221\n",
       "Dijous       1132\n",
       "Dimarts      1125\n",
       "Dimecres     1101\n",
       "Dilluns      1064\n",
       "Dissabte      748\n",
       "Diumenge      497\n",
       "Name: Descripcio_dia_setmana, dtype: int64"
      ]
     },
     "execution_count": 6,
     "metadata": {},
     "output_type": "execute_result"
    }
   ],
   "source": [
    "motocyclo_accidents['Descripcio_dia_setmana'].value_counts()"
   ]
  },
  {
   "cell_type": "code",
   "execution_count": 7,
   "metadata": {},
   "outputs": [
    {
     "data": {
      "text/plain": [
       "Octubre     652\n",
       "Maig        611\n",
       "Juny        605\n",
       "Gener       602\n",
       "Març        593\n",
       "Abril       585\n",
       "Desembre    583\n",
       "Juliol      583\n",
       "Novembre    553\n",
       "Febrer      521\n",
       "Setembre    520\n",
       "Agost       480\n",
       "Name: Nom_mes, dtype: int64"
      ]
     },
     "execution_count": 7,
     "metadata": {},
     "output_type": "execute_result"
    }
   ],
   "source": [
    "motocyclo_accidents['Nom_mes'].value_counts()"
   ]
  },
  {
   "cell_type": "code",
   "execution_count": 8,
   "metadata": {},
   "outputs": [
    {
     "data": {
      "text/plain": [
       "20    288\n",
       "27    271\n",
       "19    260\n",
       "9     259\n",
       "21    256\n",
       "26    242\n",
       "25    241\n",
       "12    237\n",
       "5     237\n",
       "13    232\n",
       "23    228\n",
       "10    228\n",
       "3     227\n",
       "4     224\n",
       "17    224\n",
       "6     221\n",
       "2     219\n",
       "16    215\n",
       "18    213\n",
       "22    212\n",
       "8     212\n",
       "30    211\n",
       "15    211\n",
       "14    210\n",
       "11    207\n",
       "24    204\n",
       "29    199\n",
       "7     197\n",
       "28    197\n",
       "1     191\n",
       "31    115\n",
       "Name: Dia_mes, dtype: int64"
      ]
     },
     "execution_count": 8,
     "metadata": {},
     "output_type": "execute_result"
    }
   ],
   "source": [
    "motocyclo_accidents['Dia_mes'].value_counts()"
   ]
  },
  {
   "cell_type": "code",
   "execution_count": 9,
   "metadata": {},
   "outputs": [
    {
     "data": {
      "text/plain": [
       "14    518\n",
       "18    478\n",
       "15    471\n",
       "13    457\n",
       "20    449\n",
       "16    444\n",
       "17    432\n",
       "19    430\n",
       "9     416\n",
       "8     412\n",
       "11    364\n",
       "21    339\n",
       "12    328\n",
       "10    324\n",
       "22    261\n",
       "7     234\n",
       "23    160\n",
       "0     109\n",
       "6      88\n",
       "1      58\n",
       "2      45\n",
       "5      29\n",
       "3      28\n",
       "4      14\n",
       "Name: Hora_dia, dtype: int64"
      ]
     },
     "execution_count": 9,
     "metadata": {},
     "output_type": "execute_result"
    }
   ],
   "source": [
    "motocyclo_accidents['Hora_dia'].value_counts()"
   ]
  },
  {
   "cell_type": "code",
   "execution_count": 10,
   "metadata": {},
   "outputs": [
    {
     "data": {
      "text/plain": [
       "Tarda    3561\n",
       "Matí     2623\n",
       "Nit       704\n",
       "Name: Descripcio_torn, dtype: int64"
      ]
     },
     "execution_count": 10,
     "metadata": {},
     "output_type": "execute_result"
    }
   ],
   "source": [
    "motocyclo_accidents['Descripcio_torn'].value_counts()"
   ]
  },
  {
   "cell_type": "code",
   "execution_count": 11,
   "metadata": {},
   "outputs": [
    {
     "data": {
      "text/plain": [
       "Motocicleta    6017\n",
       "Ciclomotor      871\n",
       "Name: Desc_Tipus_vehicle_implicat, dtype: int64"
      ]
     },
     "execution_count": 11,
     "metadata": {},
     "output_type": "execute_result"
    }
   ],
   "source": [
    "motocyclo_accidents['Desc_Tipus_vehicle_implicat'].value_counts()"
   ]
  },
  {
   "cell_type": "code",
   "execution_count": 12,
   "metadata": {},
   "outputs": [
    {
     "data": {
      "text/plain": [
       "Home    4684\n",
       "Dona    2204\n",
       "Name: Descripcio_sexe, dtype: int64"
      ]
     },
     "execution_count": 12,
     "metadata": {},
     "output_type": "execute_result"
    }
   ],
   "source": [
    "motocyclo_accidents['Descripcio_sexe'].value_counts()"
   ]
  },
  {
   "cell_type": "code",
   "execution_count": 13,
   "metadata": {},
   "outputs": [
    {
     "data": {
      "text/plain": [
       "Age\n",
       "-14s        793\n",
       "15-20s     6188\n",
       "21-29s    49583\n",
       "30-39s    61783\n",
       "40-49s    64373\n",
       "50-59s    49876\n",
       "60-65s    14969\n",
       "66-75s     6271\n",
       "+75s        152\n",
       "Name: Edat, dtype: int64"
      ]
     },
     "execution_count": 13,
     "metadata": {},
     "output_type": "execute_result"
    }
   ],
   "source": [
    "motocyclo_accidents['Age'] = pd.cut(motocyclo_accidents['Edat'], bins=[0, 14, 20, 29, 39, 49, 59, 65, 75, 76], labels=[\"-14s\", \"15-20s\", \"21-29s\",\"30-39s\",\n",
    "                                                                                                                        \"40-49s\", \"50-59s\", \"60-65s\", \"66-75s\", \"+75s\"])                                                                                    \n",
    "motocyclo_accidents.groupby('Age')['Edat'].sum()"
   ]
  },
  {
   "cell_type": "code",
   "execution_count": 14,
   "metadata": {},
   "outputs": [
    {
     "data": {
      "text/plain": [
       "Conductor    5915\n",
       "Passatger     704\n",
       "Vianant       269\n",
       "Name: Descripcio_tipus_persona, dtype: int64"
      ]
     },
     "execution_count": 14,
     "metadata": {},
     "output_type": "execute_result"
    }
   ],
   "source": [
    "motocyclo_accidents['Descripcio_tipus_persona'].value_counts()"
   ]
  },
  {
   "cell_type": "code",
   "execution_count": 15,
   "metadata": {},
   "outputs": [
    {
     "data": {
      "text/plain": [
       "Ferit lleu: Hospitalització fins a 24h                      4537\n",
       "Ferit lleu: Amb assistència sanitària en lloc d'accident    1977\n",
       "Ferit lleu: Rebutja assistència sanitària                    198\n",
       "Ferit greu: hospitalització superior a 24h                   164\n",
       "Mort (dins 24h posteriors accident)                           12\n",
       "Name: Descripcio_victimitzacio, dtype: int64"
      ]
     },
     "execution_count": 15,
     "metadata": {},
     "output_type": "execute_result"
    }
   ],
   "source": [
    "motocyclo_accidents['Descripcio_victimitzacio'].value_counts()"
   ]
  },
  {
   "cell_type": "code",
   "execution_count": null,
   "metadata": {},
   "outputs": [],
   "source": []
  }
 ],
 "metadata": {
  "kernelspec": {
   "display_name": "Python 3",
   "language": "python",
   "name": "python3"
  },
  "language_info": {
   "codemirror_mode": {
    "name": "ipython",
    "version": 3
   },
   "file_extension": ".py",
   "mimetype": "text/x-python",
   "name": "python",
   "nbconvert_exporter": "python",
   "pygments_lexer": "ipython3",
   "version": "3.8.5"
  }
 },
 "nbformat": 4,
 "nbformat_minor": 4
}
