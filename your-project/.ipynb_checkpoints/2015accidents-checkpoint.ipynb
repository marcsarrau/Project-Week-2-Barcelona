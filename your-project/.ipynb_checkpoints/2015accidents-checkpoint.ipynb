{
 "cells": [
  {
   "cell_type": "code",
   "execution_count": 1,
   "metadata": {},
   "outputs": [],
   "source": [
    "import pandas as pd\n",
    "import numpy as np"
   ]
  },
  {
   "cell_type": "code",
   "execution_count": 2,
   "metadata": {},
   "outputs": [
    {
     "ename": "KeyError",
     "evalue": "\"['Mes_ any'] not in index\"",
     "output_type": "error",
     "traceback": [
      "\u001b[0;31m---------------------------------------------------------------------------\u001b[0m",
      "\u001b[0;31mKeyError\u001b[0m                                  Traceback (most recent call last)",
      "\u001b[0;32m<ipython-input-2-280ad4e2f4cc>\u001b[0m in \u001b[0;36m<module>\u001b[0;34m\u001b[0m\n\u001b[1;32m      7\u001b[0m \u001b[0mmotocyclo_accidents\u001b[0m \u001b[0;34m=\u001b[0m \u001b[0mmotocyclo_accidents\u001b[0m\u001b[0;34m[\u001b[0m\u001b[0mmotocyclo_accidents\u001b[0m\u001b[0;34m.\u001b[0m\u001b[0mDescripcio_sexe\u001b[0m \u001b[0;34m!=\u001b[0m \u001b[0;34m\"Desconegut\"\u001b[0m\u001b[0;34m]\u001b[0m\u001b[0;34m\u001b[0m\u001b[0;34m\u001b[0m\u001b[0m\n\u001b[1;32m      8\u001b[0m \u001b[0mmotocyclo_accidents\u001b[0m\u001b[0;34m[\u001b[0m\u001b[0;34m'Edat'\u001b[0m\u001b[0;34m]\u001b[0m \u001b[0;34m=\u001b[0m \u001b[0mmotocyclo_accidents\u001b[0m\u001b[0;34m[\u001b[0m\u001b[0;34m'Edat'\u001b[0m\u001b[0;34m]\u001b[0m\u001b[0;34m.\u001b[0m\u001b[0mastype\u001b[0m\u001b[0;34m(\u001b[0m\u001b[0mstr\u001b[0m\u001b[0;34m)\u001b[0m\u001b[0;34m.\u001b[0m\u001b[0mastype\u001b[0m\u001b[0;34m(\u001b[0m\u001b[0mint\u001b[0m\u001b[0;34m)\u001b[0m\u001b[0;34m\u001b[0m\u001b[0;34m\u001b[0m\u001b[0m\n\u001b[0;32m----> 9\u001b[0;31m motocyclo_accidents = motocyclo_accidents[['Any', 'Numero_expedient', 'Nom_districte', 'Descripcio_dia_setmana', 'Mes_ any', 'Nom_mes', 'Dia_mes', 'Descripcio_torn', \n\u001b[0m\u001b[1;32m     10\u001b[0m                                            'Hora_dia', 'Desc_Tipus_vehicle_implicat', 'Descripcio_sexe', 'Edat', 'Descripcio_tipus_persona', 'Descripcio_victimitzacio']]\n",
      "\u001b[0;32m/usr/local/lib/python3.8/site-packages/pandas/core/frame.py\u001b[0m in \u001b[0;36m__getitem__\u001b[0;34m(self, key)\u001b[0m\n\u001b[1;32m   2906\u001b[0m             \u001b[0;32mif\u001b[0m \u001b[0mis_iterator\u001b[0m\u001b[0;34m(\u001b[0m\u001b[0mkey\u001b[0m\u001b[0;34m)\u001b[0m\u001b[0;34m:\u001b[0m\u001b[0;34m\u001b[0m\u001b[0;34m\u001b[0m\u001b[0m\n\u001b[1;32m   2907\u001b[0m                 \u001b[0mkey\u001b[0m \u001b[0;34m=\u001b[0m \u001b[0mlist\u001b[0m\u001b[0;34m(\u001b[0m\u001b[0mkey\u001b[0m\u001b[0;34m)\u001b[0m\u001b[0;34m\u001b[0m\u001b[0;34m\u001b[0m\u001b[0m\n\u001b[0;32m-> 2908\u001b[0;31m             \u001b[0mindexer\u001b[0m \u001b[0;34m=\u001b[0m \u001b[0mself\u001b[0m\u001b[0;34m.\u001b[0m\u001b[0mloc\u001b[0m\u001b[0;34m.\u001b[0m\u001b[0m_get_listlike_indexer\u001b[0m\u001b[0;34m(\u001b[0m\u001b[0mkey\u001b[0m\u001b[0;34m,\u001b[0m \u001b[0maxis\u001b[0m\u001b[0;34m=\u001b[0m\u001b[0;36m1\u001b[0m\u001b[0;34m,\u001b[0m \u001b[0mraise_missing\u001b[0m\u001b[0;34m=\u001b[0m\u001b[0;32mTrue\u001b[0m\u001b[0;34m)\u001b[0m\u001b[0;34m[\u001b[0m\u001b[0;36m1\u001b[0m\u001b[0;34m]\u001b[0m\u001b[0;34m\u001b[0m\u001b[0;34m\u001b[0m\u001b[0m\n\u001b[0m\u001b[1;32m   2909\u001b[0m \u001b[0;34m\u001b[0m\u001b[0m\n\u001b[1;32m   2910\u001b[0m         \u001b[0;31m# take() does not accept boolean indexers\u001b[0m\u001b[0;34m\u001b[0m\u001b[0;34m\u001b[0m\u001b[0;34m\u001b[0m\u001b[0m\n",
      "\u001b[0;32m/usr/local/lib/python3.8/site-packages/pandas/core/indexing.py\u001b[0m in \u001b[0;36m_get_listlike_indexer\u001b[0;34m(self, key, axis, raise_missing)\u001b[0m\n\u001b[1;32m   1252\u001b[0m             \u001b[0mkeyarr\u001b[0m\u001b[0;34m,\u001b[0m \u001b[0mindexer\u001b[0m\u001b[0;34m,\u001b[0m \u001b[0mnew_indexer\u001b[0m \u001b[0;34m=\u001b[0m \u001b[0max\u001b[0m\u001b[0;34m.\u001b[0m\u001b[0m_reindex_non_unique\u001b[0m\u001b[0;34m(\u001b[0m\u001b[0mkeyarr\u001b[0m\u001b[0;34m)\u001b[0m\u001b[0;34m\u001b[0m\u001b[0;34m\u001b[0m\u001b[0m\n\u001b[1;32m   1253\u001b[0m \u001b[0;34m\u001b[0m\u001b[0m\n\u001b[0;32m-> 1254\u001b[0;31m         \u001b[0mself\u001b[0m\u001b[0;34m.\u001b[0m\u001b[0m_validate_read_indexer\u001b[0m\u001b[0;34m(\u001b[0m\u001b[0mkeyarr\u001b[0m\u001b[0;34m,\u001b[0m \u001b[0mindexer\u001b[0m\u001b[0;34m,\u001b[0m \u001b[0maxis\u001b[0m\u001b[0;34m,\u001b[0m \u001b[0mraise_missing\u001b[0m\u001b[0;34m=\u001b[0m\u001b[0mraise_missing\u001b[0m\u001b[0;34m)\u001b[0m\u001b[0;34m\u001b[0m\u001b[0;34m\u001b[0m\u001b[0m\n\u001b[0m\u001b[1;32m   1255\u001b[0m         \u001b[0;32mreturn\u001b[0m \u001b[0mkeyarr\u001b[0m\u001b[0;34m,\u001b[0m \u001b[0mindexer\u001b[0m\u001b[0;34m\u001b[0m\u001b[0;34m\u001b[0m\u001b[0m\n\u001b[1;32m   1256\u001b[0m \u001b[0;34m\u001b[0m\u001b[0m\n",
      "\u001b[0;32m/usr/local/lib/python3.8/site-packages/pandas/core/indexing.py\u001b[0m in \u001b[0;36m_validate_read_indexer\u001b[0;34m(self, key, indexer, axis, raise_missing)\u001b[0m\n\u001b[1;32m   1302\u001b[0m             \u001b[0;32mif\u001b[0m \u001b[0mraise_missing\u001b[0m\u001b[0;34m:\u001b[0m\u001b[0;34m\u001b[0m\u001b[0;34m\u001b[0m\u001b[0m\n\u001b[1;32m   1303\u001b[0m                 \u001b[0mnot_found\u001b[0m \u001b[0;34m=\u001b[0m \u001b[0mlist\u001b[0m\u001b[0;34m(\u001b[0m\u001b[0mset\u001b[0m\u001b[0;34m(\u001b[0m\u001b[0mkey\u001b[0m\u001b[0;34m)\u001b[0m \u001b[0;34m-\u001b[0m \u001b[0mset\u001b[0m\u001b[0;34m(\u001b[0m\u001b[0max\u001b[0m\u001b[0;34m)\u001b[0m\u001b[0;34m)\u001b[0m\u001b[0;34m\u001b[0m\u001b[0;34m\u001b[0m\u001b[0m\n\u001b[0;32m-> 1304\u001b[0;31m                 \u001b[0;32mraise\u001b[0m \u001b[0mKeyError\u001b[0m\u001b[0;34m(\u001b[0m\u001b[0;34mf\"{not_found} not in index\"\u001b[0m\u001b[0;34m)\u001b[0m\u001b[0;34m\u001b[0m\u001b[0;34m\u001b[0m\u001b[0m\n\u001b[0m\u001b[1;32m   1305\u001b[0m \u001b[0;34m\u001b[0m\u001b[0m\n\u001b[1;32m   1306\u001b[0m             \u001b[0;31m# we skip the warning on Categorical\u001b[0m\u001b[0;34m\u001b[0m\u001b[0;34m\u001b[0m\u001b[0;34m\u001b[0m\u001b[0m\n",
      "\u001b[0;31mKeyError\u001b[0m: \"['Mes_ any'] not in index\""
     ]
    }
   ],
   "source": [
    "accidents = pd.read_csv('../datasets/data/Question456/2016_accidents_persones_gu_bcn.csv')\n",
    "accidents.drop(['Codi_districte', 'Codi_barri', 'Nom_barri', 'Codi_carrer', 'Nom_carrer', 'Num_postal ', 'Dia_setmana', 'Descripcio_tipus_dia', \n",
    "                'Descripcio_situacio', 'Descripcio_causa_vianant', 'Coordenada_UTM_X', 'Coordenada_UTM_Y', 'Longitud', 'Latitud'], axis=1, inplace=True)\n",
    "motocyclo_accidents = accidents[accidents['Desc_Tipus_vehicle_implicat'].isin(['Motocicleta', 'Ciclomotor'])]\n",
    "motocyclo_accidents = motocyclo_accidents[motocyclo_accidents.Edat != \"Desconegut\"]\n",
    "motocyclo_accidents = motocyclo_accidents[motocyclo_accidents.Nom_districte != \"Desconegut\"]\n",
    "motocyclo_accidents = motocyclo_accidents[motocyclo_accidents.Descripcio_sexe != \"Desconegut\"]\n",
    "motocyclo_accidents['Edat'] = motocyclo_accidents['Edat'].astype(str).astype(int)\n",
    "motocyclo_accidents = motocyclo_accidents[['Any', 'Numero_expedient', 'Nom_districte', 'Descripcio_dia_setmana', 'Mes_ any', 'Nom_mes', 'Dia_mes', 'Descripcio_torn', \n",
    "                                           'Hora_dia', 'Desc_Tipus_vehicle_implicat', 'Descripcio_sexe', 'Edat', 'Descripcio_tipus_persona', 'Descripcio_victimitzacio']]"
   ]
  },
  {
   "cell_type": "code",
   "execution_count": null,
   "metadata": {},
   "outputs": [],
   "source": [
    "motocyclo_accidents"
   ]
  },
  {
   "cell_type": "code",
   "execution_count": 3,
   "metadata": {},
   "outputs": [
    {
     "data": {
      "text/plain": [
       "Eixample               2605\n",
       "Sant Martí              826\n",
       "Sarrià-Sant Gervasi     806\n",
       "Sants-Montjuïc          654\n",
       "Les Corts               537\n",
       "Horta-Guinardó          469\n",
       "Gràcia                  360\n",
       "Sant Andreu             308\n",
       "Ciutat Vella            295\n",
       "Nou Barris              286\n",
       "Name: Nom_districte, dtype: int64"
      ]
     },
     "execution_count": 3,
     "metadata": {},
     "output_type": "execute_result"
    }
   ],
   "source": [
    "motocyclo_accidents['Nom_districte'].value_counts()"
   ]
  },
  {
   "cell_type": "code",
   "execution_count": 4,
   "metadata": {},
   "outputs": [
    {
     "data": {
      "text/plain": [
       "Dijous       1264\n",
       "Divendres    1236\n",
       "Dimecres     1207\n",
       "Dimarts      1157\n",
       "Dilluns      1038\n",
       "Dissabte      745\n",
       "Diumenge      499\n",
       "Name: Descripcio_dia_setmana, dtype: int64"
      ]
     },
     "execution_count": 4,
     "metadata": {},
     "output_type": "execute_result"
    }
   ],
   "source": [
    "motocyclo_accidents['Descripcio_dia_setmana'].value_counts()"
   ]
  },
  {
   "cell_type": "code",
   "execution_count": 5,
   "metadata": {},
   "outputs": [
    {
     "data": {
      "text/plain": [
       "Novembre    681\n",
       "Juny        660\n",
       "Desembre    653\n",
       "Maig        627\n",
       "Març        607\n",
       "Febrer      604\n",
       "Abril       592\n",
       "Gener       586\n",
       "Octubre     580\n",
       "Setembre    575\n",
       "Juliol      568\n",
       "Agost       413\n",
       "Name: Nom_mes, dtype: int64"
      ]
     },
     "execution_count": 5,
     "metadata": {},
     "output_type": "execute_result"
    }
   ],
   "source": [
    "motocyclo_accidents['Nom_mes'].value_counts()"
   ]
  },
  {
   "cell_type": "code",
   "execution_count": 6,
   "metadata": {},
   "outputs": [
    {
     "data": {
      "text/plain": [
       "15    268\n",
       "21    266\n",
       "11    258\n",
       "18    257\n",
       "14    255\n",
       "1     250\n",
       "20    249\n",
       "28    248\n",
       "7     248\n",
       "3     248\n",
       "29    247\n",
       "4     245\n",
       "8     244\n",
       "19    240\n",
       "25    239\n",
       "17    235\n",
       "10    233\n",
       "9     233\n",
       "2     230\n",
       "23    228\n",
       "16    227\n",
       "22    224\n",
       "27    217\n",
       "5     217\n",
       "26    214\n",
       "13    211\n",
       "30    207\n",
       "12    206\n",
       "6     197\n",
       "24    185\n",
       "31    120\n",
       "Name: Dia_mes, dtype: int64"
      ]
     },
     "execution_count": 6,
     "metadata": {},
     "output_type": "execute_result"
    }
   ],
   "source": [
    "motocyclo_accidents['Dia_mes'].value_counts()"
   ]
  },
  {
   "cell_type": "code",
   "execution_count": 7,
   "metadata": {},
   "outputs": [
    {
     "data": {
      "text/plain": [
       "14    548\n",
       "15    489\n",
       "18    488\n",
       "20    478\n",
       "13    462\n",
       "19    461\n",
       "16    448\n",
       "9     439\n",
       "8     437\n",
       "17    420\n",
       "12    398\n",
       "21    381\n",
       "11    361\n",
       "10    323\n",
       "22    232\n",
       "7     225\n",
       "23    153\n",
       "0     102\n",
       "6      82\n",
       "1      76\n",
       "2      46\n",
       "5      39\n",
       "3      35\n",
       "4      23\n",
       "Name: Hora_dia, dtype: int64"
      ]
     },
     "execution_count": 7,
     "metadata": {},
     "output_type": "execute_result"
    }
   ],
   "source": [
    "motocyclo_accidents['Hora_dia'].value_counts()"
   ]
  },
  {
   "cell_type": "code",
   "execution_count": 8,
   "metadata": {},
   "outputs": [
    {
     "data": {
      "text/plain": [
       "Tarda    3713\n",
       "Matí     2727\n",
       "Nit       706\n",
       "Name: Descripcio_torn, dtype: int64"
      ]
     },
     "execution_count": 8,
     "metadata": {},
     "output_type": "execute_result"
    }
   ],
   "source": [
    "motocyclo_accidents['Descripcio_torn'].value_counts()"
   ]
  },
  {
   "cell_type": "code",
   "execution_count": 9,
   "metadata": {},
   "outputs": [
    {
     "data": {
      "text/plain": [
       "Motocicleta    6103\n",
       "Ciclomotor     1043\n",
       "Name: Desc_Tipus_vehicle_implicat, dtype: int64"
      ]
     },
     "execution_count": 9,
     "metadata": {},
     "output_type": "execute_result"
    }
   ],
   "source": [
    "motocyclo_accidents['Desc_Tipus_vehicle_implicat'].value_counts()"
   ]
  },
  {
   "cell_type": "code",
   "execution_count": 10,
   "metadata": {},
   "outputs": [
    {
     "data": {
      "text/plain": [
       "Home    4772\n",
       "Dona    2374\n",
       "Name: Descripcio_sexe, dtype: int64"
      ]
     },
     "execution_count": 10,
     "metadata": {},
     "output_type": "execute_result"
    }
   ],
   "source": [
    "motocyclo_accidents['Descripcio_sexe'].value_counts()"
   ]
  },
  {
   "cell_type": "code",
   "execution_count": 11,
   "metadata": {},
   "outputs": [
    {
     "data": {
      "text/plain": [
       "Age\n",
       "-14s        845\n",
       "15-20s     7505\n",
       "21-29s    50620\n",
       "30-39s    66268\n",
       "40-49s    66542\n",
       "50-59s    46154\n",
       "60-65s    12159\n",
       "66-75s     6629\n",
       "+75s        456\n",
       "Name: Edat, dtype: int64"
      ]
     },
     "execution_count": 11,
     "metadata": {},
     "output_type": "execute_result"
    }
   ],
   "source": [
    "motocyclo_accidents['Age'] = pd.cut(motocyclo_accidents['Edat'], bins=[0, 14, 20, 29, 39, 49, 59, 65, 75, 76], labels=[\"-14s\", \"15-20s\", \"21-29s\",\"30-39s\",\n",
    "                                                                                                                        \"40-49s\", \"50-59s\", \"60-65s\", \"66-75s\", \"+75s\"])                                                                                    \n",
    "motocyclo_accidents.groupby('Age')['Edat'].sum()"
   ]
  },
  {
   "cell_type": "code",
   "execution_count": 12,
   "metadata": {},
   "outputs": [
    {
     "data": {
      "text/plain": [
       "Conductor    6099\n",
       "Passatger     703\n",
       "Vianant       344\n",
       "Name: Descripcio_tipus_persona, dtype: int64"
      ]
     },
     "execution_count": 12,
     "metadata": {},
     "output_type": "execute_result"
    }
   ],
   "source": [
    "motocyclo_accidents['Descripcio_tipus_persona'].value_counts()"
   ]
  },
  {
   "cell_type": "code",
   "execution_count": 13,
   "metadata": {},
   "outputs": [
    {
     "data": {
      "text/plain": [
       "Ferit lleu    7013\n",
       "Ferit greu     122\n",
       "Mort            11\n",
       "Name: Descripcio_victimitzacio, dtype: int64"
      ]
     },
     "execution_count": 13,
     "metadata": {},
     "output_type": "execute_result"
    }
   ],
   "source": [
    "motocyclo_accidents['Descripcio_victimitzacio'].value_counts()"
   ]
  },
  {
   "cell_type": "code",
   "execution_count": 14,
   "metadata": {},
   "outputs": [
    {
     "data": {
      "text/plain": [
       "Nom_districte\n",
       "Ciutat Vella            295\n",
       "Eixample               2605\n",
       "Gràcia                  360\n",
       "Horta-Guinardó          469\n",
       "Les Corts               537\n",
       "Nou Barris              286\n",
       "Sant Andreu             308\n",
       "Sant Martí              826\n",
       "Sants-Montjuïc          654\n",
       "Sarrià-Sant Gervasi     806\n",
       "Name: Descripcio_victimitzacio, dtype: int64"
      ]
     },
     "execution_count": 14,
     "metadata": {},
     "output_type": "execute_result"
    }
   ],
   "source": [
    "motocyclo_accidents.groupby(['Nom_districte'])['Descripcio_victimitzacio'].count()"
   ]
  },
  {
   "cell_type": "code",
   "execution_count": 15,
   "metadata": {},
   "outputs": [
    {
     "data": {
      "text/plain": [
       "Index(['Ferit greu', 'Ferit lleu', 'Mort'], dtype='object', name='Descripcio_victimitzacio')"
      ]
     },
     "execution_count": 15,
     "metadata": {},
     "output_type": "execute_result"
    }
   ],
   "source": [
    "districte_victimes = pd.crosstab(index=motocyclo_accidents['Nom_districte'], columns=motocyclo_accidents['Descripcio_victimitzacio'], \n",
    "                  values=motocyclo_accidents['Numero_expedient'], aggfunc='count')\n",
    "districte_victimes.columns"
   ]
  },
  {
   "cell_type": "code",
   "execution_count": 16,
   "metadata": {},
   "outputs": [
    {
     "data": {
      "text/html": [
       "<div>\n",
       "<style scoped>\n",
       "    .dataframe tbody tr th:only-of-type {\n",
       "        vertical-align: middle;\n",
       "    }\n",
       "\n",
       "    .dataframe tbody tr th {\n",
       "        vertical-align: top;\n",
       "    }\n",
       "\n",
       "    .dataframe thead th {\n",
       "        text-align: right;\n",
       "    }\n",
       "</style>\n",
       "<table border=\"1\" class=\"dataframe\">\n",
       "  <thead>\n",
       "    <tr style=\"text-align: right;\">\n",
       "      <th>Descripcio_victimitzacio</th>\n",
       "      <th>Ferit greu</th>\n",
       "      <th>Ferit lleu</th>\n",
       "      <th>Mort</th>\n",
       "    </tr>\n",
       "    <tr>\n",
       "      <th>Nom_districte</th>\n",
       "      <th></th>\n",
       "      <th></th>\n",
       "      <th></th>\n",
       "    </tr>\n",
       "  </thead>\n",
       "  <tbody>\n",
       "    <tr>\n",
       "      <th>Ciutat Vella</th>\n",
       "      <td>7.0</td>\n",
       "      <td>288.0</td>\n",
       "      <td>NaN</td>\n",
       "    </tr>\n",
       "    <tr>\n",
       "      <th>Eixample</th>\n",
       "      <td>30.0</td>\n",
       "      <td>2573.0</td>\n",
       "      <td>2.0</td>\n",
       "    </tr>\n",
       "    <tr>\n",
       "      <th>Gràcia</th>\n",
       "      <td>4.0</td>\n",
       "      <td>356.0</td>\n",
       "      <td>NaN</td>\n",
       "    </tr>\n",
       "    <tr>\n",
       "      <th>Horta-Guinardó</th>\n",
       "      <td>4.0</td>\n",
       "      <td>464.0</td>\n",
       "      <td>1.0</td>\n",
       "    </tr>\n",
       "    <tr>\n",
       "      <th>Les Corts</th>\n",
       "      <td>14.0</td>\n",
       "      <td>523.0</td>\n",
       "      <td>NaN</td>\n",
       "    </tr>\n",
       "    <tr>\n",
       "      <th>Nou Barris</th>\n",
       "      <td>13.0</td>\n",
       "      <td>272.0</td>\n",
       "      <td>1.0</td>\n",
       "    </tr>\n",
       "    <tr>\n",
       "      <th>Sant Andreu</th>\n",
       "      <td>8.0</td>\n",
       "      <td>299.0</td>\n",
       "      <td>1.0</td>\n",
       "    </tr>\n",
       "    <tr>\n",
       "      <th>Sant Martí</th>\n",
       "      <td>11.0</td>\n",
       "      <td>815.0</td>\n",
       "      <td>NaN</td>\n",
       "    </tr>\n",
       "    <tr>\n",
       "      <th>Sants-Montjuïc</th>\n",
       "      <td>17.0</td>\n",
       "      <td>636.0</td>\n",
       "      <td>1.0</td>\n",
       "    </tr>\n",
       "    <tr>\n",
       "      <th>Sarrià-Sant Gervasi</th>\n",
       "      <td>14.0</td>\n",
       "      <td>787.0</td>\n",
       "      <td>5.0</td>\n",
       "    </tr>\n",
       "  </tbody>\n",
       "</table>\n",
       "</div>"
      ],
      "text/plain": [
       "Descripcio_victimitzacio  Ferit greu  Ferit lleu  Mort\n",
       "Nom_districte                                         \n",
       "Ciutat Vella                     7.0       288.0   NaN\n",
       "Eixample                        30.0      2573.0   2.0\n",
       "Gràcia                           4.0       356.0   NaN\n",
       "Horta-Guinardó                   4.0       464.0   1.0\n",
       "Les Corts                       14.0       523.0   NaN\n",
       "Nou Barris                      13.0       272.0   1.0\n",
       "Sant Andreu                      8.0       299.0   1.0\n",
       "Sant Martí                      11.0       815.0   NaN\n",
       "Sants-Montjuïc                  17.0       636.0   1.0\n",
       "Sarrià-Sant Gervasi             14.0       787.0   5.0"
      ]
     },
     "execution_count": 16,
     "metadata": {},
     "output_type": "execute_result"
    }
   ],
   "source": [
    "districte_victimes"
   ]
  },
  {
   "cell_type": "code",
   "execution_count": 21,
   "metadata": {},
   "outputs": [],
   "source": [
    "districte_victimes.columns=[[\"Ferit lleu\", \"Ferit greu\", \"Mort\"]]"
   ]
  },
  {
   "cell_type": "code",
   "execution_count": 22,
   "metadata": {},
   "outputs": [
    {
     "data": {
      "text/html": [
       "<div>\n",
       "<style scoped>\n",
       "    .dataframe tbody tr th:only-of-type {\n",
       "        vertical-align: middle;\n",
       "    }\n",
       "\n",
       "    .dataframe tbody tr th {\n",
       "        vertical-align: top;\n",
       "    }\n",
       "\n",
       "    .dataframe thead tr th {\n",
       "        text-align: left;\n",
       "    }\n",
       "\n",
       "    .dataframe thead tr:last-of-type th {\n",
       "        text-align: right;\n",
       "    }\n",
       "</style>\n",
       "<table border=\"1\" class=\"dataframe\">\n",
       "  <thead>\n",
       "    <tr>\n",
       "      <th></th>\n",
       "      <th>Ferit lleu</th>\n",
       "      <th>Ferit greu</th>\n",
       "      <th>Mort</th>\n",
       "    </tr>\n",
       "    <tr>\n",
       "      <th>Nom_districte</th>\n",
       "      <th></th>\n",
       "      <th></th>\n",
       "      <th></th>\n",
       "    </tr>\n",
       "  </thead>\n",
       "  <tbody>\n",
       "    <tr>\n",
       "      <th>Ciutat Vella</th>\n",
       "      <td>7.0</td>\n",
       "      <td>288.0</td>\n",
       "      <td>NaN</td>\n",
       "    </tr>\n",
       "    <tr>\n",
       "      <th>Eixample</th>\n",
       "      <td>30.0</td>\n",
       "      <td>2573.0</td>\n",
       "      <td>2.0</td>\n",
       "    </tr>\n",
       "    <tr>\n",
       "      <th>Gràcia</th>\n",
       "      <td>4.0</td>\n",
       "      <td>356.0</td>\n",
       "      <td>NaN</td>\n",
       "    </tr>\n",
       "    <tr>\n",
       "      <th>Horta-Guinardó</th>\n",
       "      <td>4.0</td>\n",
       "      <td>464.0</td>\n",
       "      <td>1.0</td>\n",
       "    </tr>\n",
       "    <tr>\n",
       "      <th>Les Corts</th>\n",
       "      <td>14.0</td>\n",
       "      <td>523.0</td>\n",
       "      <td>NaN</td>\n",
       "    </tr>\n",
       "    <tr>\n",
       "      <th>Nou Barris</th>\n",
       "      <td>13.0</td>\n",
       "      <td>272.0</td>\n",
       "      <td>1.0</td>\n",
       "    </tr>\n",
       "    <tr>\n",
       "      <th>Sant Andreu</th>\n",
       "      <td>8.0</td>\n",
       "      <td>299.0</td>\n",
       "      <td>1.0</td>\n",
       "    </tr>\n",
       "    <tr>\n",
       "      <th>Sant Martí</th>\n",
       "      <td>11.0</td>\n",
       "      <td>815.0</td>\n",
       "      <td>NaN</td>\n",
       "    </tr>\n",
       "    <tr>\n",
       "      <th>Sants-Montjuïc</th>\n",
       "      <td>17.0</td>\n",
       "      <td>636.0</td>\n",
       "      <td>1.0</td>\n",
       "    </tr>\n",
       "    <tr>\n",
       "      <th>Sarrià-Sant Gervasi</th>\n",
       "      <td>14.0</td>\n",
       "      <td>787.0</td>\n",
       "      <td>5.0</td>\n",
       "    </tr>\n",
       "  </tbody>\n",
       "</table>\n",
       "</div>"
      ],
      "text/plain": [
       "                    Ferit lleu Ferit greu Mort\n",
       "Nom_districte                                 \n",
       "Ciutat Vella               7.0      288.0  NaN\n",
       "Eixample                  30.0     2573.0  2.0\n",
       "Gràcia                     4.0      356.0  NaN\n",
       "Horta-Guinardó             4.0      464.0  1.0\n",
       "Les Corts                 14.0      523.0  NaN\n",
       "Nou Barris                13.0      272.0  1.0\n",
       "Sant Andreu                8.0      299.0  1.0\n",
       "Sant Martí                11.0      815.0  NaN\n",
       "Sants-Montjuïc            17.0      636.0  1.0\n",
       "Sarrià-Sant Gervasi       14.0      787.0  5.0"
      ]
     },
     "execution_count": 22,
     "metadata": {},
     "output_type": "execute_result"
    }
   ],
   "source": [
    "districte_victimes"
   ]
  },
  {
   "cell_type": "code",
   "execution_count": null,
   "metadata": {},
   "outputs": [],
   "source": []
  }
 ],
 "metadata": {
  "kernelspec": {
   "display_name": "Python 3",
   "language": "python",
   "name": "python3"
  },
  "language_info": {
   "codemirror_mode": {
    "name": "ipython",
    "version": 3
   },
   "file_extension": ".py",
   "mimetype": "text/x-python",
   "name": "python",
   "nbconvert_exporter": "python",
   "pygments_lexer": "ipython3",
   "version": "3.8.5"
  }
 },
 "nbformat": 4,
 "nbformat_minor": 4
}
