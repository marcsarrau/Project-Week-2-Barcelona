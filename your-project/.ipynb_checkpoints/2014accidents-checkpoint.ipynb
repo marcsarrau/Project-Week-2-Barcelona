{
 "cells": [
  {
   "cell_type": "code",
   "execution_count": 1,
   "metadata": {},
   "outputs": [],
   "source": [
    "import pandas as pd\n",
    "import numpy as np"
   ]
  },
  {
   "cell_type": "code",
   "execution_count": 2,
   "metadata": {
    "scrolled": true
   },
   "outputs": [
    {
     "data": {
      "text/plain": [
       "Index(['Número d'expedient', 'Codi districte', 'Nom districte', 'Codi barri',\n",
       "       'Nom barri', 'Codi carrer', 'Nom carrer', 'Num postal caption',\n",
       "       'Descripció dia setmana', 'Dia setmana', 'Descripció tipus dia',\n",
       "       'NK Any', 'Mes de any', 'Nom mes', 'Dia de mes', 'Hora de dia',\n",
       "       'Descripció causa vianant', 'Desc. Tipus vehicle implicat',\n",
       "       'Descripció sexe', 'Descripció tipus persona', 'Edat',\n",
       "       'Descripció victimització', 'Coordenada UTM (Y)', 'Coordenada UTM (X)'],\n",
       "      dtype='object')"
      ]
     },
     "execution_count": 2,
     "metadata": {},
     "output_type": "execute_result"
    }
   ],
   "source": [
    "accidents=pd.read_csv('../datasets/data/Question456/2015_ACCIDENTS_PERSONES_GU_BCN_.csv', encoding= 'unicode_escape')\n",
    "accidents.columns"
   ]
  },
  {
   "cell_type": "code",
   "execution_count": 3,
   "metadata": {
    "scrolled": true
   },
   "outputs": [
    {
     "data": {
      "text/html": [
       "<div>\n",
       "<style scoped>\n",
       "    .dataframe tbody tr th:only-of-type {\n",
       "        vertical-align: middle;\n",
       "    }\n",
       "\n",
       "    .dataframe tbody tr th {\n",
       "        vertical-align: top;\n",
       "    }\n",
       "\n",
       "    .dataframe thead th {\n",
       "        text-align: right;\n",
       "    }\n",
       "</style>\n",
       "<table border=\"1\" class=\"dataframe\">\n",
       "  <thead>\n",
       "    <tr style=\"text-align: right;\">\n",
       "      <th></th>\n",
       "      <th>Número d'expedient</th>\n",
       "      <th>Codi districte</th>\n",
       "      <th>Nom districte</th>\n",
       "      <th>Codi barri</th>\n",
       "      <th>Nom barri</th>\n",
       "      <th>Codi carrer</th>\n",
       "      <th>Nom carrer</th>\n",
       "      <th>Num postal caption</th>\n",
       "      <th>Descripció dia setmana</th>\n",
       "      <th>Dia setmana</th>\n",
       "      <th>...</th>\n",
       "      <th>Dia de mes</th>\n",
       "      <th>Hora de dia</th>\n",
       "      <th>Descripció causa vianant</th>\n",
       "      <th>Desc. Tipus vehicle implicat</th>\n",
       "      <th>Descripció sexe</th>\n",
       "      <th>Descripció tipus persona</th>\n",
       "      <th>Edat</th>\n",
       "      <th>Descripció victimització</th>\n",
       "      <th>Coordenada UTM (Y)</th>\n",
       "      <th>Coordenada UTM (X)</th>\n",
       "    </tr>\n",
       "  </thead>\n",
       "  <tbody>\n",
       "    <tr>\n",
       "      <th>0</th>\n",
       "      <td>2015S005991</td>\n",
       "      <td>-1</td>\n",
       "      <td>Desconegut</td>\n",
       "      <td>-1</td>\n",
       "      <td>Desconegut</td>\n",
       "      <td>-1</td>\n",
       "      <td>Desconegut</td>\n",
       "      <td>Desconegut</td>\n",
       "      <td>Dimarts</td>\n",
       "      <td>Dm</td>\n",
       "      <td>...</td>\n",
       "      <td>4</td>\n",
       "      <td>4</td>\n",
       "      <td>No és causa del  vianant</td>\n",
       "      <td>Motocicleta</td>\n",
       "      <td>Home</td>\n",
       "      <td>Conductor</td>\n",
       "      <td>36</td>\n",
       "      <td>Ferit lleu</td>\n",
       "      <td>-1</td>\n",
       "      <td>-1</td>\n",
       "    </tr>\n",
       "    <tr>\n",
       "      <th>1</th>\n",
       "      <td>2015S004912</td>\n",
       "      <td>-1</td>\n",
       "      <td>Desconegut</td>\n",
       "      <td>-1</td>\n",
       "      <td>Desconegut</td>\n",
       "      <td>-1</td>\n",
       "      <td>Desconegut</td>\n",
       "      <td>Desconegut</td>\n",
       "      <td>Dijous</td>\n",
       "      <td>Dj</td>\n",
       "      <td>...</td>\n",
       "      <td>25</td>\n",
       "      <td>7</td>\n",
       "      <td>No és causa del  vianant</td>\n",
       "      <td>Turismo</td>\n",
       "      <td>Home</td>\n",
       "      <td>Conductor</td>\n",
       "      <td>54</td>\n",
       "      <td>Ferit lleu</td>\n",
       "      <td>-1</td>\n",
       "      <td>-1</td>\n",
       "    </tr>\n",
       "    <tr>\n",
       "      <th>2</th>\n",
       "      <td>2015S009751</td>\n",
       "      <td>10</td>\n",
       "      <td>Sant Martí</td>\n",
       "      <td>64</td>\n",
       "      <td>el Camp de l'Arpa del Clot</td>\n",
       "      <td>224802</td>\n",
       "      <td>Nació</td>\n",
       "      <td>0030 0030</td>\n",
       "      <td>Dimarts</td>\n",
       "      <td>Dm</td>\n",
       "      <td>...</td>\n",
       "      <td>22</td>\n",
       "      <td>2</td>\n",
       "      <td>No és causa del  vianant</td>\n",
       "      <td>Motocicleta</td>\n",
       "      <td>Home</td>\n",
       "      <td>Conductor</td>\n",
       "      <td>49</td>\n",
       "      <td>Ferit lleu</td>\n",
       "      <td>4585145,10</td>\n",
       "      <td>431990,72</td>\n",
       "    </tr>\n",
       "  </tbody>\n",
       "</table>\n",
       "<p>3 rows × 24 columns</p>\n",
       "</div>"
      ],
      "text/plain": [
       "  Número d'expedient  Codi districte Nom districte  Codi barri  \\\n",
       "0        2015S005991              -1    Desconegut          -1   \n",
       "1        2015S004912              -1    Desconegut          -1   \n",
       "2        2015S009751              10    Sant Martí          64   \n",
       "\n",
       "                    Nom barri  Codi carrer  Nom carrer Num postal caption  \\\n",
       "0                  Desconegut           -1  Desconegut         Desconegut   \n",
       "1                  Desconegut           -1  Desconegut         Desconegut   \n",
       "2  el Camp de l'Arpa del Clot       224802       Nació          0030 0030   \n",
       "\n",
       "  Descripció dia setmana Dia setmana  ... Dia de mes  Hora de dia  \\\n",
       "0                Dimarts          Dm  ...          4            4   \n",
       "1                 Dijous          Dj  ...         25            7   \n",
       "2                Dimarts          Dm  ...         22            2   \n",
       "\n",
       "   Descripció causa vianant Desc. Tipus vehicle implicat  Descripció sexe  \\\n",
       "0  No és causa del  vianant                  Motocicleta             Home   \n",
       "1  No és causa del  vianant                      Turismo             Home   \n",
       "2  No és causa del  vianant                  Motocicleta             Home   \n",
       "\n",
       "   Descripció tipus persona Edat Descripció victimització Coordenada UTM (Y)  \\\n",
       "0                 Conductor   36               Ferit lleu                 -1   \n",
       "1                 Conductor   54               Ferit lleu                 -1   \n",
       "2                 Conductor   49               Ferit lleu         4585145,10   \n",
       "\n",
       "  Coordenada UTM (X)  \n",
       "0                 -1  \n",
       "1                 -1  \n",
       "2          431990,72  \n",
       "\n",
       "[3 rows x 24 columns]"
      ]
     },
     "execution_count": 3,
     "metadata": {},
     "output_type": "execute_result"
    }
   ],
   "source": [
    "accidents.head(3)"
   ]
  },
  {
   "cell_type": "code",
   "execution_count": 4,
   "metadata": {},
   "outputs": [],
   "source": [
    "accidents.columns=['Numero_expedient', 'Codi_districte', 'Nom_districte', 'Codi_barri',\n",
    "       'Nom_barri', 'Codi_carrer', 'Nom_carrer', 'Num_postal ',\n",
    "       'Descripcio_dia_setmana', 'Dia_setmana', 'Descripcio_tipus_dia',\n",
    "       'Any', 'Mes_any', 'Nom_mes', 'Dia_mes', 'Hora_dia',\n",
    "       'Descripcio_causa_vianant', 'Desc_Tipus_vehicle_implicat',\n",
    "       'Descripcio_sexe', 'Descripcio_tipus_persona', 'Edat',\n",
    "       'Descripcio_victimitzacio', 'Coordenada UTM (Y)', 'Coordenada UTM (X)']"
   ]
  },
  {
   "cell_type": "code",
   "execution_count": 5,
   "metadata": {},
   "outputs": [],
   "source": [
    "motocyclo_accidents=accidents.drop(['Codi_districte', 'Codi_barri', 'Nom_barri', 'Codi_carrer', 'Nom_carrer', 'Num_postal ', 'Dia_setmana', 'Descripcio_tipus_dia', \n",
    "             'Descripcio_causa_vianant', 'Coordenada UTM (Y)', 'Coordenada UTM (X)'], axis=1, inplace=True)"
   ]
  },
  {
   "cell_type": "code",
   "execution_count": 6,
   "metadata": {},
   "outputs": [],
   "source": [
    "\n",
    "motocyclo_accidents = accidents[accidents['Desc_Tipus_vehicle_implicat'].isin(['Motocicleta', 'Ciclomotor'])]\n",
    "motocyclo_accidents = motocyclo_accidents[motocyclo_accidents.Edat != \"Desconegut\"]\n",
    "motocyclo_accidents = motocyclo_accidents[motocyclo_accidents.Nom_districte != \"Desconegut\"]\n",
    "motocyclo_accidents = motocyclo_accidents[motocyclo_accidents.Descripcio_sexe != \"Desconegut\"]\n",
    "motocyclo_accidents['Edat'] = motocyclo_accidents['Edat'].astype(str).astype(int)\n",
    "motocyclo_accidents = motocyclo_accidents[['Any', 'Numero_expedient', 'Nom_districte', 'Descripcio_dia_setmana', 'Mes_any', 'Nom_mes', 'Dia_mes', \n",
    "                                           'Hora_dia', 'Desc_Tipus_vehicle_implicat', 'Descripcio_sexe', 'Edat', 'Descripcio_tipus_persona', 'Descripcio_victimitzacio']]"
   ]
  },
  {
   "cell_type": "code",
   "execution_count": 7,
   "metadata": {},
   "outputs": [
    {
     "data": {
      "text/html": [
       "<div>\n",
       "<style scoped>\n",
       "    .dataframe tbody tr th:only-of-type {\n",
       "        vertical-align: middle;\n",
       "    }\n",
       "\n",
       "    .dataframe tbody tr th {\n",
       "        vertical-align: top;\n",
       "    }\n",
       "\n",
       "    .dataframe thead th {\n",
       "        text-align: right;\n",
       "    }\n",
       "</style>\n",
       "<table border=\"1\" class=\"dataframe\">\n",
       "  <thead>\n",
       "    <tr style=\"text-align: right;\">\n",
       "      <th></th>\n",
       "      <th>Any</th>\n",
       "      <th>Numero_expedient</th>\n",
       "      <th>Nom_districte</th>\n",
       "      <th>Descripcio_dia_setmana</th>\n",
       "      <th>Mes_any</th>\n",
       "      <th>Nom_mes</th>\n",
       "      <th>Dia_mes</th>\n",
       "      <th>Hora_dia</th>\n",
       "      <th>Desc_Tipus_vehicle_implicat</th>\n",
       "      <th>Descripcio_sexe</th>\n",
       "      <th>Edat</th>\n",
       "      <th>Descripcio_tipus_persona</th>\n",
       "      <th>Descripcio_victimitzacio</th>\n",
       "    </tr>\n",
       "  </thead>\n",
       "  <tbody>\n",
       "    <tr>\n",
       "      <th>2</th>\n",
       "      <td>2015</td>\n",
       "      <td>2015S009751</td>\n",
       "      <td>Sant Martí</td>\n",
       "      <td>Dimarts</td>\n",
       "      <td>12</td>\n",
       "      <td>Desembre</td>\n",
       "      <td>22</td>\n",
       "      <td>2</td>\n",
       "      <td>Motocicleta</td>\n",
       "      <td>Home</td>\n",
       "      <td>49</td>\n",
       "      <td>Conductor</td>\n",
       "      <td>Ferit lleu</td>\n",
       "    </tr>\n",
       "    <tr>\n",
       "      <th>3</th>\n",
       "      <td>2015</td>\n",
       "      <td>2015S002580</td>\n",
       "      <td>Sant Martí</td>\n",
       "      <td>Dimarts</td>\n",
       "      <td>4</td>\n",
       "      <td>Abril</td>\n",
       "      <td>7</td>\n",
       "      <td>5</td>\n",
       "      <td>Motocicleta</td>\n",
       "      <td>Home</td>\n",
       "      <td>13</td>\n",
       "      <td>Vianant</td>\n",
       "      <td>Ferit lleu</td>\n",
       "    </tr>\n",
       "    <tr>\n",
       "      <th>4</th>\n",
       "      <td>2015</td>\n",
       "      <td>2015S008919</td>\n",
       "      <td>Sant Martí</td>\n",
       "      <td>Dimecres</td>\n",
       "      <td>11</td>\n",
       "      <td>Novembre</td>\n",
       "      <td>25</td>\n",
       "      <td>2</td>\n",
       "      <td>Motocicleta</td>\n",
       "      <td>Home</td>\n",
       "      <td>49</td>\n",
       "      <td>Conductor</td>\n",
       "      <td>Ferit lleu</td>\n",
       "    </tr>\n",
       "    <tr>\n",
       "      <th>5</th>\n",
       "      <td>2015</td>\n",
       "      <td>2015S002024</td>\n",
       "      <td>Sant Martí</td>\n",
       "      <td>Dimarts</td>\n",
       "      <td>3</td>\n",
       "      <td>Març</td>\n",
       "      <td>17</td>\n",
       "      <td>12</td>\n",
       "      <td>Ciclomotor</td>\n",
       "      <td>Dona</td>\n",
       "      <td>68</td>\n",
       "      <td>Vianant</td>\n",
       "      <td>Ferit lleu</td>\n",
       "    </tr>\n",
       "    <tr>\n",
       "      <th>6</th>\n",
       "      <td>2015</td>\n",
       "      <td>2015S000787</td>\n",
       "      <td>Sant Martí</td>\n",
       "      <td>Diumenge</td>\n",
       "      <td>2</td>\n",
       "      <td>Febrer</td>\n",
       "      <td>1</td>\n",
       "      <td>4</td>\n",
       "      <td>Motocicleta</td>\n",
       "      <td>Home</td>\n",
       "      <td>33</td>\n",
       "      <td>Passatger</td>\n",
       "      <td>Ferit lleu</td>\n",
       "    </tr>\n",
       "    <tr>\n",
       "      <th>...</th>\n",
       "      <td>...</td>\n",
       "      <td>...</td>\n",
       "      <td>...</td>\n",
       "      <td>...</td>\n",
       "      <td>...</td>\n",
       "      <td>...</td>\n",
       "      <td>...</td>\n",
       "      <td>...</td>\n",
       "      <td>...</td>\n",
       "      <td>...</td>\n",
       "      <td>...</td>\n",
       "      <td>...</td>\n",
       "      <td>...</td>\n",
       "    </tr>\n",
       "    <tr>\n",
       "      <th>11768</th>\n",
       "      <td>2015</td>\n",
       "      <td>2015S008237</td>\n",
       "      <td>Sant Andreu</td>\n",
       "      <td>Dilluns</td>\n",
       "      <td>11</td>\n",
       "      <td>Novembre</td>\n",
       "      <td>2</td>\n",
       "      <td>11</td>\n",
       "      <td>Motocicleta</td>\n",
       "      <td>Dona</td>\n",
       "      <td>35</td>\n",
       "      <td>Passatger</td>\n",
       "      <td>Ferit lleu</td>\n",
       "    </tr>\n",
       "    <tr>\n",
       "      <th>11769</th>\n",
       "      <td>2015</td>\n",
       "      <td>2015S008237</td>\n",
       "      <td>Sant Andreu</td>\n",
       "      <td>Dilluns</td>\n",
       "      <td>11</td>\n",
       "      <td>Novembre</td>\n",
       "      <td>2</td>\n",
       "      <td>11</td>\n",
       "      <td>Motocicleta</td>\n",
       "      <td>Dona</td>\n",
       "      <td>41</td>\n",
       "      <td>Conductor</td>\n",
       "      <td>Ferit lleu</td>\n",
       "    </tr>\n",
       "    <tr>\n",
       "      <th>11774</th>\n",
       "      <td>2015</td>\n",
       "      <td>2015S008084</td>\n",
       "      <td>Sant Andreu</td>\n",
       "      <td>Dimarts</td>\n",
       "      <td>10</td>\n",
       "      <td>Octubre</td>\n",
       "      <td>27</td>\n",
       "      <td>5</td>\n",
       "      <td>Motocicleta</td>\n",
       "      <td>Home</td>\n",
       "      <td>59</td>\n",
       "      <td>Conductor</td>\n",
       "      <td>Ferit lleu</td>\n",
       "    </tr>\n",
       "    <tr>\n",
       "      <th>11778</th>\n",
       "      <td>2015</td>\n",
       "      <td>2015S000220</td>\n",
       "      <td>Sant Andreu</td>\n",
       "      <td>Dilluns</td>\n",
       "      <td>1</td>\n",
       "      <td>Gener</td>\n",
       "      <td>12</td>\n",
       "      <td>8</td>\n",
       "      <td>Motocicleta</td>\n",
       "      <td>Home</td>\n",
       "      <td>25</td>\n",
       "      <td>Conductor</td>\n",
       "      <td>Ferit lleu</td>\n",
       "    </tr>\n",
       "    <tr>\n",
       "      <th>11779</th>\n",
       "      <td>2015</td>\n",
       "      <td>2015S003223</td>\n",
       "      <td>Sant Andreu</td>\n",
       "      <td>Dimarts</td>\n",
       "      <td>4</td>\n",
       "      <td>Abril</td>\n",
       "      <td>28</td>\n",
       "      <td>6</td>\n",
       "      <td>Motocicleta</td>\n",
       "      <td>Dona</td>\n",
       "      <td>37</td>\n",
       "      <td>Conductor</td>\n",
       "      <td>Ferit lleu</td>\n",
       "    </tr>\n",
       "  </tbody>\n",
       "</table>\n",
       "<p>6878 rows × 13 columns</p>\n",
       "</div>"
      ],
      "text/plain": [
       "        Any Numero_expedient Nom_districte Descripcio_dia_setmana  Mes_any  \\\n",
       "2      2015      2015S009751    Sant Martí                Dimarts       12   \n",
       "3      2015      2015S002580    Sant Martí                Dimarts        4   \n",
       "4      2015      2015S008919    Sant Martí               Dimecres       11   \n",
       "5      2015      2015S002024    Sant Martí                Dimarts        3   \n",
       "6      2015      2015S000787    Sant Martí               Diumenge        2   \n",
       "...     ...              ...           ...                    ...      ...   \n",
       "11768  2015      2015S008237   Sant Andreu                Dilluns       11   \n",
       "11769  2015      2015S008237   Sant Andreu                Dilluns       11   \n",
       "11774  2015      2015S008084   Sant Andreu                Dimarts       10   \n",
       "11778  2015      2015S000220   Sant Andreu                Dilluns        1   \n",
       "11779  2015      2015S003223   Sant Andreu                Dimarts        4   \n",
       "\n",
       "        Nom_mes  Dia_mes  Hora_dia Desc_Tipus_vehicle_implicat  \\\n",
       "2      Desembre       22         2                 Motocicleta   \n",
       "3         Abril        7         5                 Motocicleta   \n",
       "4      Novembre       25         2                 Motocicleta   \n",
       "5          Març       17        12                  Ciclomotor   \n",
       "6        Febrer        1         4                 Motocicleta   \n",
       "...         ...      ...       ...                         ...   \n",
       "11768  Novembre        2        11                 Motocicleta   \n",
       "11769  Novembre        2        11                 Motocicleta   \n",
       "11774   Octubre       27         5                 Motocicleta   \n",
       "11778     Gener       12         8                 Motocicleta   \n",
       "11779     Abril       28         6                 Motocicleta   \n",
       "\n",
       "      Descripcio_sexe  Edat Descripcio_tipus_persona Descripcio_victimitzacio  \n",
       "2                Home    49                Conductor               Ferit lleu  \n",
       "3                Home    13                  Vianant               Ferit lleu  \n",
       "4                Home    49                Conductor               Ferit lleu  \n",
       "5                Dona    68                  Vianant               Ferit lleu  \n",
       "6                Home    33                Passatger               Ferit lleu  \n",
       "...               ...   ...                      ...                      ...  \n",
       "11768            Dona    35                Passatger               Ferit lleu  \n",
       "11769            Dona    41                Conductor               Ferit lleu  \n",
       "11774            Home    59                Conductor               Ferit lleu  \n",
       "11778            Home    25                Conductor               Ferit lleu  \n",
       "11779            Dona    37                Conductor               Ferit lleu  \n",
       "\n",
       "[6878 rows x 13 columns]"
      ]
     },
     "execution_count": 7,
     "metadata": {},
     "output_type": "execute_result"
    }
   ],
   "source": [
    "motocyclo_accidents"
   ]
  },
  {
   "cell_type": "code",
   "execution_count": 8,
   "metadata": {},
   "outputs": [
    {
     "data": {
      "text/plain": [
       "Eixample               2447\n",
       "Sarrià-Sant Gervasi     785\n",
       "Sant Martí              740\n",
       "Sants-Montjuïc          629\n",
       "Horta-Guinardó          506\n",
       "Les Corts               483\n",
       "Gràcia                  380\n",
       "Sant Andreu             377\n",
       "Ciutat Vella            281\n",
       "Nou Barris              250\n",
       "Name: Nom_districte, dtype: int64"
      ]
     },
     "execution_count": 8,
     "metadata": {},
     "output_type": "execute_result"
    }
   ],
   "source": [
    "motocyclo_accidents['Nom_districte'].value_counts()"
   ]
  },
  {
   "cell_type": "code",
   "execution_count": 9,
   "metadata": {},
   "outputs": [
    {
     "data": {
      "text/plain": [
       "Divendres    1224\n",
       "Dimecres     1193\n",
       "Dijous       1162\n",
       "Dimarts      1121\n",
       "Dilluns       980\n",
       "Dissabte      662\n",
       "Diumenge      536\n",
       "Name: Descripcio_dia_setmana, dtype: int64"
      ]
     },
     "execution_count": 9,
     "metadata": {},
     "output_type": "execute_result"
    }
   ],
   "source": [
    "motocyclo_accidents['Descripcio_dia_setmana'].value_counts()"
   ]
  },
  {
   "cell_type": "code",
   "execution_count": 10,
   "metadata": {},
   "outputs": [
    {
     "data": {
      "text/plain": [
       "Desembre    641\n",
       "Novembre    639\n",
       "Abril       610\n",
       "Octubre     596\n",
       "Maig        594\n",
       "Juliol      589\n",
       "Juny        588\n",
       "Març        571\n",
       "Gener       568\n",
       "Febrer      554\n",
       "Setembre    500\n",
       "Agost       428\n",
       "Name: Nom_mes, dtype: int64"
      ]
     },
     "execution_count": 10,
     "metadata": {},
     "output_type": "execute_result"
    }
   ],
   "source": [
    "motocyclo_accidents['Nom_mes'].value_counts()"
   ]
  },
  {
   "cell_type": "code",
   "execution_count": 11,
   "metadata": {},
   "outputs": [
    {
     "data": {
      "text/plain": [
       "16    274\n",
       "23    270\n",
       "9     261\n",
       "17    260\n",
       "15    256\n",
       "8     247\n",
       "22    246\n",
       "4     244\n",
       "20    243\n",
       "5     237\n",
       "6     234\n",
       "19    228\n",
       "10    227\n",
       "13    224\n",
       "18    222\n",
       "26    221\n",
       "3     221\n",
       "25    221\n",
       "2     220\n",
       "11    215\n",
       "28    212\n",
       "30    210\n",
       "27    206\n",
       "7     205\n",
       "14    202\n",
       "24    202\n",
       "21    199\n",
       "12    198\n",
       "29    187\n",
       "1     167\n",
       "31    119\n",
       "Name: Dia_mes, dtype: int64"
      ]
     },
     "execution_count": 11,
     "metadata": {},
     "output_type": "execute_result"
    }
   ],
   "source": [
    "motocyclo_accidents['Dia_mes'].value_counts()"
   ]
  },
  {
   "cell_type": "code",
   "execution_count": 12,
   "metadata": {},
   "outputs": [
    {
     "data": {
      "text/plain": [
       "8     815\n",
       "9     748\n",
       "7     695\n",
       "10    572\n",
       "12    553\n",
       "2     548\n",
       "1     540\n",
       "6     528\n",
       "11    523\n",
       "5     470\n",
       "3     449\n",
       "4     437\n",
       "Name: Hora_dia, dtype: int64"
      ]
     },
     "execution_count": 12,
     "metadata": {},
     "output_type": "execute_result"
    }
   ],
   "source": [
    "motocyclo_accidents['Hora_dia'].value_counts()"
   ]
  },
  {
   "cell_type": "code",
   "execution_count": 13,
   "metadata": {},
   "outputs": [
    {
     "ename": "KeyError",
     "evalue": "'Descripcio_torn'",
     "output_type": "error",
     "traceback": [
      "\u001b[0;31m---------------------------------------------------------------------------\u001b[0m",
      "\u001b[0;31mKeyError\u001b[0m                                  Traceback (most recent call last)",
      "\u001b[0;32m/usr/local/lib/python3.8/site-packages/pandas/core/indexes/base.py\u001b[0m in \u001b[0;36mget_loc\u001b[0;34m(self, key, method, tolerance)\u001b[0m\n\u001b[1;32m   2894\u001b[0m             \u001b[0;32mtry\u001b[0m\u001b[0;34m:\u001b[0m\u001b[0;34m\u001b[0m\u001b[0;34m\u001b[0m\u001b[0m\n\u001b[0;32m-> 2895\u001b[0;31m                 \u001b[0;32mreturn\u001b[0m \u001b[0mself\u001b[0m\u001b[0;34m.\u001b[0m\u001b[0m_engine\u001b[0m\u001b[0;34m.\u001b[0m\u001b[0mget_loc\u001b[0m\u001b[0;34m(\u001b[0m\u001b[0mcasted_key\u001b[0m\u001b[0;34m)\u001b[0m\u001b[0;34m\u001b[0m\u001b[0;34m\u001b[0m\u001b[0m\n\u001b[0m\u001b[1;32m   2896\u001b[0m             \u001b[0;32mexcept\u001b[0m \u001b[0mKeyError\u001b[0m \u001b[0;32mas\u001b[0m \u001b[0merr\u001b[0m\u001b[0;34m:\u001b[0m\u001b[0;34m\u001b[0m\u001b[0;34m\u001b[0m\u001b[0m\n",
      "\u001b[0;32mpandas/_libs/index.pyx\u001b[0m in \u001b[0;36mpandas._libs.index.IndexEngine.get_loc\u001b[0;34m()\u001b[0m\n",
      "\u001b[0;32mpandas/_libs/index.pyx\u001b[0m in \u001b[0;36mpandas._libs.index.IndexEngine.get_loc\u001b[0;34m()\u001b[0m\n",
      "\u001b[0;32mpandas/_libs/hashtable_class_helper.pxi\u001b[0m in \u001b[0;36mpandas._libs.hashtable.PyObjectHashTable.get_item\u001b[0;34m()\u001b[0m\n",
      "\u001b[0;32mpandas/_libs/hashtable_class_helper.pxi\u001b[0m in \u001b[0;36mpandas._libs.hashtable.PyObjectHashTable.get_item\u001b[0;34m()\u001b[0m\n",
      "\u001b[0;31mKeyError\u001b[0m: 'Descripcio_torn'",
      "\nThe above exception was the direct cause of the following exception:\n",
      "\u001b[0;31mKeyError\u001b[0m                                  Traceback (most recent call last)",
      "\u001b[0;32m<ipython-input-13-877310251932>\u001b[0m in \u001b[0;36m<module>\u001b[0;34m\u001b[0m\n\u001b[0;32m----> 1\u001b[0;31m \u001b[0mmotocyclo_accidents\u001b[0m\u001b[0;34m[\u001b[0m\u001b[0;34m'Descripcio_torn'\u001b[0m\u001b[0;34m]\u001b[0m\u001b[0;34m.\u001b[0m\u001b[0mvalue_counts\u001b[0m\u001b[0;34m(\u001b[0m\u001b[0;34m)\u001b[0m\u001b[0;34m\u001b[0m\u001b[0;34m\u001b[0m\u001b[0m\n\u001b[0m",
      "\u001b[0;32m/usr/local/lib/python3.8/site-packages/pandas/core/frame.py\u001b[0m in \u001b[0;36m__getitem__\u001b[0;34m(self, key)\u001b[0m\n\u001b[1;32m   2900\u001b[0m             \u001b[0;32mif\u001b[0m \u001b[0mself\u001b[0m\u001b[0;34m.\u001b[0m\u001b[0mcolumns\u001b[0m\u001b[0;34m.\u001b[0m\u001b[0mnlevels\u001b[0m \u001b[0;34m>\u001b[0m \u001b[0;36m1\u001b[0m\u001b[0;34m:\u001b[0m\u001b[0;34m\u001b[0m\u001b[0;34m\u001b[0m\u001b[0m\n\u001b[1;32m   2901\u001b[0m                 \u001b[0;32mreturn\u001b[0m \u001b[0mself\u001b[0m\u001b[0;34m.\u001b[0m\u001b[0m_getitem_multilevel\u001b[0m\u001b[0;34m(\u001b[0m\u001b[0mkey\u001b[0m\u001b[0;34m)\u001b[0m\u001b[0;34m\u001b[0m\u001b[0;34m\u001b[0m\u001b[0m\n\u001b[0;32m-> 2902\u001b[0;31m             \u001b[0mindexer\u001b[0m \u001b[0;34m=\u001b[0m \u001b[0mself\u001b[0m\u001b[0;34m.\u001b[0m\u001b[0mcolumns\u001b[0m\u001b[0;34m.\u001b[0m\u001b[0mget_loc\u001b[0m\u001b[0;34m(\u001b[0m\u001b[0mkey\u001b[0m\u001b[0;34m)\u001b[0m\u001b[0;34m\u001b[0m\u001b[0;34m\u001b[0m\u001b[0m\n\u001b[0m\u001b[1;32m   2903\u001b[0m             \u001b[0;32mif\u001b[0m \u001b[0mis_integer\u001b[0m\u001b[0;34m(\u001b[0m\u001b[0mindexer\u001b[0m\u001b[0;34m)\u001b[0m\u001b[0;34m:\u001b[0m\u001b[0;34m\u001b[0m\u001b[0;34m\u001b[0m\u001b[0m\n\u001b[1;32m   2904\u001b[0m                 \u001b[0mindexer\u001b[0m \u001b[0;34m=\u001b[0m \u001b[0;34m[\u001b[0m\u001b[0mindexer\u001b[0m\u001b[0;34m]\u001b[0m\u001b[0;34m\u001b[0m\u001b[0;34m\u001b[0m\u001b[0m\n",
      "\u001b[0;32m/usr/local/lib/python3.8/site-packages/pandas/core/indexes/base.py\u001b[0m in \u001b[0;36mget_loc\u001b[0;34m(self, key, method, tolerance)\u001b[0m\n\u001b[1;32m   2895\u001b[0m                 \u001b[0;32mreturn\u001b[0m \u001b[0mself\u001b[0m\u001b[0;34m.\u001b[0m\u001b[0m_engine\u001b[0m\u001b[0;34m.\u001b[0m\u001b[0mget_loc\u001b[0m\u001b[0;34m(\u001b[0m\u001b[0mcasted_key\u001b[0m\u001b[0;34m)\u001b[0m\u001b[0;34m\u001b[0m\u001b[0;34m\u001b[0m\u001b[0m\n\u001b[1;32m   2896\u001b[0m             \u001b[0;32mexcept\u001b[0m \u001b[0mKeyError\u001b[0m \u001b[0;32mas\u001b[0m \u001b[0merr\u001b[0m\u001b[0;34m:\u001b[0m\u001b[0;34m\u001b[0m\u001b[0;34m\u001b[0m\u001b[0m\n\u001b[0;32m-> 2897\u001b[0;31m                 \u001b[0;32mraise\u001b[0m \u001b[0mKeyError\u001b[0m\u001b[0;34m(\u001b[0m\u001b[0mkey\u001b[0m\u001b[0;34m)\u001b[0m \u001b[0;32mfrom\u001b[0m \u001b[0merr\u001b[0m\u001b[0;34m\u001b[0m\u001b[0;34m\u001b[0m\u001b[0m\n\u001b[0m\u001b[1;32m   2898\u001b[0m \u001b[0;34m\u001b[0m\u001b[0m\n\u001b[1;32m   2899\u001b[0m         \u001b[0;32mif\u001b[0m \u001b[0mtolerance\u001b[0m \u001b[0;32mis\u001b[0m \u001b[0;32mnot\u001b[0m \u001b[0;32mNone\u001b[0m\u001b[0;34m:\u001b[0m\u001b[0;34m\u001b[0m\u001b[0;34m\u001b[0m\u001b[0m\n",
      "\u001b[0;31mKeyError\u001b[0m: 'Descripcio_torn'"
     ]
    }
   ],
   "source": [
    "motocyclo_accidents['Descripcio_torn'].value_counts()"
   ]
  },
  {
   "cell_type": "code",
   "execution_count": null,
   "metadata": {},
   "outputs": [],
   "source": [
    "motocyclo_accidents['Desc_Tipus_vehicle_implicat'].value_counts()"
   ]
  },
  {
   "cell_type": "code",
   "execution_count": 14,
   "metadata": {},
   "outputs": [
    {
     "data": {
      "text/plain": [
       "Home    4722\n",
       "Dona    2156\n",
       "Name: Descripcio_sexe, dtype: int64"
      ]
     },
     "execution_count": 14,
     "metadata": {},
     "output_type": "execute_result"
    }
   ],
   "source": [
    "motocyclo_accidents['Descripcio_sexe'].value_counts()"
   ]
  },
  {
   "cell_type": "code",
   "execution_count": 15,
   "metadata": {},
   "outputs": [
    {
     "data": {
      "text/plain": [
       "Age\n",
       "-14s        857\n",
       "15-20s     7774\n",
       "21-29s    47175\n",
       "30-39s    65846\n",
       "40-49s    62462\n",
       "50-59s    44336\n",
       "60-65s    10975\n",
       "66-75s     7365\n",
       "+75s        304\n",
       "Name: Edat, dtype: int64"
      ]
     },
     "execution_count": 15,
     "metadata": {},
     "output_type": "execute_result"
    }
   ],
   "source": [
    "motocyclo_accidents['Age'] = pd.cut(motocyclo_accidents['Edat'], bins=[0, 14, 20, 29, 39, 49, 59, 65, 75, 76], labels=[\"-14s\", \"15-20s\", \"21-29s\",\"30-39s\",\n",
    "                                                                                                                        \"40-49s\", \"50-59s\", \"60-65s\", \"66-75s\", \"+75s\"])                                                                                    \n",
    "motocyclo_accidents.groupby('Age')['Edat'].sum()"
   ]
  },
  {
   "cell_type": "code",
   "execution_count": 16,
   "metadata": {},
   "outputs": [
    {
     "data": {
      "text/plain": [
       "Conductor    5909\n",
       "Passatger     641\n",
       "Vianant       328\n",
       "Name: Descripcio_tipus_persona, dtype: int64"
      ]
     },
     "execution_count": 16,
     "metadata": {},
     "output_type": "execute_result"
    }
   ],
   "source": [
    "motocyclo_accidents['Descripcio_tipus_persona'].value_counts()"
   ]
  },
  {
   "cell_type": "code",
   "execution_count": 17,
   "metadata": {},
   "outputs": [
    {
     "data": {
      "text/plain": [
       "Ferit lleu    6736\n",
       "Ferit greu     124\n",
       "Mort            18\n",
       "Name: Descripcio_victimitzacio, dtype: int64"
      ]
     },
     "execution_count": 17,
     "metadata": {},
     "output_type": "execute_result"
    }
   ],
   "source": [
    "motocyclo_accidents['Descripcio_victimitzacio'].value_counts()"
   ]
  },
  {
   "cell_type": "code",
   "execution_count": 18,
   "metadata": {},
   "outputs": [
    {
     "data": {
      "text/plain": [
       "Nom_districte\n",
       "Ciutat Vella            281\n",
       "Eixample               2447\n",
       "Gràcia                  380\n",
       "Horta-Guinardó          506\n",
       "Les Corts               483\n",
       "Nou Barris              250\n",
       "Sant Andreu             377\n",
       "Sant Martí              740\n",
       "Sants-Montjuïc          629\n",
       "Sarrià-Sant Gervasi     785\n",
       "Name: Descripcio_victimitzacio, dtype: int64"
      ]
     },
     "execution_count": 18,
     "metadata": {},
     "output_type": "execute_result"
    }
   ],
   "source": [
    "motocyclo_accidents.groupby(['Nom_districte'])['Descripcio_victimitzacio'].count()"
   ]
  },
  {
   "cell_type": "code",
   "execution_count": 19,
   "metadata": {},
   "outputs": [
    {
     "data": {
      "text/plain": [
       "Index(['Ferit greu', 'Ferit lleu', 'Mort'], dtype='object', name='Descripcio_victimitzacio')"
      ]
     },
     "execution_count": 19,
     "metadata": {},
     "output_type": "execute_result"
    }
   ],
   "source": [
    "districte_victimes = pd.crosstab(index=motocyclo_accidents['Nom_districte'], columns=motocyclo_accidents['Descripcio_victimitzacio'], \n",
    "                  values=motocyclo_accidents['Numero_expedient'], aggfunc='count')\n",
    "districte_victimes.columns"
   ]
  },
  {
   "cell_type": "code",
   "execution_count": 20,
   "metadata": {},
   "outputs": [
    {
     "data": {
      "text/html": [
       "<div>\n",
       "<style scoped>\n",
       "    .dataframe tbody tr th:only-of-type {\n",
       "        vertical-align: middle;\n",
       "    }\n",
       "\n",
       "    .dataframe tbody tr th {\n",
       "        vertical-align: top;\n",
       "    }\n",
       "\n",
       "    .dataframe thead th {\n",
       "        text-align: right;\n",
       "    }\n",
       "</style>\n",
       "<table border=\"1\" class=\"dataframe\">\n",
       "  <thead>\n",
       "    <tr style=\"text-align: right;\">\n",
       "      <th>Descripcio_victimitzacio</th>\n",
       "      <th>Ferit greu</th>\n",
       "      <th>Ferit lleu</th>\n",
       "      <th>Mort</th>\n",
       "    </tr>\n",
       "    <tr>\n",
       "      <th>Nom_districte</th>\n",
       "      <th></th>\n",
       "      <th></th>\n",
       "      <th></th>\n",
       "    </tr>\n",
       "  </thead>\n",
       "  <tbody>\n",
       "    <tr>\n",
       "      <th>Ciutat Vella</th>\n",
       "      <td>2.0</td>\n",
       "      <td>277.0</td>\n",
       "      <td>2.0</td>\n",
       "    </tr>\n",
       "    <tr>\n",
       "      <th>Eixample</th>\n",
       "      <td>38.0</td>\n",
       "      <td>2406.0</td>\n",
       "      <td>3.0</td>\n",
       "    </tr>\n",
       "    <tr>\n",
       "      <th>Gràcia</th>\n",
       "      <td>7.0</td>\n",
       "      <td>372.0</td>\n",
       "      <td>1.0</td>\n",
       "    </tr>\n",
       "    <tr>\n",
       "      <th>Horta-Guinardó</th>\n",
       "      <td>11.0</td>\n",
       "      <td>494.0</td>\n",
       "      <td>1.0</td>\n",
       "    </tr>\n",
       "    <tr>\n",
       "      <th>Les Corts</th>\n",
       "      <td>12.0</td>\n",
       "      <td>469.0</td>\n",
       "      <td>2.0</td>\n",
       "    </tr>\n",
       "    <tr>\n",
       "      <th>Nou Barris</th>\n",
       "      <td>9.0</td>\n",
       "      <td>239.0</td>\n",
       "      <td>2.0</td>\n",
       "    </tr>\n",
       "    <tr>\n",
       "      <th>Sant Andreu</th>\n",
       "      <td>6.0</td>\n",
       "      <td>371.0</td>\n",
       "      <td>NaN</td>\n",
       "    </tr>\n",
       "    <tr>\n",
       "      <th>Sant Martí</th>\n",
       "      <td>9.0</td>\n",
       "      <td>729.0</td>\n",
       "      <td>2.0</td>\n",
       "    </tr>\n",
       "    <tr>\n",
       "      <th>Sants-Montjuïc</th>\n",
       "      <td>15.0</td>\n",
       "      <td>613.0</td>\n",
       "      <td>1.0</td>\n",
       "    </tr>\n",
       "    <tr>\n",
       "      <th>Sarrià-Sant Gervasi</th>\n",
       "      <td>15.0</td>\n",
       "      <td>766.0</td>\n",
       "      <td>4.0</td>\n",
       "    </tr>\n",
       "  </tbody>\n",
       "</table>\n",
       "</div>"
      ],
      "text/plain": [
       "Descripcio_victimitzacio  Ferit greu  Ferit lleu  Mort\n",
       "Nom_districte                                         \n",
       "Ciutat Vella                     2.0       277.0   2.0\n",
       "Eixample                        38.0      2406.0   3.0\n",
       "Gràcia                           7.0       372.0   1.0\n",
       "Horta-Guinardó                  11.0       494.0   1.0\n",
       "Les Corts                       12.0       469.0   2.0\n",
       "Nou Barris                       9.0       239.0   2.0\n",
       "Sant Andreu                      6.0       371.0   NaN\n",
       "Sant Martí                       9.0       729.0   2.0\n",
       "Sants-Montjuïc                  15.0       613.0   1.0\n",
       "Sarrià-Sant Gervasi             15.0       766.0   4.0"
      ]
     },
     "execution_count": 20,
     "metadata": {},
     "output_type": "execute_result"
    }
   ],
   "source": [
    "districte_victimes"
   ]
  },
  {
   "cell_type": "code",
   "execution_count": 21,
   "metadata": {},
   "outputs": [],
   "source": [
    "districte_victimes.columns=[[\"Ferit lleu\", \"Ferit greu\", \"Mort\"]]"
   ]
  },
  {
   "cell_type": "code",
   "execution_count": 22,
   "metadata": {},
   "outputs": [
    {
     "data": {
      "text/html": [
       "<div>\n",
       "<style scoped>\n",
       "    .dataframe tbody tr th:only-of-type {\n",
       "        vertical-align: middle;\n",
       "    }\n",
       "\n",
       "    .dataframe tbody tr th {\n",
       "        vertical-align: top;\n",
       "    }\n",
       "\n",
       "    .dataframe thead tr th {\n",
       "        text-align: left;\n",
       "    }\n",
       "\n",
       "    .dataframe thead tr:last-of-type th {\n",
       "        text-align: right;\n",
       "    }\n",
       "</style>\n",
       "<table border=\"1\" class=\"dataframe\">\n",
       "  <thead>\n",
       "    <tr>\n",
       "      <th></th>\n",
       "      <th>Ferit lleu</th>\n",
       "      <th>Ferit greu</th>\n",
       "      <th>Mort</th>\n",
       "    </tr>\n",
       "    <tr>\n",
       "      <th>Nom_districte</th>\n",
       "      <th></th>\n",
       "      <th></th>\n",
       "      <th></th>\n",
       "    </tr>\n",
       "  </thead>\n",
       "  <tbody>\n",
       "    <tr>\n",
       "      <th>Ciutat Vella</th>\n",
       "      <td>2.0</td>\n",
       "      <td>277.0</td>\n",
       "      <td>2.0</td>\n",
       "    </tr>\n",
       "    <tr>\n",
       "      <th>Eixample</th>\n",
       "      <td>38.0</td>\n",
       "      <td>2406.0</td>\n",
       "      <td>3.0</td>\n",
       "    </tr>\n",
       "    <tr>\n",
       "      <th>Gràcia</th>\n",
       "      <td>7.0</td>\n",
       "      <td>372.0</td>\n",
       "      <td>1.0</td>\n",
       "    </tr>\n",
       "    <tr>\n",
       "      <th>Horta-Guinardó</th>\n",
       "      <td>11.0</td>\n",
       "      <td>494.0</td>\n",
       "      <td>1.0</td>\n",
       "    </tr>\n",
       "    <tr>\n",
       "      <th>Les Corts</th>\n",
       "      <td>12.0</td>\n",
       "      <td>469.0</td>\n",
       "      <td>2.0</td>\n",
       "    </tr>\n",
       "    <tr>\n",
       "      <th>Nou Barris</th>\n",
       "      <td>9.0</td>\n",
       "      <td>239.0</td>\n",
       "      <td>2.0</td>\n",
       "    </tr>\n",
       "    <tr>\n",
       "      <th>Sant Andreu</th>\n",
       "      <td>6.0</td>\n",
       "      <td>371.0</td>\n",
       "      <td>NaN</td>\n",
       "    </tr>\n",
       "    <tr>\n",
       "      <th>Sant Martí</th>\n",
       "      <td>9.0</td>\n",
       "      <td>729.0</td>\n",
       "      <td>2.0</td>\n",
       "    </tr>\n",
       "    <tr>\n",
       "      <th>Sants-Montjuïc</th>\n",
       "      <td>15.0</td>\n",
       "      <td>613.0</td>\n",
       "      <td>1.0</td>\n",
       "    </tr>\n",
       "    <tr>\n",
       "      <th>Sarrià-Sant Gervasi</th>\n",
       "      <td>15.0</td>\n",
       "      <td>766.0</td>\n",
       "      <td>4.0</td>\n",
       "    </tr>\n",
       "  </tbody>\n",
       "</table>\n",
       "</div>"
      ],
      "text/plain": [
       "                    Ferit lleu Ferit greu Mort\n",
       "Nom_districte                                 \n",
       "Ciutat Vella               2.0      277.0  2.0\n",
       "Eixample                  38.0     2406.0  3.0\n",
       "Gràcia                     7.0      372.0  1.0\n",
       "Horta-Guinardó            11.0      494.0  1.0\n",
       "Les Corts                 12.0      469.0  2.0\n",
       "Nou Barris                 9.0      239.0  2.0\n",
       "Sant Andreu                6.0      371.0  NaN\n",
       "Sant Martí                 9.0      729.0  2.0\n",
       "Sants-Montjuïc            15.0      613.0  1.0\n",
       "Sarrià-Sant Gervasi       15.0      766.0  4.0"
      ]
     },
     "execution_count": 22,
     "metadata": {},
     "output_type": "execute_result"
    }
   ],
   "source": [
    "districte_victimes"
   ]
  },
  {
   "cell_type": "code",
   "execution_count": null,
   "metadata": {},
   "outputs": [],
   "source": []
  }
 ],
 "metadata": {
  "kernelspec": {
   "display_name": "Python 3",
   "language": "python",
   "name": "python3"
  },
  "language_info": {
   "codemirror_mode": {
    "name": "ipython",
    "version": 3
   },
   "file_extension": ".py",
   "mimetype": "text/x-python",
   "name": "python",
   "nbconvert_exporter": "python",
   "pygments_lexer": "ipython3",
   "version": "3.8.5"
  }
 },
 "nbformat": 4,
 "nbformat_minor": 4
}
