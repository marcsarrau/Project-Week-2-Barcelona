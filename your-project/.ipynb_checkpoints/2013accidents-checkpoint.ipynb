{
 "cells": [
  {
   "cell_type": "code",
   "execution_count": 1,
   "metadata": {},
   "outputs": [],
   "source": [
    "import pandas as pd\n",
    "import numpy as np"
   ]
  },
  {
   "cell_type": "code",
   "execution_count": 2,
   "metadata": {
    "scrolled": true
   },
   "outputs": [
    {
     "data": {
      "text/plain": [
       "Index(['N£mero d'expedient', 'Codi districte', 'Nom districte', 'Codi barri',\n",
       "       'Nom barri', 'Codi carrer', 'Nom carrer', 'Num postal caption',\n",
       "       'Descripci¢ dia setmana', 'Dia setmana', 'Descripci¢ tipus dia',\n",
       "       'NK Any', 'Mes de any', 'Nom mes', 'Dia de mes', 'Hora de dia',\n",
       "       'Descripci¢ causa vianant', 'Desc. Tipus vehicle implicat',\n",
       "       'Descripci¢ sexe', 'Descripci¢ tipus persona', 'Edat',\n",
       "       'Descripci¢ victimitzaci¢', 'Coordenada UTM (Y)', 'Coordenada UTM (X)'],\n",
       "      dtype='object')"
      ]
     },
     "execution_count": 2,
     "metadata": {},
     "output_type": "execute_result"
    }
   ],
   "source": [
    "accidents=pd.read_csv('../datasets/data/Question456/2014_ACCIDENTS_PERSONES_GU_BCN_.csv', encoding= 'unicode_escape')\n",
    "accidents.columns"
   ]
  },
  {
   "cell_type": "code",
   "execution_count": 3,
   "metadata": {
    "scrolled": true
   },
   "outputs": [
    {
     "data": {
      "text/html": [
       "<div>\n",
       "<style scoped>\n",
       "    .dataframe tbody tr th:only-of-type {\n",
       "        vertical-align: middle;\n",
       "    }\n",
       "\n",
       "    .dataframe tbody tr th {\n",
       "        vertical-align: top;\n",
       "    }\n",
       "\n",
       "    .dataframe thead th {\n",
       "        text-align: right;\n",
       "    }\n",
       "</style>\n",
       "<table border=\"1\" class=\"dataframe\">\n",
       "  <thead>\n",
       "    <tr style=\"text-align: right;\">\n",
       "      <th></th>\n",
       "      <th>N£mero d'expedient</th>\n",
       "      <th>Codi districte</th>\n",
       "      <th>Nom districte</th>\n",
       "      <th>Codi barri</th>\n",
       "      <th>Nom barri</th>\n",
       "      <th>Codi carrer</th>\n",
       "      <th>Nom carrer</th>\n",
       "      <th>Num postal caption</th>\n",
       "      <th>Descripci¢ dia setmana</th>\n",
       "      <th>Dia setmana</th>\n",
       "      <th>...</th>\n",
       "      <th>Dia de mes</th>\n",
       "      <th>Hora de dia</th>\n",
       "      <th>Descripci¢ causa vianant</th>\n",
       "      <th>Desc. Tipus vehicle implicat</th>\n",
       "      <th>Descripci¢ sexe</th>\n",
       "      <th>Descripci¢ tipus persona</th>\n",
       "      <th>Edat</th>\n",
       "      <th>Descripci¢ victimitzaci¢</th>\n",
       "      <th>Coordenada UTM (Y)</th>\n",
       "      <th>Coordenada UTM (X)</th>\n",
       "    </tr>\n",
       "  </thead>\n",
       "  <tbody>\n",
       "    <tr>\n",
       "      <th>0</th>\n",
       "      <td>2014S005506</td>\n",
       "      <td>2</td>\n",
       "      <td>Eixample</td>\n",
       "      <td>6</td>\n",
       "      <td>la Sagrada Fam¡lia</td>\n",
       "      <td>178308</td>\n",
       "      <td>Lepant</td>\n",
       "      <td>0222X0222X</td>\n",
       "      <td>Dijous</td>\n",
       "      <td>Dj</td>\n",
       "      <td>...</td>\n",
       "      <td>24</td>\n",
       "      <td>11</td>\n",
       "      <td>No s causa del  vianant</td>\n",
       "      <td>Motocicleta</td>\n",
       "      <td>Home</td>\n",
       "      <td>Conductor</td>\n",
       "      <td>27</td>\n",
       "      <td>Ferit lleu</td>\n",
       "      <td>4583917,29</td>\n",
       "      <td>431591,86</td>\n",
       "    </tr>\n",
       "    <tr>\n",
       "      <th>1</th>\n",
       "      <td>2014S005514</td>\n",
       "      <td>2</td>\n",
       "      <td>Eixample</td>\n",
       "      <td>9</td>\n",
       "      <td>la Nova Esquerra de l'Eixample</td>\n",
       "      <td>245802</td>\n",
       "      <td>Par¡s</td>\n",
       "      <td>0001 0001</td>\n",
       "      <td>Dijous</td>\n",
       "      <td>Dj</td>\n",
       "      <td>...</td>\n",
       "      <td>24</td>\n",
       "      <td>7</td>\n",
       "      <td>No s causa del  vianant</td>\n",
       "      <td>Motocicleta</td>\n",
       "      <td>Home</td>\n",
       "      <td>Conductor</td>\n",
       "      <td>41</td>\n",
       "      <td>Ferit lleu</td>\n",
       "      <td>4582196,98</td>\n",
       "      <td>428465,08</td>\n",
       "    </tr>\n",
       "    <tr>\n",
       "      <th>2</th>\n",
       "      <td>2014S003949</td>\n",
       "      <td>2</td>\n",
       "      <td>Eixample</td>\n",
       "      <td>10</td>\n",
       "      <td>Sant Antoni</td>\n",
       "      <td>308709</td>\n",
       "      <td>Sant Pau</td>\n",
       "      <td>0059 0059</td>\n",
       "      <td>Dijous</td>\n",
       "      <td>Dj</td>\n",
       "      <td>...</td>\n",
       "      <td>29</td>\n",
       "      <td>12</td>\n",
       "      <td>No s causa del  vianant</td>\n",
       "      <td>Turismo</td>\n",
       "      <td>Home</td>\n",
       "      <td>Passatger</td>\n",
       "      <td>51</td>\n",
       "      <td>Ferit lleu</td>\n",
       "      <td>4581206,32</td>\n",
       "      <td>430221,99</td>\n",
       "    </tr>\n",
       "  </tbody>\n",
       "</table>\n",
       "<p>3 rows × 24 columns</p>\n",
       "</div>"
      ],
      "text/plain": [
       "  N£mero d'expedient Codi districte Nom districte Codi barri  \\\n",
       "0        2014S005506              2      Eixample          6   \n",
       "1        2014S005514              2      Eixample          9   \n",
       "2        2014S003949              2      Eixample         10   \n",
       "\n",
       "                        Nom barri Codi carrer Nom carrer Num postal caption  \\\n",
       "0              la Sagrada Fam¡lia      178308     Lepant         0222X0222X   \n",
       "1  la Nova Esquerra de l'Eixample      245802      Par¡s          0001 0001   \n",
       "2                     Sant Antoni      308709   Sant Pau          0059 0059   \n",
       "\n",
       "  Descripci¢ dia setmana Dia setmana  ... Dia de mes  Hora de dia  \\\n",
       "0                 Dijous          Dj  ...         24           11   \n",
       "1                 Dijous          Dj  ...         24            7   \n",
       "2                 Dijous          Dj  ...         29           12   \n",
       "\n",
       "   Descripci¢ causa vianant Desc. Tipus vehicle implicat  Descripci¢ sexe  \\\n",
       "0  No s causa del  vianant                  Motocicleta             Home   \n",
       "1  No s causa del  vianant                  Motocicleta             Home   \n",
       "2  No s causa del  vianant                      Turismo             Home   \n",
       "\n",
       "   Descripci¢ tipus persona Edat Descripci¢ victimitzaci¢ Coordenada UTM (Y)  \\\n",
       "0                 Conductor   27               Ferit lleu         4583917,29   \n",
       "1                 Conductor   41               Ferit lleu         4582196,98   \n",
       "2                 Passatger   51               Ferit lleu         4581206,32   \n",
       "\n",
       "  Coordenada UTM (X)  \n",
       "0          431591,86  \n",
       "1          428465,08  \n",
       "2          430221,99  \n",
       "\n",
       "[3 rows x 24 columns]"
      ]
     },
     "execution_count": 3,
     "metadata": {},
     "output_type": "execute_result"
    }
   ],
   "source": [
    "accidents.head(3)"
   ]
  },
  {
   "cell_type": "code",
   "execution_count": 4,
   "metadata": {},
   "outputs": [],
   "source": [
    "accidents.columns=['Numero_expedient', 'Codi_districte', 'Nom_districte', 'Codi_barri',\n",
    "       'Nom_barri', 'Codi_carrer', 'Nom_carrer', 'Num_postal ',\n",
    "       'Descripcio_dia_setmana', 'Dia_setmana', 'Descripcio_tipus_dia',\n",
    "       'Any', 'Mes_any', 'Nom_mes', 'Dia_mes', 'Hora_dia',\n",
    "       'Descripcio_causa_vianant', 'Desc_Tipus_vehicle_implicat',\n",
    "       'Descripcio_sexe', 'Descripcio_tipus_persona', 'Edat',\n",
    "       'Descripcio_victimitzacio', 'Coordenada UTM (Y)', 'Coordenada UTM (X)']"
   ]
  },
  {
   "cell_type": "code",
   "execution_count": 5,
   "metadata": {},
   "outputs": [],
   "source": [
    "motocyclo_accidents=accidents.drop(['Codi_districte', 'Codi_barri', 'Nom_barri', 'Codi_carrer', 'Nom_carrer', 'Num_postal ', 'Dia_setmana', 'Descripcio_tipus_dia', \n",
    "             'Descripcio_causa_vianant', 'Coordenada UTM (Y)', 'Coordenada UTM (X)'], axis=1, inplace=True)"
   ]
  },
  {
   "cell_type": "code",
   "execution_count": 6,
   "metadata": {},
   "outputs": [],
   "source": [
    "\n",
    "motocyclo_accidents = accidents[accidents['Desc_Tipus_vehicle_implicat'].isin(['Motocicleta', 'Ciclomotor'])]\n",
    "motocyclo_accidents = motocyclo_accidents[motocyclo_accidents.Edat != \"Desconegut\"]\n",
    "motocyclo_accidents = motocyclo_accidents[motocyclo_accidents.Nom_districte != \"Desconegut\"]\n",
    "motocyclo_accidents = motocyclo_accidents[motocyclo_accidents.Descripcio_sexe != \"Desconegut\"]\n",
    "motocyclo_accidents['Edat'] = motocyclo_accidents['Edat'].astype(str).astype(int)\n",
    "motocyclo_accidents = motocyclo_accidents[['Any', 'Numero_expedient', 'Nom_districte', 'Descripcio_dia_setmana', 'Mes_any', 'Nom_mes', 'Dia_mes', \n",
    "                                           'Hora_dia', 'Desc_Tipus_vehicle_implicat', 'Descripcio_sexe', 'Edat', 'Descripcio_tipus_persona', 'Descripcio_victimitzacio']]"
   ]
  },
  {
   "cell_type": "code",
   "execution_count": 7,
   "metadata": {},
   "outputs": [
    {
     "data": {
      "text/html": [
       "<div>\n",
       "<style scoped>\n",
       "    .dataframe tbody tr th:only-of-type {\n",
       "        vertical-align: middle;\n",
       "    }\n",
       "\n",
       "    .dataframe tbody tr th {\n",
       "        vertical-align: top;\n",
       "    }\n",
       "\n",
       "    .dataframe thead th {\n",
       "        text-align: right;\n",
       "    }\n",
       "</style>\n",
       "<table border=\"1\" class=\"dataframe\">\n",
       "  <thead>\n",
       "    <tr style=\"text-align: right;\">\n",
       "      <th></th>\n",
       "      <th>Any</th>\n",
       "      <th>Numero_expedient</th>\n",
       "      <th>Nom_districte</th>\n",
       "      <th>Descripcio_dia_setmana</th>\n",
       "      <th>Mes_any</th>\n",
       "      <th>Nom_mes</th>\n",
       "      <th>Dia_mes</th>\n",
       "      <th>Hora_dia</th>\n",
       "      <th>Desc_Tipus_vehicle_implicat</th>\n",
       "      <th>Descripcio_sexe</th>\n",
       "      <th>Edat</th>\n",
       "      <th>Descripcio_tipus_persona</th>\n",
       "      <th>Descripcio_victimitzacio</th>\n",
       "    </tr>\n",
       "  </thead>\n",
       "  <tbody>\n",
       "    <tr>\n",
       "      <th>0</th>\n",
       "      <td>2014</td>\n",
       "      <td>2014S005506</td>\n",
       "      <td>Eixample</td>\n",
       "      <td>Dijous</td>\n",
       "      <td>7</td>\n",
       "      <td>Juliol</td>\n",
       "      <td>24</td>\n",
       "      <td>11</td>\n",
       "      <td>Motocicleta</td>\n",
       "      <td>Home</td>\n",
       "      <td>27</td>\n",
       "      <td>Conductor</td>\n",
       "      <td>Ferit lleu</td>\n",
       "    </tr>\n",
       "    <tr>\n",
       "      <th>1</th>\n",
       "      <td>2014</td>\n",
       "      <td>2014S005514</td>\n",
       "      <td>Eixample</td>\n",
       "      <td>Dijous</td>\n",
       "      <td>7</td>\n",
       "      <td>Juliol</td>\n",
       "      <td>24</td>\n",
       "      <td>7</td>\n",
       "      <td>Motocicleta</td>\n",
       "      <td>Home</td>\n",
       "      <td>41</td>\n",
       "      <td>Conductor</td>\n",
       "      <td>Ferit lleu</td>\n",
       "    </tr>\n",
       "    <tr>\n",
       "      <th>3</th>\n",
       "      <td>2014</td>\n",
       "      <td>2014S004136</td>\n",
       "      <td>Eixample</td>\n",
       "      <td>Dijous</td>\n",
       "      <td>6</td>\n",
       "      <td>Juny</td>\n",
       "      <td>5</td>\n",
       "      <td>1</td>\n",
       "      <td>Motocicleta</td>\n",
       "      <td>Dona</td>\n",
       "      <td>43</td>\n",
       "      <td>Conductor</td>\n",
       "      <td>Ferit lleu</td>\n",
       "    </tr>\n",
       "    <tr>\n",
       "      <th>4</th>\n",
       "      <td>2014</td>\n",
       "      <td>2014S003641</td>\n",
       "      <td>Les Corts</td>\n",
       "      <td>Dissabte</td>\n",
       "      <td>5</td>\n",
       "      <td>Maig</td>\n",
       "      <td>17</td>\n",
       "      <td>1</td>\n",
       "      <td>Motocicleta</td>\n",
       "      <td>Home</td>\n",
       "      <td>37</td>\n",
       "      <td>Conductor</td>\n",
       "      <td>Ferit lleu</td>\n",
       "    </tr>\n",
       "    <tr>\n",
       "      <th>6</th>\n",
       "      <td>2014</td>\n",
       "      <td>2014S002689</td>\n",
       "      <td>Horta-Guinard¢</td>\n",
       "      <td>Dijous</td>\n",
       "      <td>4</td>\n",
       "      <td>Abril</td>\n",
       "      <td>10</td>\n",
       "      <td>2</td>\n",
       "      <td>Motocicleta</td>\n",
       "      <td>Home</td>\n",
       "      <td>40</td>\n",
       "      <td>Conductor</td>\n",
       "      <td>Ferit lleu</td>\n",
       "    </tr>\n",
       "    <tr>\n",
       "      <th>...</th>\n",
       "      <td>...</td>\n",
       "      <td>...</td>\n",
       "      <td>...</td>\n",
       "      <td>...</td>\n",
       "      <td>...</td>\n",
       "      <td>...</td>\n",
       "      <td>...</td>\n",
       "      <td>...</td>\n",
       "      <td>...</td>\n",
       "      <td>...</td>\n",
       "      <td>...</td>\n",
       "      <td>...</td>\n",
       "      <td>...</td>\n",
       "    </tr>\n",
       "    <tr>\n",
       "      <th>11378</th>\n",
       "      <td>2014</td>\n",
       "      <td>2014S007254</td>\n",
       "      <td>Les Corts</td>\n",
       "      <td>Dimecres</td>\n",
       "      <td>10</td>\n",
       "      <td>Octubre</td>\n",
       "      <td>8</td>\n",
       "      <td>7</td>\n",
       "      <td>Motocicleta</td>\n",
       "      <td>Dona</td>\n",
       "      <td>27</td>\n",
       "      <td>Conductor</td>\n",
       "      <td>Ferit lleu</td>\n",
       "    </tr>\n",
       "    <tr>\n",
       "      <th>11379</th>\n",
       "      <td>2014</td>\n",
       "      <td>2014S007107</td>\n",
       "      <td>Eixample</td>\n",
       "      <td>Divendres</td>\n",
       "      <td>10</td>\n",
       "      <td>Octubre</td>\n",
       "      <td>3</td>\n",
       "      <td>1</td>\n",
       "      <td>Motocicleta</td>\n",
       "      <td>Home</td>\n",
       "      <td>59</td>\n",
       "      <td>Conductor</td>\n",
       "      <td>Ferit lleu</td>\n",
       "    </tr>\n",
       "    <tr>\n",
       "      <th>11380</th>\n",
       "      <td>2014</td>\n",
       "      <td>2014S007724</td>\n",
       "      <td>Eixample</td>\n",
       "      <td>Divendres</td>\n",
       "      <td>10</td>\n",
       "      <td>Octubre</td>\n",
       "      <td>24</td>\n",
       "      <td>12</td>\n",
       "      <td>Motocicleta</td>\n",
       "      <td>Home</td>\n",
       "      <td>32</td>\n",
       "      <td>Conductor</td>\n",
       "      <td>Ferit lleu</td>\n",
       "    </tr>\n",
       "    <tr>\n",
       "      <th>11381</th>\n",
       "      <td>2014</td>\n",
       "      <td>2014S005289</td>\n",
       "      <td>Ciutat Vella</td>\n",
       "      <td>Dijous</td>\n",
       "      <td>7</td>\n",
       "      <td>Juliol</td>\n",
       "      <td>17</td>\n",
       "      <td>3</td>\n",
       "      <td>Motocicleta</td>\n",
       "      <td>Home</td>\n",
       "      <td>47</td>\n",
       "      <td>Conductor</td>\n",
       "      <td>Ferit lleu</td>\n",
       "    </tr>\n",
       "    <tr>\n",
       "      <th>11383</th>\n",
       "      <td>2014</td>\n",
       "      <td>2014S006990</td>\n",
       "      <td>Eixample</td>\n",
       "      <td>Dimarts</td>\n",
       "      <td>9</td>\n",
       "      <td>Setembre</td>\n",
       "      <td>30</td>\n",
       "      <td>8</td>\n",
       "      <td>Ciclomotor</td>\n",
       "      <td>Home</td>\n",
       "      <td>20</td>\n",
       "      <td>Conductor</td>\n",
       "      <td>Ferit lleu</td>\n",
       "    </tr>\n",
       "  </tbody>\n",
       "</table>\n",
       "<p>6738 rows × 13 columns</p>\n",
       "</div>"
      ],
      "text/plain": [
       "        Any Numero_expedient   Nom_districte Descripcio_dia_setmana  Mes_any  \\\n",
       "0      2014      2014S005506        Eixample                 Dijous        7   \n",
       "1      2014      2014S005514        Eixample                 Dijous        7   \n",
       "3      2014      2014S004136        Eixample                 Dijous        6   \n",
       "4      2014      2014S003641       Les Corts               Dissabte        5   \n",
       "6      2014      2014S002689  Horta-Guinard¢                 Dijous        4   \n",
       "...     ...              ...             ...                    ...      ...   \n",
       "11378  2014      2014S007254       Les Corts               Dimecres       10   \n",
       "11379  2014      2014S007107        Eixample              Divendres       10   \n",
       "11380  2014      2014S007724        Eixample              Divendres       10   \n",
       "11381  2014      2014S005289    Ciutat Vella                 Dijous        7   \n",
       "11383  2014      2014S006990        Eixample                Dimarts        9   \n",
       "\n",
       "        Nom_mes  Dia_mes  Hora_dia Desc_Tipus_vehicle_implicat  \\\n",
       "0        Juliol       24        11                 Motocicleta   \n",
       "1        Juliol       24         7                 Motocicleta   \n",
       "3          Juny        5         1                 Motocicleta   \n",
       "4          Maig       17         1                 Motocicleta   \n",
       "6         Abril       10         2                 Motocicleta   \n",
       "...         ...      ...       ...                         ...   \n",
       "11378   Octubre        8         7                 Motocicleta   \n",
       "11379   Octubre        3         1                 Motocicleta   \n",
       "11380   Octubre       24        12                 Motocicleta   \n",
       "11381    Juliol       17         3                 Motocicleta   \n",
       "11383  Setembre       30         8                  Ciclomotor   \n",
       "\n",
       "      Descripcio_sexe  Edat Descripcio_tipus_persona Descripcio_victimitzacio  \n",
       "0                Home    27                Conductor               Ferit lleu  \n",
       "1                Home    41                Conductor               Ferit lleu  \n",
       "3                Dona    43                Conductor               Ferit lleu  \n",
       "4                Home    37                Conductor               Ferit lleu  \n",
       "6                Home    40                Conductor               Ferit lleu  \n",
       "...               ...   ...                      ...                      ...  \n",
       "11378            Dona    27                Conductor               Ferit lleu  \n",
       "11379            Home    59                Conductor               Ferit lleu  \n",
       "11380            Home    32                Conductor               Ferit lleu  \n",
       "11381            Home    47                Conductor               Ferit lleu  \n",
       "11383            Home    20                Conductor               Ferit lleu  \n",
       "\n",
       "[6738 rows x 13 columns]"
      ]
     },
     "execution_count": 7,
     "metadata": {},
     "output_type": "execute_result"
    }
   ],
   "source": [
    "motocyclo_accidents"
   ]
  },
  {
   "cell_type": "code",
   "execution_count": 8,
   "metadata": {},
   "outputs": [
    {
     "data": {
      "text/plain": [
       "Eixample               2340\n",
       "Sarri\n",
       "-Sant Gervasi     817\n",
       "Sant Mart¡              728\n",
       "Sants-Montjuc          641\n",
       "Les Corts               480\n",
       "Horta-Guinard¢          412\n",
       "Gr\n",
       "cia                  357\n",
       "Sant Andreu             335\n",
       "Nou Barris              315\n",
       "Ciutat Vella            313\n",
       "Name: Nom_districte, dtype: int64"
      ]
     },
     "execution_count": 8,
     "metadata": {},
     "output_type": "execute_result"
    }
   ],
   "source": [
    "motocyclo_accidents['Nom_districte'].value_counts()"
   ]
  },
  {
   "cell_type": "code",
   "execution_count": 9,
   "metadata": {},
   "outputs": [
    {
     "data": {
      "text/plain": [
       "Divendres    1164\n",
       "Dimecres     1147\n",
       "Dijous       1134\n",
       "Dimarts      1104\n",
       "Dilluns      1056\n",
       "Dissabte      643\n",
       "Diumenge      490\n",
       "Name: Descripcio_dia_setmana, dtype: int64"
      ]
     },
     "execution_count": 9,
     "metadata": {},
     "output_type": "execute_result"
    }
   ],
   "source": [
    "motocyclo_accidents['Descripcio_dia_setmana'].value_counts()"
   ]
  },
  {
   "cell_type": "code",
   "execution_count": 10,
   "metadata": {},
   "outputs": [
    {
     "data": {
      "text/plain": [
       "Octubre     688\n",
       "Juliol      639\n",
       "Desembre    597\n",
       "Abril       585\n",
       "Novembre    579\n",
       "Mar        572\n",
       "Juny        551\n",
       "Febrer      539\n",
       "Gener       537\n",
       "Maig        513\n",
       "Setembre    509\n",
       "Agost       429\n",
       "Name: Nom_mes, dtype: int64"
      ]
     },
     "execution_count": 10,
     "metadata": {},
     "output_type": "execute_result"
    }
   ],
   "source": [
    "motocyclo_accidents['Nom_mes'].value_counts()"
   ]
  },
  {
   "cell_type": "code",
   "execution_count": 11,
   "metadata": {},
   "outputs": [
    {
     "data": {
      "text/plain": [
       "10    292\n",
       "4     254\n",
       "17    251\n",
       "14    245\n",
       "19    239\n",
       "13    238\n",
       "5     233\n",
       "11    232\n",
       "28    231\n",
       "27    231\n",
       "3     230\n",
       "21    229\n",
       "1     222\n",
       "23    222\n",
       "16    219\n",
       "7     216\n",
       "20    215\n",
       "22    215\n",
       "26    213\n",
       "25    210\n",
       "9     208\n",
       "29    205\n",
       "30    201\n",
       "6     200\n",
       "24    199\n",
       "2     196\n",
       "18    195\n",
       "15    193\n",
       "12    189\n",
       "8     188\n",
       "31    127\n",
       "Name: Dia_mes, dtype: int64"
      ]
     },
     "execution_count": 11,
     "metadata": {},
     "output_type": "execute_result"
    }
   ],
   "source": [
    "motocyclo_accidents['Dia_mes'].value_counts()"
   ]
  },
  {
   "cell_type": "code",
   "execution_count": 12,
   "metadata": {},
   "outputs": [
    {
     "data": {
      "text/plain": [
       "8     838\n",
       "9     727\n",
       "7     659\n",
       "2     557\n",
       "1     549\n",
       "11    536\n",
       "10    511\n",
       "3     492\n",
       "6     491\n",
       "12    488\n",
       "5     452\n",
       "4     438\n",
       "Name: Hora_dia, dtype: int64"
      ]
     },
     "execution_count": 12,
     "metadata": {},
     "output_type": "execute_result"
    }
   ],
   "source": [
    "motocyclo_accidents['Hora_dia'].value_counts()"
   ]
  },
  {
   "cell_type": "code",
   "execution_count": 13,
   "metadata": {},
   "outputs": [
    {
     "data": {
      "text/plain": [
       "Motocicleta    5499\n",
       "Ciclomotor     1239\n",
       "Name: Desc_Tipus_vehicle_implicat, dtype: int64"
      ]
     },
     "execution_count": 13,
     "metadata": {},
     "output_type": "execute_result"
    }
   ],
   "source": [
    "motocyclo_accidents['Desc_Tipus_vehicle_implicat'].value_counts()"
   ]
  },
  {
   "cell_type": "code",
   "execution_count": 14,
   "metadata": {},
   "outputs": [
    {
     "data": {
      "text/plain": [
       "Home    4548\n",
       "Dona    2190\n",
       "Name: Descripcio_sexe, dtype: int64"
      ]
     },
     "execution_count": 14,
     "metadata": {},
     "output_type": "execute_result"
    }
   ],
   "source": [
    "motocyclo_accidents['Descripcio_sexe'].value_counts()"
   ]
  },
  {
   "cell_type": "code",
   "execution_count": 15,
   "metadata": {},
   "outputs": [
    {
     "data": {
      "text/plain": [
       "Age\n",
       "-14s        852\n",
       "15-20s     8019\n",
       "21-29s    48454\n",
       "30-39s    63348\n",
       "40-49s    58648\n",
       "50-59s    42124\n",
       "60-65s    10492\n",
       "66-75s     7344\n",
       "+75s         76\n",
       "Name: Edat, dtype: int64"
      ]
     },
     "execution_count": 15,
     "metadata": {},
     "output_type": "execute_result"
    }
   ],
   "source": [
    "motocyclo_accidents['Age'] = pd.cut(motocyclo_accidents['Edat'], bins=[0, 14, 20, 29, 39, 49, 59, 65, 75, 76], labels=[\"-14s\", \"15-20s\", \"21-29s\",\"30-39s\",\n",
    "                                                                                                                        \"40-49s\", \"50-59s\", \"60-65s\", \"66-75s\", \"+75s\"])                                                                                    \n",
    "motocyclo_accidents.groupby('Age')['Edat'].sum()"
   ]
  },
  {
   "cell_type": "code",
   "execution_count": 16,
   "metadata": {},
   "outputs": [
    {
     "data": {
      "text/plain": [
       "Conductor    5727\n",
       "Passatger     697\n",
       "Vianant       314\n",
       "Name: Descripcio_tipus_persona, dtype: int64"
      ]
     },
     "execution_count": 16,
     "metadata": {},
     "output_type": "execute_result"
    }
   ],
   "source": [
    "motocyclo_accidents['Descripcio_tipus_persona'].value_counts()"
   ]
  },
  {
   "cell_type": "code",
   "execution_count": null,
   "metadata": {},
   "outputs": [],
   "source": [
    "motocyclo_accidents['Descripcio_victimitzacio'].value_counts()"
   ]
  },
  {
   "cell_type": "code",
   "execution_count": null,
   "metadata": {},
   "outputs": [],
   "source": [
    "motocyclo_accidents.groupby(['Nom_districte'])['Descripcio_victimitzacio'].count()"
   ]
  },
  {
   "cell_type": "code",
   "execution_count": null,
   "metadata": {},
   "outputs": [],
   "source": [
    "districte_victimes = pd.crosstab(index=motocyclo_accidents['Nom_districte'], columns=motocyclo_accidents['Descripcio_victimitzacio'], \n",
    "                  values=motocyclo_accidents['Numero_expedient'], aggfunc='count')\n",
    "districte_victimes.columns"
   ]
  },
  {
   "cell_type": "code",
   "execution_count": null,
   "metadata": {},
   "outputs": [],
   "source": [
    "districte_victimes"
   ]
  },
  {
   "cell_type": "code",
   "execution_count": null,
   "metadata": {},
   "outputs": [],
   "source": [
    "districte_victimes.columns=[[\"Ferit lleu\", \"Ferit greu\", \"Mort\"]]"
   ]
  },
  {
   "cell_type": "code",
   "execution_count": null,
   "metadata": {},
   "outputs": [],
   "source": [
    "districte_victimes"
   ]
  },
  {
   "cell_type": "code",
   "execution_count": null,
   "metadata": {},
   "outputs": [],
   "source": []
  },
  {
   "cell_type": "code",
   "execution_count": null,
   "metadata": {},
   "outputs": [],
   "source": []
  },
  {
   "cell_type": "code",
   "execution_count": null,
   "metadata": {},
   "outputs": [],
   "source": []
  },
  {
   "cell_type": "code",
   "execution_count": null,
   "metadata": {},
   "outputs": [],
   "source": []
  }
 ],
 "metadata": {
  "kernelspec": {
   "display_name": "Python 3",
   "language": "python",
   "name": "python3"
  },
  "language_info": {
   "codemirror_mode": {
    "name": "ipython",
    "version": 3
   },
   "file_extension": ".py",
   "mimetype": "text/x-python",
   "name": "python",
   "nbconvert_exporter": "python",
   "pygments_lexer": "ipython3",
   "version": "3.8.5"
  }
 },
 "nbformat": 4,
 "nbformat_minor": 4
}
